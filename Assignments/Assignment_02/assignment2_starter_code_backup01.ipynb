{
 "cells": [
  {
   "cell_type": "markdown",
   "metadata": {
    "id": "OdOKID9Le3d1"
   },
   "source": [
    "In this excercise we will run a basic RNN based language model and answer some questions about the code. It is advised to use GPU to run this. First run the code then answer the questions below that require modifying it."
   ]
  },
  {
   "cell_type": "code",
   "execution_count": 1,
   "metadata": {
    "colab": {
     "base_uri": "https://localhost:8080/"
    },
    "id": "CTOJyYyujICY",
    "outputId": "77f12a92-8869-4fd4-9577-09ce1871e750"
   },
   "outputs": [
    {
     "name": "stdout",
     "output_type": "stream",
     "text": [
      "fatal: destination path 'pytorch-tutorial' already exists and is not an empty directory.\n",
      "/content/pytorch-tutorial/tutorials/02-intermediate/language_model\n"
     ]
    }
   ],
   "source": [
    "# Some part of the code was referenced from below.\n",
    "# https://github.com/pytorch/examples/tree/master/word_language_model \n",
    "# https://github.com/yunjey/pytorch-tutorial/tree/master/tutorials/02-intermediate/language_model\n",
    "\n",
    "! git clone https://github.com/yunjey/pytorch-tutorial/\n",
    "%cd pytorch-tutorial/tutorials/02-intermediate/language_model/\n",
    "\n",
    "import torch\n",
    "import torch.nn as nn\n",
    "import numpy as np\n",
    "from torch.nn.utils import clip_grad_norm_\n",
    "\n",
    "# Device configuration\n",
    "device = torch.device('cuda' if torch.cuda.is_available() else 'cpu')\n",
    "\n",
    "# Hyper-parameters\n",
    "embed_size = 128\n",
    "hidden_size = 1024\n",
    "num_layers = 1\n",
    "num_epochs = 5\n",
    "num_samples = 50     # number of words to be sampled\n",
    "batch_size = 20\n",
    "seq_length = 30\n",
    "learning_rate = 0.002\n"
   ]
  },
  {
   "cell_type": "code",
   "execution_count": 44,
   "metadata": {
    "colab": {
     "base_uri": "https://localhost:8080/"
    },
    "id": "tzj73P_QeBEA",
    "outputId": "e359fbac-dda6-4870-9dc0-c2e5e5db7225"
   },
   "outputs": [
    {
     "name": "stdout",
     "output_type": "stream",
     "text": [
      "tensor([[   0,    1,    2,  ...,  152, 4955, 4150],\n",
      "        [  93,  718,  590,  ...,  170, 6784,  133],\n",
      "        [  27,  930,   42,  ...,  392, 4864,   26],\n",
      "        ...,\n",
      "        [ 997,   42,  507,  ...,  682, 6849, 6344],\n",
      "        [ 392, 5518, 3034,  ..., 2264,   42, 3401],\n",
      "        [4210,  467, 1496,  ..., 9999,  119, 1143]])\n",
      "10000\n",
      "1549\n"
     ]
    }
   ],
   "source": [
    "from data_utils import Dictionary, Corpus\n",
    "\n",
    "# Load \"Penn Treebank\" dataset\n",
    "corpus = Corpus()\n",
    "ids = corpus.get_data('data/train.txt', batch_size)\n",
    "print(ids)\n",
    "vocab_size = len(corpus.dictionary)\n",
    "print(vocab_size)\n",
    "num_batches = ids.size(1) // seq_length\n",
    "print(num_batches)"
   ]
  },
  {
   "cell_type": "markdown",
   "metadata": {
    "id": "MKzalmp8dndK"
   },
   "source": [
    "Model definition"
   ]
  },
  {
   "cell_type": "code",
   "execution_count": 3,
   "metadata": {
    "id": "QZTjM5fQri35"
   },
   "outputs": [],
   "source": [
    "# RNN based language model\n",
    "class RNNLM(nn.Module):\n",
    "    def __init__(self, vocab_size, embed_size, hidden_size, num_layers):\n",
    "        super(RNNLM, self).__init__()\n",
    "        self.embed = nn.Embedding(vocab_size, embed_size)\n",
    "        self.lstm = nn.LSTM(embed_size, hidden_size, num_layers, batch_first=True)\n",
    "        self.linear = nn.Linear(hidden_size, vocab_size)\n",
    "        \n",
    "    def forward(self, x, h):\n",
    "        # Embed word ids to vectors\n",
    "        x = self.embed(x)\n",
    "        \n",
    "        # Forward propagate LSTM\n",
    "        out, (h, c) = self.lstm(x, h)\n",
    "        \n",
    "        # Reshape output to (batch_size*sequence_length, hidden_size)\n",
    "        out = out.reshape(out.size(0)*out.size(1), out.size(2))\n",
    "        \n",
    "        # Decode hidden states of all time steps\n",
    "        out = self.linear(out)\n",
    "        return out, (h, c)"
   ]
  },
  {
   "cell_type": "markdown",
   "metadata": {
    "id": "S_fjTZ6wdpae"
   },
   "source": [
    "Training .. should take a few minutes with GPU"
   ]
  },
  {
   "cell_type": "code",
   "execution_count": 4,
   "metadata": {
    "colab": {
     "base_uri": "https://localhost:8080/"
    },
    "id": "DsaIIUUHjQ5n",
    "outputId": "24ae635e-c43e-4aaa-b374-ef20f0dcdca5"
   },
   "outputs": [
    {
     "name": "stdout",
     "output_type": "stream",
     "text": [
      "Epoch [1/5], Step[0/1549], Loss: 9.2154, Perplexity: 10050.66\n",
      "Epoch [1/5], Step[100/1549], Loss: 6.0428, Perplexity: 421.07\n",
      "Epoch [1/5], Step[200/1549], Loss: 5.9603, Perplexity: 387.74\n",
      "Epoch [1/5], Step[300/1549], Loss: 5.7509, Perplexity: 314.47\n",
      "Epoch [1/5], Step[400/1549], Loss: 5.6951, Perplexity: 297.40\n",
      "Epoch [1/5], Step[500/1549], Loss: 5.1242, Perplexity: 168.05\n",
      "Epoch [1/5], Step[600/1549], Loss: 5.1864, Perplexity: 178.83\n",
      "Epoch [1/5], Step[700/1549], Loss: 5.3664, Perplexity: 214.10\n",
      "Epoch [1/5], Step[800/1549], Loss: 5.2182, Perplexity: 184.60\n",
      "Epoch [1/5], Step[900/1549], Loss: 5.0592, Perplexity: 157.46\n",
      "Epoch [1/5], Step[1000/1549], Loss: 5.0750, Perplexity: 159.97\n",
      "Epoch [1/5], Step[1100/1549], Loss: 5.3712, Perplexity: 215.11\n",
      "Epoch [1/5], Step[1200/1549], Loss: 5.1832, Perplexity: 178.25\n",
      "Epoch [1/5], Step[1300/1549], Loss: 5.1171, Perplexity: 166.84\n",
      "Epoch [1/5], Step[1400/1549], Loss: 4.8107, Perplexity: 122.82\n",
      "Epoch [1/5], Step[1500/1549], Loss: 5.1486, Perplexity: 172.20\n",
      "Epoch [2/5], Step[0/1549], Loss: 5.4245, Perplexity: 226.89\n",
      "Epoch [2/5], Step[100/1549], Loss: 4.5731, Perplexity: 96.85\n",
      "Epoch [2/5], Step[200/1549], Loss: 4.6927, Perplexity: 109.14\n",
      "Epoch [2/5], Step[300/1549], Loss: 4.6652, Perplexity: 106.19\n",
      "Epoch [2/5], Step[400/1549], Loss: 4.5912, Perplexity: 98.61\n",
      "Epoch [2/5], Step[500/1549], Loss: 4.0974, Perplexity: 60.18\n",
      "Epoch [2/5], Step[600/1549], Loss: 4.4198, Perplexity: 83.08\n",
      "Epoch [2/5], Step[700/1549], Loss: 4.4268, Perplexity: 83.66\n",
      "Epoch [2/5], Step[800/1549], Loss: 4.4558, Perplexity: 86.12\n",
      "Epoch [2/5], Step[900/1549], Loss: 4.2247, Perplexity: 68.36\n",
      "Epoch [2/5], Step[1000/1549], Loss: 4.3176, Perplexity: 75.00\n",
      "Epoch [2/5], Step[1100/1549], Loss: 4.5346, Perplexity: 93.18\n",
      "Epoch [2/5], Step[1200/1549], Loss: 4.4663, Perplexity: 87.04\n",
      "Epoch [2/5], Step[1300/1549], Loss: 4.2586, Perplexity: 70.71\n",
      "Epoch [2/5], Step[1400/1549], Loss: 3.9051, Perplexity: 49.66\n",
      "Epoch [2/5], Step[1500/1549], Loss: 4.3613, Perplexity: 78.36\n",
      "Epoch [3/5], Step[0/1549], Loss: 4.4603, Perplexity: 86.51\n",
      "Epoch [3/5], Step[100/1549], Loss: 3.8699, Perplexity: 47.94\n",
      "Epoch [3/5], Step[200/1549], Loss: 4.0718, Perplexity: 58.66\n",
      "Epoch [3/5], Step[300/1549], Loss: 3.9270, Perplexity: 50.76\n",
      "Epoch [3/5], Step[400/1549], Loss: 3.9246, Perplexity: 50.64\n",
      "Epoch [3/5], Step[500/1549], Loss: 3.3873, Perplexity: 29.59\n",
      "Epoch [3/5], Step[600/1549], Loss: 3.7703, Perplexity: 43.40\n",
      "Epoch [3/5], Step[700/1549], Loss: 3.8043, Perplexity: 44.89\n",
      "Epoch [3/5], Step[800/1549], Loss: 3.8573, Perplexity: 47.34\n",
      "Epoch [3/5], Step[900/1549], Loss: 3.5485, Perplexity: 34.76\n",
      "Epoch [3/5], Step[1000/1549], Loss: 3.6283, Perplexity: 37.65\n",
      "Epoch [3/5], Step[1100/1549], Loss: 3.7443, Perplexity: 42.28\n",
      "Epoch [3/5], Step[1200/1549], Loss: 3.8194, Perplexity: 45.58\n",
      "Epoch [3/5], Step[1300/1549], Loss: 3.5264, Perplexity: 34.00\n",
      "Epoch [3/5], Step[1400/1549], Loss: 3.1919, Perplexity: 24.34\n",
      "Epoch [3/5], Step[1500/1549], Loss: 3.6495, Perplexity: 38.46\n",
      "Epoch [4/5], Step[0/1549], Loss: 3.5889, Perplexity: 36.19\n",
      "Epoch [4/5], Step[100/1549], Loss: 3.2794, Perplexity: 26.56\n",
      "Epoch [4/5], Step[200/1549], Loss: 3.4924, Perplexity: 32.86\n",
      "Epoch [4/5], Step[300/1549], Loss: 3.3518, Perplexity: 28.55\n",
      "Epoch [4/5], Step[400/1549], Loss: 3.4131, Perplexity: 30.36\n",
      "Epoch [4/5], Step[500/1549], Loss: 2.8256, Perplexity: 16.87\n",
      "Epoch [4/5], Step[600/1549], Loss: 3.3928, Perplexity: 29.75\n",
      "Epoch [4/5], Step[700/1549], Loss: 3.2491, Perplexity: 25.77\n",
      "Epoch [4/5], Step[800/1549], Loss: 3.4220, Perplexity: 30.63\n",
      "Epoch [4/5], Step[900/1549], Loss: 3.0265, Perplexity: 20.63\n",
      "Epoch [4/5], Step[1000/1549], Loss: 3.2141, Perplexity: 24.88\n",
      "Epoch [4/5], Step[1100/1549], Loss: 3.2332, Perplexity: 25.36\n",
      "Epoch [4/5], Step[1200/1549], Loss: 3.3068, Perplexity: 27.30\n",
      "Epoch [4/5], Step[1300/1549], Loss: 3.0439, Perplexity: 20.99\n",
      "Epoch [4/5], Step[1400/1549], Loss: 2.6748, Perplexity: 14.51\n",
      "Epoch [4/5], Step[1500/1549], Loss: 3.1453, Perplexity: 23.23\n",
      "Epoch [5/5], Step[0/1549], Loss: 3.0393, Perplexity: 20.89\n",
      "Epoch [5/5], Step[100/1549], Loss: 2.8959, Perplexity: 18.10\n",
      "Epoch [5/5], Step[200/1549], Loss: 3.1254, Perplexity: 22.77\n",
      "Epoch [5/5], Step[300/1549], Loss: 2.9773, Perplexity: 19.63\n",
      "Epoch [5/5], Step[400/1549], Loss: 3.0717, Perplexity: 21.58\n",
      "Epoch [5/5], Step[500/1549], Loss: 2.5135, Perplexity: 12.35\n",
      "Epoch [5/5], Step[600/1549], Loss: 3.0250, Perplexity: 20.59\n",
      "Epoch [5/5], Step[700/1549], Loss: 2.9458, Perplexity: 19.03\n",
      "Epoch [5/5], Step[800/1549], Loss: 3.0710, Perplexity: 21.56\n",
      "Epoch [5/5], Step[900/1549], Loss: 2.7675, Perplexity: 15.92\n",
      "Epoch [5/5], Step[1000/1549], Loss: 2.8360, Perplexity: 17.05\n",
      "Epoch [5/5], Step[1100/1549], Loss: 2.8814, Perplexity: 17.84\n",
      "Epoch [5/5], Step[1200/1549], Loss: 2.9925, Perplexity: 19.94\n",
      "Epoch [5/5], Step[1300/1549], Loss: 2.7103, Perplexity: 15.03\n",
      "Epoch [5/5], Step[1400/1549], Loss: 2.3566, Perplexity: 10.56\n",
      "Epoch [5/5], Step[1500/1549], Loss: 2.8948, Perplexity: 18.08\n"
     ]
    }
   ],
   "source": [
    "model = RNNLM(vocab_size, embed_size, hidden_size, num_layers).to(device)\n",
    "\n",
    "# Loss and optimizer\n",
    "criterion = nn.CrossEntropyLoss()\n",
    "optimizer = torch.optim.Adam(model.parameters(), lr=learning_rate)\n",
    "\n",
    "# Truncated backpropagation\n",
    "def detach(states):\n",
    "    return [state.detach() for state in states] \n",
    "\n",
    "\n",
    "# Train the model\n",
    "for epoch in range(num_epochs):\n",
    "    # Set initial hidden and cell states\n",
    "    states = (torch.zeros(num_layers, batch_size, hidden_size).to(device),\n",
    "              torch.zeros(num_layers, batch_size, hidden_size).to(device))\n",
    "    \n",
    "    for i in range(0, ids.size(1) - seq_length, seq_length):\n",
    "        # Get mini-batch inputs and targets\n",
    "        inputs = ids[:, i:i+seq_length].to(device)\n",
    "        targets = ids[:, (i+1):(i+1)+seq_length].to(device)\n",
    "        \n",
    "        # Forward pass\n",
    "        states = detach(states)\n",
    "        outputs, states = model(inputs, states)\n",
    "        loss = criterion(outputs, targets.reshape(-1))\n",
    "        \n",
    "        # Backward and optimize\n",
    "        optimizer.zero_grad()\n",
    "        loss.backward()\n",
    "        clip_grad_norm_(model.parameters(), 0.5)\n",
    "        optimizer.step()\n",
    "\n",
    "        step = (i+1) // seq_length\n",
    "        if step % 100 == 0:\n",
    "            print ('Epoch [{}/{}], Step[{}/{}], Loss: {:.4f}, Perplexity: {:5.2f}'\n",
    "                   .format(epoch+1, num_epochs, step, num_batches, loss.item(), np.exp(loss.item())))"
   ]
  },
  {
   "cell_type": "markdown",
   "metadata": {
    "id": "mLFt21uhjh04"
   },
   "source": [
    "Q2 (a) (10 points) The above code implements a version of truncated backpropagation through time. The implementation only requires the detach() function (L7-9 of the cell) defined above the loop and used once inside the training loop. Explain the implementation (compared to not using truncated backprop through time). What does the detach() call here achieve? Draw a computational graph.  You may choose to answer this question outside the notebook. When using using line 7-9 we will typically observe less GPU memory being used during training, explain why in your answer.\n"
   ]
  },
  {
   "cell_type": "markdown",
   "metadata": {
    "id": "YGZExgzdLlJn"
   },
   "source": [
    "# **Q2.a Answer**\n",
    "### main problems of BPTT\n",
    "\n",
    "*   high cost of a single parameter update, which makes it impossible to use a large number of iterations.\n",
    "*   the gradient becomes too small with long sequances.  if the number of time steps is long then far past sequance information will effectively be discarded.\n",
    "*   large memoery and train time reqired to maintain the large sequence gradient updates through online backpropagation \n",
    "\n",
    "\n",
    "\n",
    "\n",
    "\n",
    "\n",
    "\n"
   ]
  },
  {
   "cell_type": "markdown",
   "metadata": {
    "id": "CW9-11EDUmqk"
   },
   "source": [
    "https://mmuratarat.github.io/2019-02-07/bptt-of-rnn\n",
    "\n",
    "https://d2l.ai/chapter_recurrent-neural-networks/bptt.html#equation-eq-bptt-partial-ht-wh-gen\n",
    "\n",
    "# gradient computation for RNN sequance\n",
    "\n",
    "<img src=\"https://d2l.ai/_images/rnn-bptt.svg\"/>\n",
    "\n",
    "![image.png](data:image/png;base64,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)\n",
    "![image.png](data:image/png;base64,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)\n",
    "![image.png](data:image/png;base64,iVBORw0KGgoAAAANSUhEUgAAAocAAABnCAYAAAByz+hJAAAgAElEQVR4Ae1d+4dbW9j+/sn9y2aIYTNmG2KYqMbQKFEaNVGaMlGVctIfmkPjqBxOykhVyhEq/VRqzKHyqakSRigxPJ93XfZe+5JkJ5PrzDuM7OzsvS7Puj3rva3/Af8xAowAI8AIMAKMACPACDACCoH/YSQYAUaAEWAEGAFGgBFgBBgBjQCTQ40EfyZH4Dr5o/wkI8AIMAKMACPACGwXAkwO522v6xGGPy/Q/dBA9U0Hg3nTmfG90VUfvRXnCfTRelFE7sBFyrZQ/jxjoac9/rOBrG2j8GFVKKoCrSvfaXiEfr/8Owt7p4DWNHhGQ1z+10XzzxKa56FE+OvqERi2ULAsWKF/+1kHIwzQfBj9zbLL6IqSxvxul9AZrb4am5rjeubC6WgspVxqbLfeVdH6Pr0M/AQjcFMEmBzOi+D3FsovCsjYFqz7DVzOm84s7111UX+eg0OLzaryNMo3eF8QC93CyeF5FY5lI/v3SlD0a7SufP0SJLq6eO3AsrNo/Jz8eP+sjMKRvZw2mpw1/zoBgcu/MpIgHtWj88T3GlxBHjOo/4gmMjzLi7avf2dWGEBnzXNhoCzmlyWVi8Z26YHDY9vEmq+XigCTwxvC23m2aqJ2icb9VeepQFIL2cLJ4Q3bgF83EPhc5gXEgGMTLi/fZSU5jNvQ/agjI8hhHPkfoJW3Ufw43IRqbGAZ1jgXTkRjSeUiTYe1BM3NxLrwj3cVASaH1PLDNoovpDJn1o7QPV0iURtTrtUTUoXK1k5OQ7RPtLpu1hbe3Of7b4pRaaIiG0zg/XaLxcn/2bhaUj9RhN2yon2w90pKgyzLRS2kLhx9LiMVRyiNEt+Zy02bC6cAv5Q5emvn3ylg8c8biQCTw6sL1I5tWKcbRg4nlGuphHRSN13W5HQ9ErZy3R9LUJ1dD3HxJgs7ZmHGMvOdhOOsv/2+xMWXLi5/+y9efijCsWKkTctqIz/rrboai1O4FpP6SfjZWb+PI4fUVrsppJRNYoDQX/dRO3RQ+TZrZrfw+U2cC6fAvJQ5msf2FNT550UiECCHg/d54XAgDahtOE+aytGij/pxBT3lpUq2Z86ONKa2X/a88gzPmyg9cOHuu3B2bKRPGriYphGhSfl9Cbl9F+6BA9tOIf2ohp56b3jeQPGeA8dx4e7asJ0cKh3fMn/0vYXq8zwyTk5IUS7/rSB/lIHr2LB3s4FnvYJ6FwO0TqSThbXjwD1w4eo6Xw/QeZmD69B9Va6Y+piTgImLZafg/jEvNhPKBUDn2f/ZQfVxFplDXb4WLiOexCF8d9IovrvAtGbB9aWovyPq78I9rqDzpR6v1vjVQfVRWrQ7tVGKnv2lQL4eYaCcJPKvOhhdD9F9nRX9zH7Sxv/+mfH6UvadtDns/aHahBZNE8evVe9Z+6Hsm4NOBbl9B47qc6nDIhrnfu0GZ0XRbyzLhkPte1BA8xdwEcm3h+p+CrZaqO1dF9Wvsg69Pxx130buH933ZsG1h6ojbQFpbJlpjz4VkX+v0zTKYOfQ/HWB2pHO2yCC32pIi/RspMS48csKvYB0ZPnEWFDjpvrVx8UbAsbFqN8DGbwXTxroA+i/LyK9Y8Her+FCPzeprekZ0b4ZOV4Pcig9K0vp5u9L6bx1koP7qIkLMa5prkghRWP63xh7UxqDr/NIUx2pbeLG86T5YxJOuj7qc1w/8R772UHlgZqHHAfOA3L6mYyn965nV5hH60rflSrj/FkT5RhyODjLw3nWmT5OdXI3/by6QOMkLduNxtNhHlWjTWYZk8CUsfFbOdWdFNEQHa2JYtqGZbuoRRyp1jUXDtB85M8HtD4U9Djt15H11r0Bmk/0GLVRUXPGbHM0QOtWjvrVgQuac3PPm7jw+opqXD22ww6BScZJuH9cdVGldZXmxAcllF6E7OaTpKnWSGc3JdfOYzkmSOJdEWUconOaVpzCkJpfdVE5VthGJOOT+87gcw1lmkN2y+jS2H9XQvYoLblBOjj36yqHeUnqMI+aORcmqatOTH1O4yXisWkYh9LctK8BcigK972GNE1WpiTtWwUpK+V1fPHcv0VYaoGm78PPZThWGhUN+vUl6vct2PnWBE/eIbqnDuzjOvqa1NDAsy1k/6YFs4/agQXrsC4WK5p02ic0iVDHUFCS1/CXqjDqzh4XUO7oCXuIzrMULMuckNU7gQ9lH2LWF8DoYxFEKIqflDRL4aIJjE5CTwJ6aRv8k4N9XAsM7PmwiS8X5Svy3HWQeWaQwfOqaLf0W5pt9Z/E1zqseGQbP4jg2cifaUKinzU+r4mk2EjR4qRxvuqgvG8LkhSQcPyQnsY+wVG476nNBJGC92XluFNH63UWpXdNVB64yLzqQqCrVKEmtsNOSUpUQu0CksLcr0sS/LuNIpGtp22ZjpC2RNX80ubLmJx0VSP56j4TteshzLN/6VaeB1fVdwPSviFaeSswjqjP1w+DY006NBjkkMovpFGhe3RfLSDOfgE1TV6uh2iJcVNE25A+ahjk5wAXH+oo7NGmr4zmWQH5103UTzKCzImaT2trmgc+FKCJOxHFzrO8JIdik9BEcdeCRX33hd+3huc14a3uvvY3U7Q5aRzbsB81MVB9UPYJU5o2bf6YgFOw8uLbuH4ix6+D4kd/zAw7NN85KHzQfSImQX1LtYlltL2vMlbj3LLg9f9hB6W9/HTvdJ3+TT9Vu2bfGJtGMQ/byLzuybFFbZtkTGL62Bj810L9sXKueN9CIV9F820RmYM8mrFOV+ubC/tv0hEb3t6rFKxdX1hC8HeeWshp8jjPHL1XRNvbUBOpcmDtFdAy8Ygjh4nGSbiDDNF6bPvlveqglDfIYZI09TPm2k1rxJ4DZy84f/bfuGJOCermLlE/Cs/V0/uO0PYIx0gX2YcF1PVyp/iGaBejumLs2lnjORJ02bCOG5KX6HpMnGeMBMVlAl6CKRiHk8RAtIm9X0F37BwdeWmpN6LkUIdYMBh97yWRLAspb7cE9F46PnG67qFCk/6JWqRVkeVkm0VDd/pwVb4S6bSjoVF+DzESC8IIvb/LaGjCCcBL0xw0v6Shrlk+kdWXcpTMhMuAMRPPzzaqf7QNSVxX7vBDZMUkh7RgZB4bhI3ymhebceXSE48dXuhVh9WdnvIW+FoofjTVtaq+5nMhTPpvaUJM+wNK/94phSZKFW7joKbIu3pQEBcb5S/6RUDY4Ng2Mm/0aPZ/04TGWxzFT0SSzI2BfJ4ma4+w4xLtP6poG16eoj1CKuRxi35svv16DMkmFZ+B95y4yvYw+vugiZyQGuXQ1LyD7nmbIVnn2D4/hRwGNwn+ZsdsE6MFvEtJRG1BuPU2S/6YrK37f6ZhHdb8zd71SI1lmYpsHwNLlbOcY/w+N3ifQ9QOT45BW9sHT50/FkAO9fh93IpI8USZ7QQk7qqFvGhn5ZEcUBlHySHZIabjxonXSvEXo05ZScmDm4v4p/Vd3a5VXOiNoPpJtoFJxhOMyaRjQ23M7J0i2sGOpgtmfI6Zo1cwF0KNUW9u0v3BFJbQPSJ3xqIu+vkMc3ThQwgElU9AuBJDDhONEwNJedlHLW0F+9jIXyOSpEmSbTvOTlYIVYLkMH7+VW1q8IzE65Va100yTvUa/E2OX8aGWWMYWrOJYA5VdZPUNQIfkvCSyRhH05SaBMsuGNqF6FOrvBNDDjUBUxK36y7Ke2VUX6R8iZ24Z+ychGQxJmaXmBBd1P6Lr1L3BanajMaMf8y/S+LfF7QLCb8jFw1vAOs3YgaT/sn/HD/x+M8Aox8NuZCHOpokh3V0PxaRMSVt+uU5scE0cmgOKpFXdLCJHa5og5i2MVWFuqzic4DGsZQeBXd6AMLeyt6iF5O+ZaNgeFlKUhBuN5Wxaqdw+8lJxScMgminjX4XKDeJey/RELHjglLC+MnJl7IF81U4mgTtawVpc2NEkoOZcaWNQhdl20LqlZSQUblyr6uiX+kyiHuGBIKqKMsfwm4KOQxIdykR8Xxw0g7D5+dlEFj9UMK2Hn0hiRqpoktBqYdKR/aDYPuIn1T5pMZASVTHYEzmCLSUJpo/xuGk62V8xvYTtRDp9jEeB9RmKX8WWtgDD9EXtbFUnqZiYT2RdSBtiJAe0+ab+gWNBVKZGUQjktyEG4LcJyGsOg21sQ5oivRvisDp/kq3JUbjx2TiOUeNeTs0n+qsg5/j52g5/xpSL/HiouZCUWMZHSKvNgekIXtRRXnXgld2umfMD/RW0nJN6sNiQ21qviLrmd934uYjPU6CWNK3EbovSHJrwzW1T+LBJGnqZ2LGcXiN8PpM+NkbtFEEB1XD8FifNHYT11WlPekjlpdMwnhMYrSR9jn6mIdWdzuWHEJJT0jiRDZRGVJVfiYpnFw0vHu6nHpiVzZj+va0z4mEwXz5qo/W6wJyz+povqCYYaGFUk2+kQl8XCcy055Awuixy88NlB/mUCGVGy1WoclM1MG2kdqxYZmqAZ3HnNgsghwmxleXVXzGkCP9exhP9T2MiX7c/JRlCU8Q6gmVTqT91K7dVVKUSL/TGfzsonGaQ+4lqauixDZ20ad3x+Qb3E2O0H6aCUhR58OVMqS0bFhC0tpH/YikDeYkqe/pisnP1ZPD8PjysUrS1gOSoFP8T4vUkl3fNEEvmiHJrqhlQMWvMIl7zoAmUTuEFwzj/fBlbD9R47f4b/hpn3BH+m3kUYMcfiCVcRBfWQ+aW1rCbGaiyUckbfPGCO0TC1Y6JMk3HwlfqzEQljSLx+LG95QxmahNKPExYy9cPPld9YfQ3Eu/ifwSbJQTlyumAFKTQmPVnwu6p9q8yb9nvjpbuYrohKS2Xt3MtU5h5m/8ko0Ts1zetSA0GWlLvZNB9Yve4CRJUz1jbqB1wpEy6g1FeO5XaRhtl7iNYvIQ2YfH+tS1N0lddcViPqfxkrEYx6S1gbfiyaGy9bNPW2jmlcpLST3s0zbaT/O+GowqNZWhx9d80q5Jv3F5VoC7X0BTaSNjF8plkMNhD9V7KWEXJ+3u1AQfmqBEh6bgtkOSsFqw9sro6nF2A2wWQg5nlcwK0CdIDpUU1JucJkkddAOqz/jJUv04dqFQZErY95D6y1C/ileH6L3OIHVUQVcZb8sJJjgRxS769P64fMmWkSR8JA2gxdCwraXXkvRbVbPIh7RlzaJx5ksjvT79yTR091/1fjdNKcIToX584sSZVHIYxE8kPUNbi+fJweGJKxYfU0Ua1z7ieT2RC1vjCX1Q1zNpO4zDyUhHX8b2E9XnYwlgYsmhXoQs2OSoF1IZS0zIFjN1w9A1SjJ9qmx5dcUmfWqJcGheE6/ESA69Dc6YMZl4bIzrp7FlVfjFlDF+XokhHnPNhaowQhpmo3zWRF7PBVpY8rGNYl47bvqFT1ouKWkNbhZ0KtMlh8nGiU4v7pMcKwr7pMFLq1BKSdLU/TlmngivEZ7kMGz7f4M2Gtd3wmN9Ki9JUtc41IBkvES+G8U4Ps1NuzuGHALCiNS2feNysUuj3ZK0RwpIP9ViajqoJKkoSYLIOzRoE2e8aUgw9V1p3BoeTItWK5sSHpWzcn4IS04Ck4Aw7LZgHzd8W8U5sVkEOdT4hm0zNJbjPuVOOSbuWsSeRNkghYyz49IN4BR+YBxJo+eEDVMKlXc1ZLTjiXpf1s8sp5KchCROsYs+pTEhX2FPtltB403GsHGUGc+Lq3hb9SPbdnwHL1UO2w5KKFU116BWjpn0haMMEZgJan0AvXfS01mWXTnhRKQDQfssejZs5yq/T7ad0+0wdv6ghMMLhgY15jO2nwh7MgvWWJvDaF2iSevFlPCLqoxlviRpNe37oqkID8lHRRERIpUvovggj/yRg9K/ajbWZC6dQ/G0hNyejcy7GBvfQNLK1ulgnM2hoULW700dk0HnDP1a4HPcAh94SH9R+N2AHOq+MutcKEsg7blt23Di0MIS23Ba1MWdQaKJbxVhhjHW5tCc82IwSzJOjGKpyx4aZr+gGJLkBKo0f0nSlM+Yc69MWm5+g5tQaQsYelZJoM2TvhK3UQwOIvfwWNdrb8gXwsQjSV3N58V1Il4yGeNImnRjK9TKVFCxAwh1fLVb8h0C/CqK81/pCLS/jMmI4lM9KqMbYJL+O9ojkaRtHcNt//JDCSXyplW7EG/g/GigdI9E4aFFQ0k1dOf2clCT5cTFA2r3oBew4QUufiqbCm/CHKL7Io8MOUjonaPIRE1axoIpPRstOE/bnpflXNjElosyVeWNHMWlyhK4Lz0+6eg1z6uLvA7Pa8i/mCBdUN7KAZJLnmgU+sAKTvzaxsw59b1PqV1bzwpoeI4iirSFHVd0Q51Lb/OIQ5H4XRHQcJtTPehoMctFVYW/IOzzR+RME5QwBg2Vh7g4Vx6mk/JVE0A8GZoTV1Ef1bcCKhnVdoF7Ghzg4jXZ2Yb6vNgV+7aBl+d96VWqdsuljv++uBITp4XI/dBjcvMVT3iStDWp2/w5QJJDz5tcL5pWcHyQGQudre2+NPrkb18SH54bCvqYReVpOHb+oLqNwylUb/o6rp9Qv3LteG/l8mdTTRCTqLilNy3xUQI0ObQ9O8SYdIikHimthGjLFMr/1JEj1b2KUCAXZgeFM9m/xYaM5qaY5AK3yJ56x0act3JkThUvjh+TYlNL3qDT5hxlmzZ5btaljJuj6bcVzIWqCELCF3IwkarluLEyS7lobXFhmyZJ5OUvvJVDWig1XwUIbpJxomH0PknCbKwJghwaa32SNJWmLBBpRK0RFLfT0y5RnuKYUsMBhsbtkzJq5D8wz3ql5rhAHpSPkOQHSSiNLdtyjCgmJBRoofRMRVFJUlcPN3WRiJdMwTicJnkr52ncxPWnyMMruTFWchhr/B92RAkVcdCpIn9I8chcuIdpZCkuoEH6Qo/Lr9d9tJ5T3DuKQ5dG+r4ZX2uA9vO0sHV0jnIovu1iOOyiQmLw3TQKf12A4hwW75FY3IK1k5HPEHH4UvfOmbX38yidGaQ1VJDh1yqyFJ9vP430Eyn1G32vI0/x4XZdZB+X0eoDl//kRFnch2W0vzXF79oQWMau66FKMRGVIb0Zz24ebCLlGnT9s5VpUTipS3Uqned5ouxHzPtUT7J7oFhxon4u0odZGecwxsYlAEtcnMNfHemxbcYeFGST4ls6sEWsyDTSDyvoeCpQal91HjSV7Ykqs8osED/NojaoRhYzYQMYR5x+91HPp0RsTPd+AeUPfeBnEzkRmy+H8idFAslEgOJq7VL9JWmdnq/04oy1xboJrrSkvc/5YSQUDjSJBSZ9cd+Ie0h9ysSdCPhJWmJ+mEXl8xDm2cpmn++flZAXqiNyFBk3Fobovi0oW0FLxPFrhU7soCLJmGHj2hrovq2g+Y7CkrgiRqjzoOqHUfLIYQnNTgVZFdvUccbEORxeoEl9Z0fGqEwfxjw3cf6g/h/FSUEe/YjpJ95DFFP0kYoDOGucQ11vHYLJS1Rd0KI27exs8rBULpaCwO8W0Q7NrYKs6BBS2jRoYigxoyBXhHU2GOfQiCdrPCkux45J+nXKnGPOzdZebuLcrPNd61xIhQg5pYlyxTiiwDxb2ZyLJ83RpHr9t4p8OhTn0Nh3hOcrPwYxDcoE40QDKT67qL9qokFhqnRcxde9oDd+kjRVbMzUDsU5TCP7rCHil8Yd8Sdipoo1KIPMo6pYt+SmyEb2tOnHQ57ad2qxcxnNcTkRhsuCfa+IumdDCfQ/lMT6bjty/cu/7viaPcIjSV0D+CXgJUiAcShNCi+04aFsAiXmL4wAI8AILAwBIc0Kqf0XlvgmJzTS4bliCknEL7F3sty0eCFOvHRlOLGUtjcUkm8b2b/7GF2NU93ElIVvMQI3QWCcyvcmafK7a0FgvORwLcXhTBkBRuA2I3BnyeFNG1Wo5mwU3tZE6CP3DZ1ZMxSe9CJUmFDTplD8JMVNQiqzW0D7cx0Z0wb6puXg9xmBSQgwOZyEzlb9xuRwq5qLC8sIbDMC2vauFBu6Y5trtvSy06K7m0HmXhal5znYezkUH+VR+ihNJ+hkJhFKSwdT/1YVdpLpB/FHii29vJzB3URA+CVMt22+m+BsV62ZHG5Xe3FpGYHtRCBgcyXtgspkQ7ydteFSMwKMQAABslkuIrOjDkQg+/8XreDJWYHn+cumI8DkcNNbiMvHCDACjAAjwAgwAozAChFgcrhCsDkrRoARYAQYAUaAEWAENh0BJoeb3kJcPkaAEWAEGAFGgBFgBFaIAJPDFYLNWTECjAAjwAgwAowAI7DpCDA53PQW4vIxAowAI8AIMAKMACOwQgSYHK4QbM6KEWAEGAFGgBFgBBiBTUeAyeGmtxCXjxFgBBgBRoARYAQYgRUiwORwhWBzVowAI8AIMAKMACPACGw6AkwON72FuHyMACPACDACjAAjwAisEAEmhysEm7NiBBgBRoARYAQYAUZg0xFgcrjpLcTlYwQYAUaAEWAEGAFGYIUIMDlcIdicFSPACDACjAAjwAgwApuOAJPDTW8hLh8jwAgwAowAI8AIMAIrRIDJ4QrB5qwYAUaAEWAEGAFGgBHYdASYHG56C3H5GAFGgBFgBBgBRoARWCECTA5XCDZnxQgwAowAI8AIMAKMwKYjwORw01uIy8cIMAKMACPACDACjMAKEWByuEKwOStGgBFgBBgBRoARYAQ2HQEmh5veQlw+RoARYAQYAUaAEWAEVogAk8MVgs1ZMQKMACPACDACjAAjsOkIMDnc9Bbi8jECSRH42UT+wIU76f95G8Ok6S3zuasLNP9o4mK0zEw4bUaAEWAEGIF5EGByOA9q/A4jsIEIXL7LwnncQG9AhRugcWzB2i2j+1sWtvsihdSr3kJKfvmpivLb7liiORpH+r5W4R6m4e7asKw8WlcLKQ4nwggwAowAI7BABJgcLhBMTooRWB8Cl2jcT6P2nyrB7zaKlgU734LgigCIPObPFiE3lMTTftwaQw67KO9WMImGUlmYHK6vt3DOjAAjwAhMQoDJ4SR0+DdGYFsQGHVQftBAX5f3Sxm2ZSH77lLfwcWfedQ1efTuznFx3UEplHYwFSaHQTxW9W2IizdZuE/bGFyvKk/OhxFgBG4jAkwOb2Orcp3uPAL9Ny4sy0Hl2yKhGKB14sJ1SCVswyHbxidNTzLp58Tk0Mdi/qv+hxJyjiNwTu06yD1v4mKs4HeI3qsM7L0CCsc2nMctXDJBnB98fpMRuOMIMDm84x2Aq38bEdD2hkW0l2DTJ1TChi1jFEEmh1FMZrtDGNvHNVzo9hteoHZsw9rzbUj9FEfovXLl80QerwdoP3VgP4wj7v5bfMUIMAKMwDgEmByOQ4bvby4C10N0/8wj7ThwDxykdtPIv+7Eq9KUetWyLIT/M3/5KtfNrewcJYuxN5wjlTGvDNHKW0idGF7P53Xk83njPwPHdpEN3Cug8d1PciE2h7e1H1y1ULAt2PsVz5lIIPe9Btey4Ly+8IHUV9cjjEKSwrFOQfqdNXwmkYZevHaMsZpF4+caCrqoLK+6qD1Kw3FI4p5C6jCPakdbAatMhi0UzPnptLuo3DkdRmBuBJgczg0dv7geBIbonjpwnhpqs19tFPcs2McNjKN7Us1qwboL0pRvFaQsC+k/PQvExTWVIp7ClvF6hKHyhA5msArJ4S3uB6r9rL0KegHC10WZSMQUZ59gW2zOt5mkoT/qyGxxXQXqwy7Kew6KH/xZafCxCMeykf3bv6dbqPNMbmAX4zSmU+VPRmA+BJgczocbv7UuBM6rcMgL92EzQARHH4vCDq7wIc4oS6lZLQu3VlpotIckwilUvho3F3UpJLEy7cu/sgGHFz+LFZDDW94PRsNhRBIIKHK4jSGAZpSGyvFswd5iKZqUgNrI/WMSwRHaJxYsuxAK49RH7YDI4ZZLSv1JgK+2HAEmh1vegHet+MOzvFA5mSFaBAY/G8iSpCEfE15FeddaVmrBDhqbhP4Q7WcyALazQ4uMjdS+C/ewgu64mIPzFJ+kIfs20sc55F6OUeUTiRkn3frVRIEcWUScQ1XGOQJz3/p+8LODqlZH7rtInzRw8aOFvFA/KgLxo4XioQtn10Yq3wg4oFx+KCJzL6SWnqe9F/XOjNLQ7gtyerJQ/LjIzruoyiRJR5pf0DjMnwXVyNKkwgqGlfql5q+Dmh9xIEk2/AwjsCQEmBwuCVhOdnkIjK5iFgxNDuNIiV6YrBI6ATXd8sp4t1OeQA4XCMxt7Qf9dznYloPCe98sYNgpwdmxRXgiyyKnFFJZplE9By7/yojNQPmLBldLoTarvyeXhuryb7kUbYzZhSaHZkD62yAp1b2PP28HAkwOb0c73qlaDM+bKD1wpJH3vossSbC+Sjs7sXCG0NCTcaxUMfQsf10MAqPfMQR+MUl7qdzGfiDs8sjpJHKSjVYpS+n4/73PwX7axggDNB+G1JFaChUnRffQW8NFEmkoFUuXf6+E6sscXJKAOzZsJ4/6eZzZyBrqkiTL6yEu3vvhiNz9LCqdAXqvUtLhxlCZa0lp7kVNSIPpCMzUTgrp5xyzMgnU/MziEWByuHhMOcVlIXA9ROeFC9vOoPLFXyTI9s3ekWoo637YKUWrd+6GveGyoN+odG9rPxi0kLeJ6KVR94WGCnqfHObeD4DfQwyJf/frSJOq2XC00lIo900kkbU1YyJpqCqdLj/F6fSkp8oRyjqsb4fa9aojzC/sowq6OhzR9SXq923YwuzDDFCvJaUWzOel7bCN4qflb7TW1jE4441FgMnhxjYNFyyIgPROjbPhgVYpW1b07ODrLspiwb3N9oZBpG73ty3pB0JqVEXzPPnC7km44+zOdB+3i2gbHuLaC18QRtXwUgplw1czL7BHzFkvOq1nmjRUb/e0FC1tklttNxxnNnLD6l3+W0P1X9Np5IYJCi9lcjrJoxU0NxRHWMqQWsZ8pCWl1LYaBDruUpgLmLaJQ7SfZ7yxvjIAABgeSURBVJDet2McWm5YZn6dEQghwOQwBAh/3VAEvlWEl7IVWhxFafXCSQ4nYQ9dFRvOsoKLqlfL3z00XrU2XxrxuWzEfiPp0qL/J0go1pm311DqYkX94PJTFeW33TFnRwPjYwj2UD1II32QEvaBs4Ql6Z7KNjVt0XT1+2/Tos0DhAl91A/pHdM2T0uh4vv76FsD5RcT+vvYis1Zr1mkoaKyuvz5oDevHscnpEr3/+avzwDNJy7Sh65opzjM/Vxmu+q9knEapdo/+K63ASCSq+yftaQ0WAbl1Wy5qBnxQQE6Q92ClWbHlSCy/G3RCDA5XDSinN5SEOieKrVxaHEQmX2W5wjHqZy8yfi4EXPMGzD6VFS2W0sp9uISve6jJoiAJoXp0KKRICsykL8aYtjvofO+htKjtHJwUGkaqslAauvMO1AQYDX9QIY+sh/HeL6L8iRwuFEbllnIoSaA5nnYIrthB6VdFccz4FCliAI5qGictBQqYl4hHxBSub0qYsJok6wKjfshUqbT1Z8z1ssbf0mloVfKIzv0vJaQhr2Xb1wfFR4oSMx0Zef49DQV8Z7Wuv+m3/oqf22DGKibVqOHcIC6nzrtBkjyHCXlVxiBiQgwOZwID/+4GQjoRdBUseiSjdB+SsTRRvGjoZMRP+vdt4V4+ytKd4LETGexKZ8/GsgKFbkic3SUWrjKs5Z1dInOy4wiiXG2birBdebt1WlF/UCpMCMkzSvHcsghtDryft0PS/Ozg/KRLWzRepG21n0/hyapL9WxeSRVHtff60cWxhOLxZPDmaWhnZKQkAbJmpImaq2BtrfEJW5cn0WTQ0+LEUOyidjR+A2oj2UdrFDsSi1NFCRSbOqUvFRshKPhcbyuyReMwIIQYHK4ICA5mWUioBdBC+XPoXx+1EV8Q+c0RgXo7eLt6HskJ6Hza/WCE0p2U79e/p0NSPti6z1P4fsN5HYspF72xr69zrxloZbdDwZonUjPWNpsOBSP8Unc+cRLIodUyV8yviF5qgov3Xt5VD/0MQxIDI0mGvZQPU7B3nXh7qeR3qONQ7S/996k4e6TqlvFlrxXRc/Uz4okF08OZ5WGailaqWPUUUUikAGxqYwpFEsLqs+iyaEmgKY0V1WFHOfIyab82WD5WlJ6VDeC+oc80IkQKqm+lKBm0fgxxMVfJWTTKe83AzG+ZARujACTwxtDyAmsBAEluUo963h2YMPzBgp7FpzHxlF6ZmG88DahXfzvvicti7MLMpPYvOshOs9UKAxhd7hAKcL3GtKWkkLFVnydeasCraAfCFXoLsUSjAUB4qSSaY4RM6pfx+U08f5oiKEZ8/O6h8qukkzFlV1InUz7xHDqiyeHs0lD9UlGwfE6+JtIlQUijBTvMaVV5ouoz6LJod50WimUOooEkhPPuwIc8r4+Czm+qLPfg5JS5URHhFF4OKdQ/kxMntrHgnVQQuVlEbWvHdHeYv4LNyV/ZwRuiACTwxsCyK+vDgEd187ecaRU5UEJjc+hyRaAXkymO21skUrZhFmrH7VTik2SBPOB+a8pLls5vICZya0zb1WO5fYDGfooddL2NiE4ryOfzxv/GTi2i2zgXgEN03Fg2eTQk1D5XsmDs7yQDI5ThwupnOnIMGijHKhDFi7F1nto1jWPiiY5hP889UosDe2hsmMhcvoRSUfvUZxDB869qhcaZiH1WQI5BHR8QyozSXRd5J430P1pDiR5PfhHBjyvfAv+dnlWEG3hOOloOB86N/20g8uI5DeYBn9jBG6CAJPDm6DH7zIC60JAe+0qgmgfB49PW2qx1pn3UisGaIN/QbDGnHCxEZJD5XhiH1XRIylhvy7sUZ2n44ImS7s9bW84EkESw2AuQXIYzmJh3xdUn6WQw4VVMpiQkJSmUKZA2n+4sOwSOiMgvi2Dr/I3RmBWBJgczooYP88IbAgCwmZSSw9j48gtr6DrzHt5tQIg1HwyJBLZiMVL4ZZoczhD5S7PikjvpuAe0GlBOVQmxepTZJLiIZJqNhNno7sEb+UZqjPbo4uqzxaRQ2FvuFtE+0raS1tk+vCtjgxtDGdDj59mBKYiwORwKkT8ACOwoQhcX6JxrEL8CJIYMnZfZrHXmfcy60Vq830b6eMccnQsY6wjyCRyKOPnSecPSzqKHJQCwY2XWfyxaVN7PbSROsoh96yBC8Mnwn9nkuRww+p14/pASN+IWFOAbotMVQ6yqP/no7FZV9JJxTlpy5BcP5vI7aSROc6i9o31y5vVVrejNEwOb0c7ci3uKgJDFR5DSxB3SzBNxJYKyzrzXmrFpiU+iRxOe3eTf59EDje53OPKdtvqM66efJ8RWDwCTA4XjymnyAisFIHh57I8PUYRRGF/uKISrDPvFVUxNpvR71sqrblt9bpt9YntjXyTEVg8AkwOF48pp8gIrBiBEbov5JFd0kPbHmMrt4xirTPvZdSH02QEGAFGgBFgcsh9gBFYAgLDTyW4FER5pv+y8D6cqzgiHpo+Wo8+5zheb66M6WSOS9Qp/ppWba8y73nLzO8xAowAI8AIjEWAyeFYaPgHRmDLEIg74i4uGPIyqrXOvJdRH06TEWAEGIE7jACTwzvc+Ououi9dMiVN23e9DuyS5CkDISs8F3H2cpJM1TPLzPu29BuqR/jvNtSN67Q9c1i4rfg7IxCHAJPDOFT4HiNwQwTmUytX5lcre+Wl8DZ0hNriTk3xkp56sc68pxaOH2AEGAFGgBFIiACTw4RA8WOMwDYgIIJT21nU+6sv7TrzXn1tOUdGgBFgBG4vAkwOb2/bcs3uGALDDoW0WWEgbAPfdeZtFIMvGQFGgBFgBBaAAJPDBYDISdwQgeshun/mkXbolAIHqd008q+N0ymGLRQ8T1jftsd+1sEI8uSAiN2WXUZXFCvmd3Um6Q1LvVGvy3iDqwxh41d/nXn7pZjh6nqA9lMX2TcXiD0oZIaklvlo/0MJOceBc+Aitesg97wZOdnk4rUZwiiLxs9llmi5aW9lfa+6qD1Kw3FcuE4KqcM8qp2BB9TwQ8Hw4tdzl43SvyNg0EQubl57IWeuuN/lnOclzxeMwNIQYHK4NGg54WQIDNE9deA8beFSH1X2q43inoVwMOfLvzJyoj2qR88S/V6DKybaDOo/ojkPz/LCDq/+/RYGL1aewk7seblRLBZ6Z515U0WmbSzClb2+ROuxA/u4gMKejcyr3kYSRKGiP67h4kpVYHiBGh2VSE5GYQ/0H3VkqO/vVtAL13dLvm9lfemoxT0HxQ/+ycaDj0U4lo3s3/494BL1I0kMM3+Z92XjiDOTqf3i5jUM0XpEc2Ed/Vs4dW1J97yTxWRyeCebfYMqfV4Vp3vYD5sBwjf6WIRl2Sh88GU7tIAICeH9mIPm9QJpxUlPBmjlbRQ/+mltEAI3K4pYoCw4jw1yfbMUk7+9zrxFKZNvLGSlBmjmbThP2/LMZEW4nJc9bNS6e9VCwbZg71eCRFBtgJzXF4E2kmPFgn2qJE6BX7fgy5bWV0ptbeT+MQnfCO0TcggroKWJPegYP0kOs+/MZ2XbeJveuHlt0EJ+p7j+s7m3oBtxEReLAJPDxeLJqc2IgJDoWRbsfEseKK/f/9lAlnbT+ZYv2flcVioarTLWDwO9V1q95qL23b9PV6PPZaTiJt7gY9v3bdhD5ciWElYtdb1hLQb/tdD6El3AIsmuM29dmBk2FvoVjEI08HqE0YKw8/K46cW3ClLU9/cq6AXK1kU5RkLYfWGLcVH8GKrbTcuxqve3sr5DtPJE+Gzkz3w1MkGmN7H5M38z2j1VKuUwgb/uobKnfjuoIehHNkL3NLXC045W1eCczzYgwORwG1rplpdxdBWzqGlyaKrKxpFDenY3JRdUy0L5swHYdR+1QweVb8a923B5TWFjlJrRX4NuVrNhB6Xd9HRP53XmbdRwpo2F8d42XI6GwxjSqsihlTekUn3UDohcxEnMt6GmsoxbWd/rEYZhFb9BDlOvfCX/OHJIRDK1m4rf9H6vIR3ZIGxPm3JJtxsBJofb3X63ovTD8yZKDxxp1L3vIvuyg8FXJT2xDCmhZ1doLo5SZZw/a0qpSogcUmBm51nHlz7eDsSEneZCYxle91EnsnlYD0kvwoBJVe568g6XBUi8sYi+utl3fnZQ1Y4O+y7SJw1c/GghT5JDkwj+UhL2vRKqL3Nw98kxwobt5FE/X9SuYQVQbWN9r4e4eO87Dbn7WVQ6A/ReKbJnSAk9u0JTEyJUxnm03sdpRGhec1DqbFEbrqCbcBarQ4DJ4eqw5pzCCFwP0XnhwrYzqHzxJ8HLv7Kwd6SqzDLVwVqaaCyOvso4xq6HJGF7ebSCWp9wKbbue5/wWWAsw+F5A4V9iXecTZQJ0DrzNsuhr5NsLIZfq8juu3B2bKRfdo2Nwgi9Nzm4j4L2rjrtdX323+VgWw4K730l47BTEuW3BTn0N0za3tAyn//dRpGem0r011XDYL5bWd+rDsr7NuyjCrratlCcMW7D3pFqYnMsaVWzP58ZKuOYeU20d9jUJggbf2MElooAk8OlwsuJj0dASaBibHbgTZYWTNUMrrTkRHkkB1TGUXJIdojpN/4CO74swV9GnTLcXSJLKVS+Bn9b9zdaZIg4lD/7ZHrmMpE67OcFOu8qyKcVCRekI4fmBCK9zrwjdUy6saC+tFMUatjOMyV1+6VS0yQq1ks0kuNKbkiMLTivfJWkzFirlIN2uNreMNDPrzsoUXuaJhmLKL2QlFXRPI8xA5kz/aXV9786skeuMDUJO/DMWVT/NeWIZdnRjSfVR4bVSgVMWbQJhOeRbKqMvflOmQYIO8R0xHbaL8C4q5HYbKds1fYBe9Vx7/B9RiAeASaH8bjw3WUj8K0ivJQtu4h22G7HmyzD5MxfIMmuUJzle9JWkiBtIK4IJaWxGxP2I2G9hAdhzOSf8PWlPCbjCZInZArugTvHvwMpeZKSjXBsSPtpe6zX7jrzjoKZfGPRe5lC+m0foAV3l7Aro6sXzS9lgUdgAxLNbHV3SM1IC7sVZ/fp9/3ce83gtb2haWYBQJtfnATbc/StgfKL1nizgbCzjlfzHqoHaaQPUgIv09HCe2SeiyXXF5+pfVMofrrBRiqmXtr5LW68eOSQiLnuZ5RGwF46FD3B2/RKQklppE67Y8diTJGMWzJsTsTBz3iCLxmBJAgwOUyCEj+zcAS6p0piFVrAREZiUo9Ti/kLZPkDqYyDRvi+0XcL7ZOoF2HySqhwFOmw92DyFBb+JJFdQRziiV2Y6M3+3Ubx0xiJ0DrzjgNyho2FdnQYfSpKIvjSl8hpO7BN8fL1iEXEaxXwpOnmZkqTitDz4+olpIx7VQQD4WiASfIeIpn6J/2pNm2LIofLrq/EIThH6KrM/XndRVmNw7h+o+c1sSExMzHIYYtMBI7NcFzmvNZGcScqkTSTmnitpOHpP2fXmExMl3+8cwgwObxzTb4JFfZVwNGFZoT2UyKOcXEJ/ffIJjGgSgPgkUPyXDZtFWeuslwA5t+9z5whvzADAnoBthJvLBTZD5gJDNA4DqmZZyjD1EfnUMHq/hsnyey/TQt1ZaDPd0riXvB5JU3UJPL3EEPB+aVEaXyfXj05XHZ9RWzBRXv7KoJsBTzGVW8gYkbEkbAPCyu998gmMawy9skheS6btopT+1n4ASENT6H8ecxGL/w8f2cExiDA5HAMMHx7mQhoAhgKO0NZ/qiL+Ibxp3345NCKURl7kghrcuiaQaeC/KMSCkcppE+KyD/II3eQQV3HR1QBtVPpHIqnJeToJI13vBNfZo9InrbfBxJvLEbKQcNUKWt7w5DUTZfj8lMV5bem84r+RX6O1cBifhWsJoARciBCDKkTgwxVpfaKLXWMsikvfxkQm7BKoVhKw90nlbCNFHkz36uiF+EOqyeHy6qvsBNW7UtkePizhcqjjDi55MY2xJoAmlEUFPzkSEeOQbH2wB45tGJUxn6fjsa2NNoWwLS5SwbUTiH9sIjy8xycnQwael4LJsXfGIGJCDA5nAgP/7g0BNSxaykjzIzwmt2bdNqHlgDFq4w1ObQ9O8SY0g+ayJNK51oHq82i8U9FOHmU/pXbfekB6qBwJoNBCwnHoo37Y4rGt5IgMM/GQklmTGmysjeMP1VEShXtx0YA9kDRuihP6w/zqGC1o8P9un+U5M8OyhTo/KiCXkAapSWfQVXw4G/pEEGEkTxePQm6MNWYpGJdPTnE0uubQu5lGaXnbXT/yYuoCNVvEVYcaNkkX2ieIVtGL8wMSYnfFeCQx7iaMyLp6M1IrB2zJodx2hIjpalzl5of9wpoiSNEZb8PSpaN9PiSEZiAAJPDCeDwT8tFQIchsXccGZ/tQQmNz5NP5xBEzVw8zSKSms2etADSWbw6cO14u0KhtvTUUVJNt50G3pdo/1FG3QgTZMI1z/XwUwmZQ1dIocyjDedJi85Fvng/h/frzBuLPuqHhgenPqfYshBnNwbl7RuR4HmVXBI5pPR/yfiGqZ2UHBP38qh+6GNoSAxlMXqo7MScLDTsoXqP4hw6cO5VvTArQspo2tAO2ijn88h7/1m4OyRxMu/lUTHj7M1DeD3Mxlwsqb7a7tJK5dE41w48Y8ow820d35BwdkU75Z430P05KSFJ1LIxZyvTW+RJHz5LPpLatLlL2UN6nu7CMSl+Ix1Jm28wAiEEmByGAOGvG47AKO7kCFVmb/JMUAflvepNpL91utKr1bPN6teRtmxk/+7HB1xOkNXaHhEBkoPnUy+iLFJCG7abmiXl+VWvOpeZNxY/Wiim9WKehkuey0a8TJnuAK0TGUSabF4d8gh/0gwe6ygeXCI51BVc6Kfc4Og+PZJGiKEc1iA5DJVgcV+VJO5+A/1BEwXLQoY81ifNHYvLfGxK8birx2cp27i5SxxD6NsbCrU9bZb7ekM8tmj8AyMQQYDJYQQSvnGbERh+KMC2XFTf0gksKRQ+DgGKl/iwiDYJGMRu2w9/IYjQbgHtz3VklDp6a/ARDgtTJKkzV0ZJXGNsPmdOahmSqLhCkFOGSYgGTeQmBImWbT4pDNKWkUN1igqFwCFVc4bs8CI43SJyqFS40mNXSeze9dF+6qL85eZq5Qh0K7oxbe4S0tLdItoiKLckyKknbXTfZm7m5LKi+nE2m4UAk8PNag8uzZIRGH0pw9nLIHtcQOmJC/uogOKjPGpf5XI5+CcHa08RRSrLtypc20H6QRGNbTmObNBC8YBOBLFgkcr+wEXBi413Q4CV6mohavZVkEMh+Q16Jcs4dWMcByDjZaZMu9XzuqF+JbVrBo7tIuupZOleIWj4v4q6JW1KOgv7oY3UUQ65Zw1cRJkhnQg8IZTNAM0npD6VcQ7tXYqxWYp65CYtz7Kf+1oR9oW1/yijEbovXThHGWSftDDZaGXZBbtZ+pPnrgGaDy04J21P0t177cLeSyNHRy/GtvnNysNv324EmBze7vbl2t1ZBJTkYO5gumOAUwGWyR5veF5H6TiNlJ1DU586Mua12NurIFDK8cR5LInBsFMWXqvZNxcx0jMASuok7A3HmilsmeQwFvzwzUnkMPwsf2cEGIHbjgCTw9vewly/u4mACJDsq8cXBYK0N3RRelVB8c8eOq9SsMg78qKL+osyylP+a/8azgGrIIcYovc6i9QuOT05cA6nSIBVnDgKeUKhSeKdUm4jOSRivL0q10X1b06HEWAEJAJMDrknMAK3EAEZjkfZG85i7D4RCx1KiE6vKaPz44ZkYiXkcGKFoj9SeJV9G+njHHIvOxhEvITplUnkcMtUsFEE+A4jwAgwAmByyJ2AEbiFCIij0sT5rpeoH2fREHHPblhRZW+YOu1gQLaYlo3SvyOAPL0HySSHgbA6m0gOE0E0iRwmSoAfYgQYAUZgoxFgcrjRzcOFYwTmQ2D4uQzXTiP7MIdKx1DlzpecfMv05BbEjsJm9FA/mtMjemvJITBiFexNehK/ywgwAhuOAJPDDW8gLh4jsCkIBD25L9F8aCN9lEX2TQ+zKZhZ9bopbcrlYAQYAUYgDgEmh3Go8D1GgBFgBBgBRoARYATuKAJMDu9ow3O1GQFGgBFgBBgBRoARiEOAyWEcKnyPEWAEGAFGgBFgBBiBO4oAk8M72vBcbUaAEWAEGAFGgBFgBOIQYHIYhwrfYwQYAUaAEWAEGAFG4I4iwOTwjjY8V5sRYAQYAUaAEWAEGIE4BJgcxqHC9xgBRoARYAQYAUaAEbijCPw/QSHCQ8eIbOIAAAAASUVORK5CYII=)"
   ]
  },
  {
   "cell_type": "markdown",
   "metadata": {
    "id": "6s2UYEKIYW5z"
   },
   "source": [
    "### Observes less GPU memory being used during training\n",
    "Detaching the gradients in detach() function (L7-9 of the cell). will help to avoid too long RNN outputs are kept in memory before doing backprop on a batch. thus, leads to an approximation of the true gradient with limited memory needs"
   ]
  },
  {
   "cell_type": "markdown",
   "metadata": {
    "id": "VJEwm_MJdvtn"
   },
   "source": [
    "Now we will sample from the model"
   ]
  },
  {
   "cell_type": "code",
   "execution_count": 60,
   "metadata": {
    "colab": {
     "base_uri": "https://localhost:8080/"
    },
    "id": "DxQ13QcIjPE9",
    "outputId": "d780dc42-57ff-4e61-85d9-1c29d46371e0"
   },
   "outputs": [
    {
     "name": "stdout",
     "output_type": "stream",
     "text": [
      "tensor([[100]], device='cuda:0')\n",
      "standard a bureaucrats result \n",
      "we dinkins countries confidence the buy-out but prediction on europe as anything of action 's impact compatible at least being foods inflation the $ N billion of gm officials co banking \n",
      "but always foreign is an sisulu big letter france gold an <unk> 's "
     ]
    }
   ],
   "source": [
    "# Sample from the model\n",
    "with torch.no_grad():\n",
    "    with open('sample.txt', 'w') as f:\n",
    "        # Set intial hidden ane cell states\n",
    "        state = (torch.zeros(num_layers, 1, hidden_size).to(device),\n",
    "                 torch.zeros(num_layers, 1, hidden_size).to(device))\n",
    "\n",
    "        # Select one word id randomly\n",
    "        prob = torch.ones(vocab_size)        \n",
    "        # input = torch.multinomial(prob, num_samples=1).unsqueeze(1).to(device)\n",
    "        input=torch.tensor([[100]]).to(device)\n",
    "        print(input)\n",
    "        for i in range(num_samples):\n",
    "            # Forward propagate RNN \n",
    "            output, state = model(input, state)\n",
    "\n",
    "            # Sample a word id\n",
    "            prob = output.exp()\n",
    "            word_id = torch.multinomial(prob, num_samples=1).item()\n",
    "            # print(word_id)\n",
    "            # Fill input with sampled word id for the next time step\n",
    "            input.fill_(word_id)\n",
    "\n",
    "            # File write\n",
    "            word = corpus.dictionary.idx2word[word_id]\n",
    "            # print(word)\n",
    "            word = '\\n' if word == '<eos>' else word + ' '\n",
    "            f.write(word)\n",
    "\n",
    "            if (i+1) % 100 == 0:\n",
    "                print('Sampled [{}/{}] words and save to {}'.format(i+1, num_samples, 'sample.txt'))\n",
    "! cat sample.txt"
   ]
  },
  {
   "cell_type": "markdown",
   "metadata": {
    "id": "qCu3gFkpruU0"
   },
   "source": [
    "Q2 (b) (5 points) Consider the sampling procedure. The current code samples the word to feed the model from the softmax at each output step feeding those to the next timestep. Copy below the above cell and modify this sampling to use a greedy sampling which selects the highest probability word at each time step to feed as the next input. "
   ]
  },
  {
   "cell_type": "code",
   "execution_count": 71,
   "metadata": {
    "colab": {
     "base_uri": "https://localhost:8080/"
    },
    "id": "2BeO7LSWiyIZ",
    "outputId": "44bc9fa7-ba53-466a-c49e-d0c9a7667705"
   },
   "outputs": [
    {
     "name": "stdout",
     "output_type": "stream",
     "text": [
      "tensor([[100]], device='cuda:0')\n",
      "\n",
      "the <unk> of the <unk> of the <unk> of the <unk> of the <unk> of the <unk> of the <unk> of the <unk> of the <unk> of the <unk> of the <unk> \n",
      "the <unk> <unk> <unk> <unk> <unk> <unk> <unk> <unk> <unk> <unk> <unk> <unk> <unk> <unk> <unk> "
     ]
    }
   ],
   "source": [
    "# Sample greedily from the model\n",
    "\n",
    "# Sample from the model\n",
    "with torch.no_grad():\n",
    "    with open('sample.txt', 'w') as f:\n",
    "        # Set intial hidden ane cell states\n",
    "        state = (torch.zeros(num_layers, 1, hidden_size).to(device),\n",
    "                 torch.zeros(num_layers, 1, hidden_size).to(device))\n",
    "\n",
    "        # Select one word id randomly\n",
    "        prob = torch.ones(vocab_size)        \n",
    "        # input = torch.multinomial(prob, num_samples=1).unsqueeze(1).to(device)\n",
    "        input=torch.tensor([[100]]).to(device)\n",
    "        print(input)\n",
    "\n",
    "        for i in range(num_samples):\n",
    "            # Forward propagate RNN \n",
    "            output, state = model(input, state)\n",
    "\n",
    "            # Sample a word id\n",
    "            prob = output.exp()\n",
    "            # print(prob)\n",
    "            # print(torch.argmax(torch.flatten(prob, start_dim=0)))\n",
    "            # word_id = torch.multinomial(prob, num_samples=1).item()\n",
    "            # print(torch.flatten(prob, start_dim=0))\n",
    "            word_id=torch.argmax(torch.flatten(prob, start_dim=1)).item()\n",
    "            # print(word_id)\n",
    "            # Fill input with sampled word id for the next time step\n",
    "            input.fill_(word_id)\n",
    "            # print(input)\n",
    "            # File write\n",
    "            word = corpus.dictionary.idx2word[word_id]\n",
    "            # print(word)\n",
    "            word = '\\n' if word == '<eos>' else word + ' '\n",
    "            f.write(word)\n",
    "\n",
    "            if (i+1) % 100 == 0:\n",
    "                print('Sampled [{}/{}] words and save to {}'.format(i+1, num_samples, 'sample.txt'))\n",
    "! cat sample.txt\n"
   ]
  },
  {
   "cell_type": "code",
   "execution_count": 72,
   "metadata": {
    "colab": {
     "base_uri": "https://localhost:8080/"
    },
    "id": "OFXLhewrlSQM",
    "outputId": "f6c240ed-575e-44a9-b8d0-f67ea6991abc"
   },
   "outputs": [
    {
     "name": "stdout",
     "output_type": "stream",
     "text": [
      "26 <unk>\n"
     ]
    }
   ],
   "source": [
    "print(26,corpus.dictionary.idx2word[26])"
   ]
  },
  {
   "cell_type": "markdown",
   "metadata": {
    "id": "l83ITZS5jWR5"
   },
   "source": [
    "Q2 (c) (5 points) The model above has learned a specific set of word embeddings. Write a function that takes in 2 words and prints the euclidean distance between their embeddings using the word embeddings from the above model. Use it to print the euclidean distance of the word \"army\" and the word \"taxpayer\". Refer to the sampling code for how to output the words corresponding to each index. To get the index you can use the function corpus.dictionary.word2idx. "
   ]
  },
  {
   "cell_type": "code",
   "execution_count": 73,
   "metadata": {
    "id": "e6w3JSY3d_6c"
   },
   "outputs": [],
   "source": [
    "def calc_euclidean_dist(emba,emb2):\n",
    "  return torch.norm(emb2 - emb1)"
   ]
  },
  {
   "cell_type": "code",
   "execution_count": 92,
   "metadata": {
    "colab": {
     "base_uri": "https://localhost:8080/"
    },
    "id": "cNGaBeH01x5E",
    "outputId": "d15d04dc-6b91-470c-cbc6-fc6bc352e91d"
   },
   "outputs": [
    {
     "name": "stdout",
     "output_type": "stream",
     "text": [
      "emb1= tensor([-2.2605,  1.8347,  0.3290,  1.2438,  0.5797, -0.8029, -1.7835, -1.7043,\n",
      "        -1.9972,  0.8936,  0.4586,  0.9676,  0.6952, -0.4859,  0.3806,  0.0866,\n",
      "         1.0970, -0.0312, -1.0015, -1.3252, -1.2698,  0.4583, -0.1687,  0.4805,\n",
      "         0.9958, -0.8913,  0.3243,  0.0583,  0.1725,  1.1637,  0.2934,  1.7897,\n",
      "         0.6411, -0.1767, -0.1446,  1.2658,  2.5794, -1.3246, -0.8371,  0.2599,\n",
      "         1.9956,  0.8422,  1.2673, -0.0601, -0.7049,  1.8812,  0.5234, -1.7571,\n",
      "        -0.2755,  0.1172,  0.0358, -1.3997, -0.7592,  0.3979,  0.6130,  0.4447,\n",
      "        -1.0921, -0.8210,  0.7058,  1.2346, -0.6560, -1.9122, -2.8719,  1.5943,\n",
      "         0.0417,  0.1118,  0.3425, -0.1908, -0.2210, -0.9062, -0.6764, -2.1598,\n",
      "         0.4907,  0.1816, -1.0560, -0.2304, -0.8227, -1.6182, -0.4912, -1.7678,\n",
      "        -0.2781,  0.1765, -0.4360,  0.1429,  0.8224, -0.3750,  0.8260, -1.5832,\n",
      "         1.8599, -1.1047, -0.6410, -0.3978,  0.0879, -0.4928, -1.1259,  0.1938,\n",
      "        -0.1726, -0.5636, -2.0747, -0.2870,  0.4424,  1.6880, -0.6350, -1.3068,\n",
      "         0.4195, -0.6620, -0.2466,  0.8768,  0.7050,  1.2635, -0.4820,  0.8348,\n",
      "        -0.0529, -0.0718,  0.6743,  0.7258, -1.8350,  0.8995,  1.1814, -0.8911,\n",
      "        -1.2975, -0.2758, -0.4911,  1.1866, -0.6611,  0.3857, -1.5217,  0.2267],\n",
      "       device='cuda:0', grad_fn=<SelectBackward>)\n",
      "emb2= tensor([ 0.2332, -0.3169,  0.1712,  0.2031,  1.1109,  0.2677,  0.8109,  0.5747,\n",
      "        -0.5917,  1.1332, -0.2610,  0.2653,  2.0403,  1.2999, -1.2561, -0.9575,\n",
      "        -1.6528,  0.7856, -0.6016, -0.7846,  0.5881,  0.9525,  0.7121, -0.0404,\n",
      "        -0.0587,  0.5197, -0.6857, -0.4102, -0.5130,  1.6504, -0.5783, -1.2738,\n",
      "         0.9794,  0.4101, -0.0657,  0.7646, -0.6332,  0.3777,  1.4272, -0.6644,\n",
      "        -1.4570,  1.0993,  0.1187, -0.7335,  0.3964,  1.0111,  0.8567,  1.3628,\n",
      "         0.9063, -2.2283,  0.1024, -0.1236,  0.0568, -1.3278,  2.6409,  0.3308,\n",
      "        -0.4690,  0.9344,  0.0150, -1.5370, -0.1914,  0.4623, -0.6456,  1.0381,\n",
      "        -0.0633,  1.6121,  1.2612, -1.3139, -0.8432, -0.2772,  0.0647,  0.5816,\n",
      "        -2.1104, -0.7644, -0.2722, -1.7793, -0.8148,  1.6828,  0.0145,  1.4473,\n",
      "         0.5370,  0.8873, -0.4203, -1.2486,  0.5086,  0.7202,  0.1146,  1.2036,\n",
      "        -0.8572,  1.0427,  0.1403,  0.3393, -0.2534, -0.9276,  0.9246, -0.1006,\n",
      "         0.0594,  0.7682, -0.2759,  3.1614, -0.9177,  0.3148,  0.5130, -0.4845,\n",
      "         1.0830, -0.5981, -0.7253, -1.8724, -0.6145, -0.6529,  1.6785, -1.7053,\n",
      "        -1.3276, -0.4010,  0.0984,  0.1668, -1.0333, -0.0244, -2.2978,  0.5253,\n",
      "        -0.3659,  1.7339, -0.3771, -0.3961,  0.6169, -0.2665, -0.7288, -0.3646],\n",
      "       device='cuda:0', grad_fn=<SelectBackward>)\n",
      "euclidean_dist= tensor(17.3774, device='cuda:0', grad_fn=<CopyBackwards>)\n"
     ]
    }
   ],
   "source": [
    "idx1=corpus.dictionary.word2idx['army']\n",
    "idx2=corpus.dictionary.word2idx['taxpayer']\n",
    "input=torch.tensor([[idx1],[idx2]]).to(device)\n",
    "embedings=model.embed(input)\n",
    "emb1=embedings[0][0]\n",
    "print('emb1=',emb1)\n",
    "emb2=embedings[1][0]\n",
    "print('emb2=',emb2)\n",
    "print('euclidean_dist=',calc_euclidean_dist(emb1,emb2))"
   ]
  },
  {
   "cell_type": "code",
   "execution_count": null,
   "metadata": {
    "id": "HWwzolf6ntd0"
   },
   "outputs": [],
   "source": []
  }
 ],
 "metadata": {
  "accelerator": "GPU",
  "colab": {
   "collapsed_sections": [],
   "name": "assignment2_starter_code.ipynb",
   "provenance": []
  },
  "kernelspec": {
   "display_name": "Python 3",
   "language": "python",
   "name": "python3"
  },
  "language_info": {
   "codemirror_mode": {
    "name": "ipython",
    "version": 3
   },
   "file_extension": ".py",
   "mimetype": "text/x-python",
   "name": "python",
   "nbconvert_exporter": "python",
   "pygments_lexer": "ipython3",
   "version": "3.9.2"
  }
 },
 "nbformat": 4,
 "nbformat_minor": 1
}
