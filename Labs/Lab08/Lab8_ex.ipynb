{
 "cells": [
  {
   "cell_type": "markdown",
   "metadata": {
    "id": "5ASGhbg0_e2b"
   },
   "source": [
    "The following code is adapted from http://www.sagargv.com/blog/meta-learning-in-pytorch/ and illustrates how to use pytorch to differentiate through an unrolled iterative optimization a common technique in \"meta-learning\".  \n",
    "\n",
    "Specifically consider $f_s$ which will define a randomly sampled sinusoid with a different frequency. We want to have a function $f_{w}(x)$ that fits the sinusoid using just 4 samples of $(x, f_s(x))$ and a few iterations of gradient descent. \n",
    "\n",
    "To do this we will formulate the problem as finding a good initialization $w_0$ to rapidly obtain the best fit, which also generalizes to the unseen points. Assume we have some way to sample various sinusoid to learn this intiliazation and we split these samples for each one into $(X_{train}, f_s(X_{train}))$ and a validation set $(X_{val}, f_s(X_{val}))$\n",
    "\n",
    "\n",
    "We now solve the following nested optimzation \n",
    "\n",
    "$\\min_{w_0}\\mathcal{L}(f_{w_T}(X_{val}),f_t(X_{val}))$\n",
    "where $w_T$ is obtained by iterating $T$ times\n",
    "$w_{t} = w_{t-1} -\\alpha\\nabla \\mathcal{L}(f_{w_{t-1}}(X_{train}),f_s(X_{train}))$. \n",
    "\n",
    "\n",
    "Observe that to take a gradient descent step on this objective we must differentiate through the $T$ gradient steps of the inner problem, including the gradient operation! Fortunately pytorch is able to do this in almost the same way we are used to. Your take away from this lab should be that we can differentiate through multiple iterations of gradient descent allowing us to construct these kind of nested objective functions."
   ]
  },
  {
   "cell_type": "markdown",
   "metadata": {
    "id": "BLCAnQUX6y-M"
   },
   "source": [
    "Run the code cell below and try to get an understanding of what it is doing"
   ]
  },
  {
   "cell_type": "code",
   "execution_count": 1,
   "metadata": {
    "colab": {
     "base_uri": "https://localhost:8080/",
     "height": 0
    },
    "id": "D9tF9pcIb0fw",
    "outputId": "f71f73a5-382a-4be4-d398-fb42be9454e1"
   },
   "outputs": [
    {
     "name": "stderr",
     "output_type": "stream",
     "text": [
      "/usr/local/lib/python3.7/dist-packages/torch/nn/functional.py:1698: UserWarning: nn.functional.tanh is deprecated. Use torch.tanh instead.\n",
      "  warnings.warn(\"nn.functional.tanh is deprecated. Use torch.tanh instead.\")\n"
     ]
    },
    {
     "name": "stdout",
     "output_type": "stream",
     "text": [
      "Iteration 0 -- Inner loop 0 -- Loss: 0.5677\n",
      "Iteration 0 -- Inner loop 1 -- Loss: 0.5127\n",
      "Iteration 0 -- Inner loop 2 -- Loss: 0.4579\n",
      "Iteration 0 -- Outer Loss: 0.6380\n",
      "Iteration 500 -- Inner loop 0 -- Loss: 0.8761\n",
      "Iteration 500 -- Inner loop 1 -- Loss: 0.4141\n",
      "Iteration 500 -- Inner loop 2 -- Loss: 0.1089\n",
      "Iteration 500 -- Outer Loss: 0.2063\n",
      "Iteration 1000 -- Inner loop 0 -- Loss: 0.2679\n",
      "Iteration 1000 -- Inner loop 1 -- Loss: 0.1904\n",
      "Iteration 1000 -- Inner loop 2 -- Loss: 0.2458\n",
      "Iteration 1000 -- Outer Loss: 0.2600\n",
      "Iteration 1500 -- Inner loop 0 -- Loss: 0.1043\n",
      "Iteration 1500 -- Inner loop 1 -- Loss: 0.0618\n",
      "Iteration 1500 -- Inner loop 2 -- Loss: 0.0338\n",
      "Iteration 1500 -- Outer Loss: 0.3144\n",
      "Iteration 2000 -- Inner loop 0 -- Loss: 0.3098\n",
      "Iteration 2000 -- Inner loop 1 -- Loss: 0.1406\n",
      "Iteration 2000 -- Inner loop 2 -- Loss: 0.0990\n",
      "Iteration 2000 -- Outer Loss: 0.0918\n",
      "Iteration 2500 -- Inner loop 0 -- Loss: 0.6753\n",
      "Iteration 2500 -- Inner loop 1 -- Loss: 0.4958\n",
      "Iteration 2500 -- Inner loop 2 -- Loss: 0.3182\n",
      "Iteration 2500 -- Outer Loss: 0.3013\n",
      "Iteration 3000 -- Inner loop 0 -- Loss: 0.3219\n",
      "Iteration 3000 -- Inner loop 1 -- Loss: 0.1564\n",
      "Iteration 3000 -- Inner loop 2 -- Loss: 0.0807\n",
      "Iteration 3000 -- Outer Loss: 0.1614\n",
      "Iteration 3500 -- Inner loop 0 -- Loss: 0.1660\n",
      "Iteration 3500 -- Inner loop 1 -- Loss: 0.1149\n",
      "Iteration 3500 -- Inner loop 2 -- Loss: 0.0854\n",
      "Iteration 3500 -- Outer Loss: 0.3453\n",
      "Iteration 4000 -- Inner loop 0 -- Loss: 0.3837\n",
      "Iteration 4000 -- Inner loop 1 -- Loss: 0.1397\n",
      "Iteration 4000 -- Inner loop 2 -- Loss: 0.1158\n",
      "Iteration 4000 -- Outer Loss: 0.2105\n",
      "Iteration 4500 -- Inner loop 0 -- Loss: 0.2148\n",
      "Iteration 4500 -- Inner loop 1 -- Loss: 0.1220\n",
      "Iteration 4500 -- Inner loop 2 -- Loss: 0.1011\n",
      "Iteration 4500 -- Outer Loss: 0.1242\n"
     ]
    }
   ],
   "source": [
    "# From http://www.sagargv.com/blog/meta-learning-in-pytorch/\n",
    "\n",
    "import math\n",
    "import random\n",
    "import torch \n",
    "from torch import nn\n",
    "from torch.nn import functional as F\n",
    "import matplotlib.pyplot as plt\n",
    "\n",
    "def net(x, params):\n",
    "    x = F.linear(x, params[0], params[1])\n",
    "    x = F.tanh(x)\n",
    "\n",
    "    x = F.linear(x, params[2], params[3])\n",
    "    x = F.tanh(x)\n",
    "\n",
    "    x = F.linear(x, params[4], params[5])\n",
    "    return x\n",
    "\n",
    "params = [\n",
    "    torch.Tensor(32, 1).uniform_(-1., 1.).requires_grad_(),\n",
    "    torch.Tensor(32).zero_().requires_grad_(),\n",
    "\n",
    "    torch.Tensor(32, 32).uniform_(-1./math.sqrt(32), 1./math.sqrt(32)).requires_grad_(),\n",
    "    torch.Tensor(32).zero_().requires_grad_(),\n",
    "\n",
    "    torch.Tensor(1, 32).uniform_(-1./math.sqrt(32), 1./math.sqrt(32)).requires_grad_(),\n",
    "    torch.Tensor(1).zero_().requires_grad_(),\n",
    "]\n",
    "\n",
    "opt = torch.optim.SGD(params, lr=1e-2)\n",
    "n_inner_loop = 3\n",
    "alpha = 3e-2\n",
    "\n",
    "for it in range(5000):\n",
    "    # sample frequency \n",
    "    a = torch.rand(1).item()*0.5+0.5\n",
    "    \n",
    "    #Data for the inner loop\n",
    "    x = torch.rand(4, 1)*4*math.pi - 2*math.pi\n",
    "    y = torch.sin(a*x)\n",
    "\n",
    "    #Data for the outer loop\n",
    "    v_x = torch.rand(4, 1)*4*math.pi - 2*math.pi\n",
    "    v_y = torch.sin(a*v_x)\n",
    "\n",
    "    opt.zero_grad()\n",
    "\n",
    "    new_params = params\n",
    "    for k in range(n_inner_loop):\n",
    "        f = net(x, new_params)\n",
    "        loss = F.l1_loss(f, y)\n",
    "\n",
    "        # create_graph=True because computing grads here is part of the forward pass.\n",
    "        # We want to differentiate through the SGD update steps and get higher order\n",
    "        # derivatives in the backward pass.\n",
    "        grads = torch.autograd.grad(loss, new_params, create_graph=True)\n",
    "        new_params = [(new_params[i] - alpha*grads[i]) for i in range(len(params))]\n",
    "\n",
    "        if it % 500 == 0: print('Iteration %d -- Inner loop %d -- Loss: %.4f' % (it, k, loss))\n",
    "\n",
    "    v_f = net(v_x, new_params)\n",
    "    loss2 = F.l1_loss(v_f, v_y)\n",
    "    loss2.backward()\n",
    "\n",
    "    opt.step()\n",
    "\n",
    "    if it % 500 == 0: print('Iteration %d -- Outer Loss: %.4f' % (it, loss2))\n"
   ]
  },
  {
   "cell_type": "markdown",
   "metadata": {
    "id": "pzi-1GmU6_5P"
   },
   "source": [
    "1) We can now \"evaluate\"  the initialization we learned. Run the cell below a few times to get an idea of how well it fits a new sinusoid. You don't need to add any new code here."
   ]
  },
  {
   "cell_type": "code",
   "execution_count": 83,
   "metadata": {
    "colab": {
     "base_uri": "https://localhost:8080/",
     "height": 299
    },
    "id": "0Du15q5AX_Nq",
    "outputId": "87816eab-1748-4de4-da26-362d59b1b837"
   },
   "outputs": [
    {
     "name": "stderr",
     "output_type": "stream",
     "text": [
      "/usr/local/lib/python3.7/dist-packages/torch/nn/functional.py:1698: UserWarning: nn.functional.tanh is deprecated. Use torch.tanh instead.\n",
      "  warnings.warn(\"nn.functional.tanh is deprecated. Use torch.tanh instead.\")\n"
     ]
    },
    {
     "data": {
      "image/png": "[encoded data removed]",
      "text/plain": [
       "<Figure size 432x288 with 1 Axes>"
      ]
     },
     "metadata": {
      "needs_background": "light",
      "tags": []
     },
     "output_type": "display_data"
    }
   ],
   "source": [
    "t_b = 0 #math.pi\n",
    "a = torch.rand(1).item()*0.5+0.5\n",
    "t_x = torch.rand(4, 1)*4*math.pi - 2*math.pi\n",
    "# print(t_x)\n",
    "t_y = torch.sin(a*t_x + t_b)\n",
    "# print(t_y)\n",
    "opt.zero_grad()\n",
    "t_params = params\n",
    "for k in range(n_inner_loop):\n",
    "    t_f = net(t_x, t_params)\n",
    "    t_loss = F.l1_loss(t_f, t_y)\n",
    "    # print(t_loss)\n",
    "    grads = torch.autograd.grad(t_loss, t_params, create_graph=True)\n",
    "    t_params = [(t_params[i] - alpha*grads[i]) for i in range(len(params))]\n",
    "\n",
    "test_x = torch.arange(-2*math.pi, 2*math.pi, step=0.1).unsqueeze(1)\n",
    "test_y = torch.sin(a*test_x + t_b)\n",
    "\n",
    "test_f = net(test_x, t_params)\n",
    "# print(test_f)\n",
    "plt.plot(test_x.data.numpy(), test_y.data.numpy(), label='sin(x)')\n",
    "plt.plot(test_x.data.numpy(), test_f.data.numpy(), label='net(x)')\n",
    "plt.plot(t_x.data.numpy(), t_y.data.numpy(), 'o', label='Examples')\n",
    "plt.legend()\n",
    "plt.show()"
   ]
  },
  {
   "cell_type": "markdown",
   "metadata": {
    "id": "FThPyZsJeikQ"
   },
   "source": [
    "We are going to try to understand what the above code does."
   ]
  },
  {
   "cell_type": "markdown",
   "metadata": {
    "id": "5HV-nypfeD36"
   },
   "source": [
    "2) Modify the above evaluation cell to set t_b = math.pi. Qualitatively how does the solution compare to t_b = 0. Explain the behavior. "
   ]
  },
  {
   "cell_type": "code",
   "execution_count": 84,
   "metadata": {
    "colab": {
     "base_uri": "https://localhost:8080/",
     "height": 299
    },
    "id": "5KGs42Ud70yo",
    "outputId": "82148a26-ecd2-401b-e945-cc3765c2af56"
   },
   "outputs": [
    {
     "name": "stderr",
     "output_type": "stream",
     "text": [
      "/usr/local/lib/python3.7/dist-packages/torch/nn/functional.py:1698: UserWarning: nn.functional.tanh is deprecated. Use torch.tanh instead.\n",
      "  warnings.warn(\"nn.functional.tanh is deprecated. Use torch.tanh instead.\")\n"
     ]
    },
    {
     "data": {
      "image/png": "[encoded data removed]",
      "text/plain": [
       "<Figure size 432x288 with 1 Axes>"
      ]
     },
     "metadata": {
      "needs_background": "light",
      "tags": []
     },
     "output_type": "display_data"
    }
   ],
   "source": [
    "t_b = math.pi #math.pi\n",
    "t_y = torch.sin(a*t_x + t_b)\n",
    "\n",
    "opt.zero_grad()\n",
    "\n",
    "t_params = params\n",
    "for k in range(n_inner_loop):\n",
    "    t_f = net(t_x, t_params)\n",
    "    t_loss = F.l1_loss(t_f, t_y)\n",
    "\n",
    "    grads = torch.autograd.grad(t_loss, t_params, create_graph=True)\n",
    "    t_params = [(t_params[i] - alpha*grads[i]) for i in range(len(params))]\n",
    "\n",
    "\n",
    "\n",
    "test_y = torch.sin(a*test_x + t_b)\n",
    "test_f = net(test_x, t_params)\n",
    "\n",
    "plt.plot(test_x.data.numpy(), test_y.data.numpy(), label='sin(x)')\n",
    "plt.plot(test_x.data.numpy(), test_f.data.numpy(), label='net(x)')\n",
    "plt.plot(t_x.data.numpy(), t_y.data.numpy(), 'o', label='Examples')\n",
    "plt.legend()\n",
    "plt.show()"
   ]
  },
  {
   "cell_type": "markdown",
   "metadata": {
    "id": "Hdld9TagZpsl"
   },
   "source": [
    "**It's really bad , the predicted sin wave looks like shifted by and flatten**"
   ]
  },
  {
   "cell_type": "markdown",
   "metadata": {
    "id": "FMbRWDJheuAB"
   },
   "source": [
    "3) Rerun the cell from (1) and then write a code to compare the result on the same sinusoid to just initializing the network with a random $w_0$ instead of one learnt with the nested objective.  Fit the same function with the same number of steps (n_inner_loop).  "
   ]
  },
  {
   "cell_type": "code",
   "execution_count": 88,
   "metadata": {
    "colab": {
     "base_uri": "https://localhost:8080/",
     "height": 0
    },
    "id": "TLcQ52v5dCVH",
    "outputId": "a56a0305-eb6a-4b06-e223-1d8321302885"
   },
   "outputs": [
    {
     "name": "stderr",
     "output_type": "stream",
     "text": [
      "/usr/local/lib/python3.7/dist-packages/torch/nn/functional.py:1698: UserWarning: nn.functional.tanh is deprecated. Use torch.tanh instead.\n",
      "  warnings.warn(\"nn.functional.tanh is deprecated. Use torch.tanh instead.\")\n"
     ]
    },
    {
     "name": "stdout",
     "output_type": "stream",
     "text": [
      "Iteration 0 -- Inner loop 0 -- Loss: 0.5309\n",
      "Iteration 0 -- Inner loop 1 -- Loss: 0.5176\n",
      "Iteration 0 -- Inner loop 2 -- Loss: 0.5042\n",
      "Iteration 0 -- Outer Loss: 0.9492\n",
      "Iteration 500 -- Inner loop 0 -- Loss: 2.8151\n",
      "Iteration 500 -- Inner loop 1 -- Loss: 2.0769\n",
      "Iteration 500 -- Inner loop 2 -- Loss: 1.3137\n",
      "Iteration 500 -- Outer Loss: 0.2826\n",
      "Iteration 1000 -- Inner loop 0 -- Loss: 2.4529\n",
      "Iteration 1000 -- Inner loop 1 -- Loss: 1.7242\n",
      "Iteration 1000 -- Inner loop 2 -- Loss: 1.0397\n",
      "Iteration 1000 -- Outer Loss: 0.1562\n",
      "Iteration 1500 -- Inner loop 0 -- Loss: 2.1900\n",
      "Iteration 1500 -- Inner loop 1 -- Loss: 1.5213\n",
      "Iteration 1500 -- Inner loop 2 -- Loss: 0.9341\n",
      "Iteration 1500 -- Outer Loss: 0.0898\n",
      "Iteration 2000 -- Inner loop 0 -- Loss: 1.9486\n",
      "Iteration 2000 -- Inner loop 1 -- Loss: 1.2906\n",
      "Iteration 2000 -- Inner loop 2 -- Loss: 0.7262\n",
      "Iteration 2000 -- Outer Loss: 0.1189\n",
      "Iteration 2500 -- Inner loop 0 -- Loss: 2.0215\n",
      "Iteration 2500 -- Inner loop 1 -- Loss: 1.4217\n",
      "Iteration 2500 -- Inner loop 2 -- Loss: 0.9087\n",
      "Iteration 2500 -- Outer Loss: 0.0728\n",
      "Iteration 3000 -- Inner loop 0 -- Loss: 1.8790\n",
      "Iteration 3000 -- Inner loop 1 -- Loss: 1.2834\n",
      "Iteration 3000 -- Inner loop 2 -- Loss: 0.7779\n",
      "Iteration 3000 -- Outer Loss: 0.0489\n",
      "Iteration 3500 -- Inner loop 0 -- Loss: 1.9366\n",
      "Iteration 3500 -- Inner loop 1 -- Loss: 1.3580\n",
      "Iteration 3500 -- Inner loop 2 -- Loss: 0.8670\n",
      "Iteration 3500 -- Outer Loss: 0.0654\n",
      "Iteration 4000 -- Inner loop 0 -- Loss: 1.7385\n",
      "Iteration 4000 -- Inner loop 1 -- Loss: 1.1860\n",
      "Iteration 4000 -- Inner loop 2 -- Loss: 0.7207\n",
      "Iteration 4000 -- Outer Loss: 0.0644\n",
      "Iteration 4500 -- Inner loop 0 -- Loss: 1.7378\n",
      "Iteration 4500 -- Inner loop 1 -- Loss: 1.1902\n",
      "Iteration 4500 -- Inner loop 2 -- Loss: 0.7286\n",
      "Iteration 4500 -- Outer Loss: 0.0431\n"
     ]
    }
   ],
   "source": [
    "def net(x, params):\n",
    "    x = F.linear(x, params[0], params[1])\n",
    "    x = F.tanh(x)\n",
    "\n",
    "    x = F.linear(x, params[2], params[3])\n",
    "    x = F.tanh(x)\n",
    "\n",
    "    x = F.linear(x, params[4], params[5])\n",
    "    return x\n",
    "\n",
    "params = [\n",
    "    # torch.Tensor(32, 1).rand().requires_grad_(),\n",
    "    torch.rand(32, 1).requires_grad_(),\n",
    "    torch.Tensor(32).zero_().requires_grad_(),\n",
    "\n",
    "    torch.Tensor(32, 32).uniform_(-1./math.sqrt(32), 1./math.sqrt(32)).requires_grad_(),\n",
    "    torch.Tensor(32).zero_().requires_grad_(),\n",
    "\n",
    "    torch.Tensor(1, 32).uniform_(-1./math.sqrt(32), 1./math.sqrt(32)).requires_grad_(),\n",
    "    torch.Tensor(1).zero_().requires_grad_(),\n",
    "]\n",
    "\n",
    "opt = torch.optim.SGD(params, lr=1e-2)\n",
    "n_inner_loop = 3\n",
    "alpha = 3e-2\n",
    "\n",
    "for it in range(5000):\n",
    "    # # sample frequency \n",
    "    # a = torch.rand(1).item()*0.5+0.5\n",
    "    \n",
    "    # #Data for the inner loop\n",
    "    # x = torch.rand(4, 1)*4*math.pi - 2*math.pi\n",
    "    # y = torch.sin(a*x)\n",
    "\n",
    "    # #Data for the outer loop\n",
    "    # v_x = torch.rand(4, 1)*4*math.pi - 2*math.pi\n",
    "    # v_y = torch.sin(a*v_x)\n",
    "\n",
    "    opt.zero_grad()\n",
    "\n",
    "    new_params = params\n",
    "    for k in range(n_inner_loop):\n",
    "        f = net(x, new_params)\n",
    "        loss = F.l1_loss(f, y)\n",
    "\n",
    "        # create_graph=True because computing grads here is part of the forward pass.\n",
    "        # We want to differentiate through the SGD update steps and get higher order\n",
    "        # derivatives in the backward pass.\n",
    "        grads = torch.autograd.grad(loss, new_params, create_graph=True)\n",
    "        new_params = [(new_params[i] - alpha*grads[i]) for i in range(len(params))]\n",
    "\n",
    "        if it % 500 == 0: print('Iteration %d -- Inner loop %d -- Loss: %.4f' % (it, k, loss))\n",
    "\n",
    "    v_f = net(v_x, new_params)\n",
    "    loss2 = F.l1_loss(v_f, v_y)\n",
    "    loss2.backward()\n",
    "\n",
    "    opt.step()\n",
    "\n",
    "    if it % 500 == 0: print('Iteration %d -- Outer Loss: %.4f' % (it, loss2))"
   ]
  },
  {
   "cell_type": "code",
   "execution_count": 89,
   "metadata": {
    "colab": {
     "base_uri": "https://localhost:8080/",
     "height": 299
    },
    "id": "CO2ivooidOga",
    "outputId": "67836ae3-6744-460f-997f-9ab577fc9a7f"
   },
   "outputs": [
    {
     "name": "stderr",
     "output_type": "stream",
     "text": [
      "/usr/local/lib/python3.7/dist-packages/torch/nn/functional.py:1698: UserWarning: nn.functional.tanh is deprecated. Use torch.tanh instead.\n",
      "  warnings.warn(\"nn.functional.tanh is deprecated. Use torch.tanh instead.\")\n"
     ]
    },
    {
     "data": {
      "image/png": "[encoded data removed]",
      "text/plain": [
       "<Figure size 432x288 with 1 Axes>"
      ]
     },
     "metadata": {
      "needs_background": "light",
      "tags": []
     },
     "output_type": "display_data"
    }
   ],
   "source": [
    "t_b = 0 #math.pi\n",
    "a = torch.rand(1).item()*0.5+0.5\n",
    "t_y = torch.sin(a*t_x + t_b)\n",
    "# print(t_y)\n",
    "opt.zero_grad()\n",
    "t_params = params\n",
    "for k in range(n_inner_loop):\n",
    "    t_f = net(t_x, t_params)\n",
    "    t_loss = F.l1_loss(t_f, t_y)\n",
    "    # print(t_loss)\n",
    "    grads = torch.autograd.grad(t_loss, t_params, create_graph=True)\n",
    "    t_params = [(t_params[i] - alpha*grads[i]) for i in range(len(params))]\n",
    "\n",
    "test_y = torch.sin(a*test_x + t_b)\n",
    "\n",
    "test_f = net(test_x, t_params)\n",
    "# print(test_f)\n",
    "plt.plot(test_x.data.numpy(), test_y.data.numpy(), label='sin(x)')\n",
    "plt.plot(test_x.data.numpy(), test_f.data.numpy(), label='net(x)')\n",
    "plt.plot(t_x.data.numpy(), t_y.data.numpy(), 'o', label='Examples')\n",
    "plt.legend()\n",
    "plt.show()"
   ]
  },
  {
   "cell_type": "markdown",
   "metadata": {
    "id": "9myrhDU8rFgc"
   },
   "source": [
    "4) Now let's imagine we also want to find the best learning rate to use in the inner loop using gradient descent. We can now add the learning rate as a parameter to optimize in the outer objective. Thus we have\n",
    "\n",
    "$\\min_{w,\\alpha}\\mathcal{L}(f_{w_T}(X_{val}),f_t(X_{val}))$\n",
    "where $w$ is obtained by iterating $T$ times\n",
    "$w_{t} = w_{t-1} -\\alpha\\nabla \\mathcal{L}(f_{w_{t-1}}(X_{train}),f_s(X_{train}))$. Note $w_T$ is dependent on $w_0$ and $\\alpha$.\n",
    "\n",
    "The code below implements this idea. Modify it to print the gradient of $\\alpha$ in the first iteration of the outer loop and run the code. "
   ]
  },
  {
   "cell_type": "code",
   "execution_count": 96,
   "metadata": {
    "colab": {
     "base_uri": "https://localhost:8080/",
     "height": 0
    },
    "id": "dSIUUS7crFrt",
    "outputId": "c63ba0a9-48bc-46af-c8f4-fafad475c58f"
   },
   "outputs": [
    {
     "name": "stderr",
     "output_type": "stream",
     "text": [
      "/usr/local/lib/python3.7/dist-packages/torch/nn/functional.py:1698: UserWarning: nn.functional.tanh is deprecated. Use torch.tanh instead.\n",
      "  warnings.warn(\"nn.functional.tanh is deprecated. Use torch.tanh instead.\")\n"
     ]
    },
    {
     "name": "stdout",
     "output_type": "stream",
     "text": [
      "Iteration 0 -- Inner loop 0 -- Loss: 0.6593\n",
      "Iteration 0 -- Inner loop 1 -- Loss: 0.2968\n",
      "Iteration 0 -- Inner loop 2 -- Loss: 0.6132\n",
      "Iteration 0 -- Inner loop 3 -- Loss: 0.1980\n",
      "Iteration 0 -- Inner loop 4 -- Loss: 0.1523\n",
      "Iteration 0 -- Outer Loss: 0.4925, learning rate: 0.09990\n",
      "alpha grad= tensor([1.6356])\n",
      "Iteration 500 -- Inner loop 0 -- Loss: 0.5684\n",
      "Iteration 500 -- Inner loop 1 -- Loss: 0.5506\n",
      "Iteration 500 -- Inner loop 2 -- Loss: 0.5305\n",
      "Iteration 500 -- Inner loop 3 -- Loss: 0.5082\n",
      "Iteration 500 -- Inner loop 4 -- Loss: 0.4832\n",
      "Iteration 500 -- Outer Loss: 0.6964, learning rate: 0.08678\n",
      "alpha grad= tensor([-0.7778])\n",
      "Iteration 1000 -- Inner loop 0 -- Loss: 0.1057\n",
      "Iteration 1000 -- Inner loop 1 -- Loss: 0.0918\n",
      "Iteration 1000 -- Inner loop 2 -- Loss: 0.1059\n",
      "Iteration 1000 -- Inner loop 3 -- Loss: 0.0912\n",
      "Iteration 1000 -- Inner loop 4 -- Loss: 0.1060\n",
      "Iteration 1000 -- Outer Loss: 0.2944, learning rate: 0.07558\n",
      "alpha grad= tensor([0.3883])\n",
      "Iteration 1500 -- Inner loop 0 -- Loss: 0.4531\n",
      "Iteration 1500 -- Inner loop 1 -- Loss: 0.3680\n",
      "Iteration 1500 -- Inner loop 2 -- Loss: 0.2939\n",
      "Iteration 1500 -- Inner loop 3 -- Loss: 0.2238\n",
      "Iteration 1500 -- Inner loop 4 -- Loss: 0.2096\n",
      "Iteration 1500 -- Outer Loss: 0.1250, learning rate: 0.06116\n",
      "alpha grad= tensor([-1.4812])\n",
      "Iteration 2000 -- Inner loop 0 -- Loss: 0.4415\n",
      "Iteration 2000 -- Inner loop 1 -- Loss: 0.3259\n",
      "Iteration 2000 -- Inner loop 2 -- Loss: 0.2418\n",
      "Iteration 2000 -- Inner loop 3 -- Loss: 0.1760\n",
      "Iteration 2000 -- Inner loop 4 -- Loss: 0.1558\n",
      "Iteration 2000 -- Outer Loss: 0.1600, learning rate: 0.04408\n",
      "alpha grad= tensor([-4.2657])\n",
      "Iteration 2500 -- Inner loop 0 -- Loss: 0.1985\n",
      "Iteration 2500 -- Inner loop 1 -- Loss: 0.1940\n",
      "Iteration 2500 -- Inner loop 2 -- Loss: 0.1783\n",
      "Iteration 2500 -- Inner loop 3 -- Loss: 0.1657\n",
      "Iteration 2500 -- Inner loop 4 -- Loss: 0.1795\n",
      "Iteration 2500 -- Outer Loss: 0.3859, learning rate: 0.02753\n",
      "alpha grad= tensor([2.3833])\n",
      "Iteration 3000 -- Inner loop 0 -- Loss: 0.2127\n",
      "Iteration 3000 -- Inner loop 1 -- Loss: 0.1333\n",
      "Iteration 3000 -- Inner loop 2 -- Loss: 0.0936\n",
      "Iteration 3000 -- Inner loop 3 -- Loss: 0.0751\n",
      "Iteration 3000 -- Inner loop 4 -- Loss: 0.0843\n",
      "Iteration 3000 -- Outer Loss: 0.2477, learning rate: 0.01924\n",
      "alpha grad= tensor([6.8957])\n",
      "Iteration 3500 -- Inner loop 0 -- Loss: 0.3324\n",
      "Iteration 3500 -- Inner loop 1 -- Loss: 0.2805\n",
      "Iteration 3500 -- Inner loop 2 -- Loss: 0.2381\n",
      "Iteration 3500 -- Inner loop 3 -- Loss: 0.2039\n",
      "Iteration 3500 -- Inner loop 4 -- Loss: 0.1761\n",
      "Iteration 3500 -- Outer Loss: 0.1262, learning rate: 0.01573\n",
      "alpha grad= tensor([8.7041])\n",
      "Iteration 4000 -- Inner loop 0 -- Loss: 0.2974\n",
      "Iteration 4000 -- Inner loop 1 -- Loss: 0.1121\n",
      "Iteration 4000 -- Inner loop 2 -- Loss: 0.0917\n",
      "Iteration 4000 -- Inner loop 3 -- Loss: 0.1448\n",
      "Iteration 4000 -- Inner loop 4 -- Loss: 0.1320\n",
      "Iteration 4000 -- Outer Loss: 0.0975, learning rate: 0.01521\n",
      "alpha grad= tensor([-9.9040])\n",
      "Iteration 4500 -- Inner loop 0 -- Loss: 0.3073\n",
      "Iteration 4500 -- Inner loop 1 -- Loss: 0.2831\n",
      "Iteration 4500 -- Inner loop 2 -- Loss: 0.2632\n",
      "Iteration 4500 -- Inner loop 3 -- Loss: 0.2466\n",
      "Iteration 4500 -- Inner loop 4 -- Loss: 0.2323\n",
      "Iteration 4500 -- Outer Loss: 0.5125, learning rate: 0.01537\n",
      "alpha grad= tensor([-11.6047])\n"
     ]
    }
   ],
   "source": [
    "# From http://www.sagargv.com/blog/meta-learning-in-pytorch/\n",
    "\n",
    "import math\n",
    "import random\n",
    "import torch \n",
    "from torch import nn\n",
    "from torch.nn import functional as F\n",
    "import matplotlib.pyplot as plt\n",
    "\n",
    "def net(x, params):\n",
    "    x = F.linear(x, params[0], params[1])\n",
    "    x = F.tanh(x)\n",
    "\n",
    "    x = F.linear(x, params[2], params[3])\n",
    "    x = F.tanh(x)\n",
    "\n",
    "    x = F.linear(x, params[4], params[5])\n",
    "    return x\n",
    "\n",
    "params = [\n",
    "    torch.Tensor(32, 1).uniform_(-1., 1.).requires_grad_(),\n",
    "    torch.Tensor(32).zero_().requires_grad_(),\n",
    "\n",
    "    torch.Tensor(32, 32).uniform_(-1./math.sqrt(32), 1./math.sqrt(32)).requires_grad_(),\n",
    "    torch.Tensor(32).zero_().requires_grad_(),\n",
    "\n",
    "    torch.Tensor(1, 32).uniform_(-1./math.sqrt(32), 1./math.sqrt(32)).requires_grad_(),\n",
    "    torch.Tensor(1).zero_().requires_grad_(),\n",
    "]\n",
    "\n",
    "alpha = torch.FloatTensor([0.1]).requires_grad_()\n",
    "\n",
    "opt = torch.optim.SGD(params, lr=1e-2) \n",
    "opt2 = torch.optim.Adam([alpha], lr=1e-4)   \n",
    "n_inner_loop = 5\n",
    "\n",
    "for it in range(5000):\n",
    "    # sample frequency \n",
    "    a = torch.rand(1).item()*0.5+0.5\n",
    "    \n",
    "    #Data for the inner loop\n",
    "    x = torch.rand(4, 1)*4*math.pi - 2*math.pi\n",
    "    y = torch.sin(a*x)\n",
    "\n",
    "    #Data for the outer loop\n",
    "    v_x = torch.rand(4, 1)*4*math.pi - 2*math.pi\n",
    "    v_y = torch.sin(a*v_x)\n",
    "\n",
    "    opt.zero_grad()\n",
    "    opt2.zero_grad()\n",
    "\n",
    "    new_params = params\n",
    "    for k in range(n_inner_loop):\n",
    "        f = net(x, new_params)\n",
    "        loss = F.l1_loss(f, y)\n",
    "\n",
    "        # create_graph=True because computing grads here is part of the forward pass.\n",
    "        # We want to differentiate through the SGD update steps and get higher order\n",
    "        # derivatives in the backward pass.\n",
    "        grads = torch.autograd.grad(loss, new_params, create_graph=True)\n",
    "        new_params = [(new_params[i] - alpha*grads[i]) for i in range(len(params))]\n",
    "\n",
    "        if it % 500 == 0: print('Iteration %d -- Inner loop %d -- Loss: %.4f' % (it, k, loss))\n",
    "\n",
    "    v_f = net(v_x, new_params)\n",
    "    loss2 = F.l1_loss(v_f, v_y)\n",
    "    loss2.backward()\n",
    "\n",
    "    #TODO print the gradient of alpha\n",
    "\n",
    "    opt.step()\n",
    "    opt2.step()\n",
    "\n",
    "    if it % 500 == 0: \n",
    "      print('Iteration %d -- Outer Loss: %.4f, learning rate: %.5f' % (it, loss2, alpha))\n",
    "      print(\"alpha grad=\",alpha.grad)\n"
   ]
  },
  {
   "cell_type": "code",
   "execution_count": 97,
   "metadata": {
    "colab": {
     "base_uri": "https://localhost:8080/",
     "height": 299
    },
    "id": "c5-n9TfQfF7T",
    "outputId": "cb2d2035-2560-41e4-f358-58a4ab4ed342"
   },
   "outputs": [
    {
     "name": "stderr",
     "output_type": "stream",
     "text": [
      "/usr/local/lib/python3.7/dist-packages/torch/nn/functional.py:1698: UserWarning: nn.functional.tanh is deprecated. Use torch.tanh instead.\n",
      "  warnings.warn(\"nn.functional.tanh is deprecated. Use torch.tanh instead.\")\n"
     ]
    },
    {
     "data": {
      "image/png": "[encoded data removed]",
      "text/plain": [
       "<Figure size 432x288 with 1 Axes>"
      ]
     },
     "metadata": {
      "needs_background": "light",
      "tags": []
     },
     "output_type": "display_data"
    }
   ],
   "source": [
    "t_b = 0 #math.pi\n",
    "a = torch.rand(1).item()*0.5+0.5\n",
    "t_y = torch.sin(a*t_x + t_b)\n",
    "# print(t_y)\n",
    "opt.zero_grad()\n",
    "t_params = params\n",
    "for k in range(n_inner_loop):\n",
    "    t_f = net(t_x, t_params)\n",
    "    t_loss = F.l1_loss(t_f, t_y)\n",
    "    # print(t_loss)\n",
    "    grads = torch.autograd.grad(t_loss, t_params, create_graph=True)\n",
    "    t_params = [(t_params[i] - alpha*grads[i]) for i in range(len(params))]\n",
    "\n",
    "test_y = torch.sin(a*test_x + t_b)\n",
    "\n",
    "test_f = net(test_x, t_params)\n",
    "# print(test_f)\n",
    "plt.plot(test_x.data.numpy(), test_y.data.numpy(), label='sin(x)')\n",
    "plt.plot(test_x.data.numpy(), test_f.data.numpy(), label='net(x)')\n",
    "plt.plot(t_x.data.numpy(), t_y.data.numpy(), 'o', label='Examples')\n",
    "plt.legend()\n",
    "plt.show()"
   ]
  },
  {
   "cell_type": "markdown",
   "metadata": {
    "id": "mAwQQJZ1fP6P"
   },
   "source": [
    "**Apparently, this is the highest fit**"
   ]
  },
  {
   "cell_type": "code",
   "execution_count": null,
   "metadata": {
    "id": "tOVA7oQMfnPL"
   },
   "outputs": [],
   "source": []
  }
 ],
 "metadata": {
  "accelerator": "GPU",
  "colab": {
   "name": "Lab8_ex.ipynb",
   "provenance": []
  },
  "kernelspec": {
   "display_name": "Python 3",
   "language": "python",
   "name": "python3"
  },
  "language_info": {
   "codemirror_mode": {
    "name": "ipython",
    "version": 3
   },
   "file_extension": ".py",
   "mimetype": "text/x-python",
   "name": "python",
   "nbconvert_exporter": "python",
   "pygments_lexer": "ipython3",
   "version": "3.9.2"
  }
 },
 "nbformat": 4,
 "nbformat_minor": 1
}
