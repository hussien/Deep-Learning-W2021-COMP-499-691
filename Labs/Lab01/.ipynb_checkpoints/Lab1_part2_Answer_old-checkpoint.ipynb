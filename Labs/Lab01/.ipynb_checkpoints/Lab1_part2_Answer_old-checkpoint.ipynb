{
 "cells": [
  {
   "cell_type": "markdown",
   "metadata": {
    "id": "S02d9PimAZKJ"
   },
   "source": [
    "In this lab we will review some basics of pytorch. Save your answers for this lab as they will be used for part of Lab 2. \n",
    "\n"
   ]
  },
  {
   "cell_type": "markdown",
   "metadata": {
    "id": "CIDPxv5l2qpI"
   },
   "source": [
    "(1) Create a dataloader for the MNIST training data using torchvision package. Have your dataloader iterate over the training set outputing mini-batches of size 256 image samples. Note you do not need to use the image labels in this lab. You may follow the example in the official pytorch examples: \n",
    "\n",
    "https://github.com/pytorch/examples/blob/master/mnist/main.py#L112-L120\n"
   ]
  },
  {
   "cell_type": "code",
   "execution_count": 1,
   "metadata": {},
   "outputs": [],
   "source": [
    "import numpy as np\n",
    "import math\n",
    "import matplotlib.pyplot as plt\n",
    "import torch\n",
    "import torchvision\n",
    "import torchvision.transforms as transforms\n",
    "import torch.nn as nn\n",
    "import torch.nn.functional as F\n",
    "import torch.optim as optim"
   ]
  },
  {
   "cell_type": "code",
   "execution_count": 2,
   "metadata": {},
   "outputs": [],
   "source": [
    "def imshow(img):\n",
    "    img = img / 2 + 0.5     # unnormalize\n",
    "    npimg = img.numpy()\n",
    "    plt.imshow(np.transpose(npimg, (1, 2, 0)))"
   ]
  },
  {
   "cell_type": "code",
   "execution_count": 3,
   "metadata": {},
   "outputs": [
    {
     "data": {
      "text/plain": [
       "<torch._C.Generator at 0x87b1cdecf0>"
      ]
     },
     "execution_count": 3,
     "metadata": {},
     "output_type": "execute_result"
    }
   ],
   "source": [
    "n_epochs = 3\n",
    "batch_size_train = 256\n",
    "batch_size_test = 256\n",
    "learning_rate = 0.01\n",
    "momentum = 0.5\n",
    "log_interval = 10\n",
    "random_seed = 1\n",
    "torch.backends.cudnn.enabled = False\n",
    "torch.manual_seed(random_seed)"
   ]
  },
  {
   "cell_type": "code",
   "execution_count": 4,
   "metadata": {},
   "outputs": [],
   "source": [
    "train_loader = torch.utils.data.DataLoader(\n",
    "  torchvision.datasets.MNIST('/files/', train=True, download=True,\n",
    "                             transform=torchvision.transforms.Compose([\n",
    "                               torchvision.transforms.ToTensor(),\n",
    "                               torchvision.transforms.Normalize(\n",
    "                                 (0.1307,), (0.3081,))\n",
    "                             ])),\n",
    "  batch_size=batch_size_train, shuffle=True)\n",
    "\n",
    "test_loader = torch.utils.data.DataLoader(\n",
    "  torchvision.datasets.MNIST('/files/', train=False, download=True,\n",
    "                             transform=torchvision.transforms.Compose([\n",
    "                               torchvision.transforms.ToTensor(),\n",
    "                               torchvision.transforms.Normalize(\n",
    "                                 (0.1307,), (0.3081,))\n",
    "                             ])),\n",
    "  batch_size=batch_size_test, shuffle=True)"
   ]
  },
  {
   "cell_type": "code",
   "execution_count": 5,
   "metadata": {},
   "outputs": [
    {
     "name": "stderr",
     "output_type": "stream",
     "text": [
      "Clipping input data to the valid range for imshow with RGB data ([0..1] for floats or [0..255] for integers).\n"
     ]
    },
    {
     "name": "stdout",
     "output_type": "stream",
     "text": [
      "torch.Size([256, 1, 28, 28])\n",
      "torch.Size([256, 1, 28, 28])\n"
     ]
    },
    {
     "data": {
      "image/png": "[encoded data removed]",
      "text/plain": [
       "<Figure size 432x288 with 1 Axes>"
      ]
     },
     "metadata": {
      "needs_background": "light"
     },
     "output_type": "display_data"
    }
   ],
   "source": [
    "dataiter = iter(test_loader)\n",
    "images, labels =dataiter.next()\n",
    "print(images.shape)\n",
    "imshow(torchvision.utils.make_grid(images))\n",
    "\n",
    "examples = enumerate(test_loader)\n",
    "batch_idx, (example_data, example_targets) = next(examples)\n",
    "print(example_data.shape)"
   ]
  },
  {
   "cell_type": "code",
   "execution_count": 6,
   "metadata": {},
   "outputs": [
    {
     "data": {
      "image/png": "[encoded data removed]",
      "text/plain": [
       "<Figure size 432x288 with 6 Axes>"
      ]
     },
     "execution_count": 6,
     "metadata": {},
     "output_type": "execute_result"
    },
    {
     "data": {
      "image/png": "[encoded data removed]",
      "text/plain": [
       "<Figure size 432x288 with 6 Axes>"
      ]
     },
     "metadata": {},
     "output_type": "display_data"
    }
   ],
   "source": [
    "import matplotlib.pyplot as plt\n",
    "fig = plt.figure()\n",
    "for i in range(6):\n",
    "  plt.subplot(2,3,i+1)\n",
    "  plt.tight_layout()\n",
    "#   print(len(torch.flatten(example_data[i+10][0])))\n",
    "  plt.imshow(example_data[i+10][0], cmap='gray', interpolation='none')\n",
    "  plt.title(\"Ground Truth: {}\".format(example_targets[i+10]))\n",
    "  plt.xticks([])\n",
    "  plt.yticks([])\n",
    "fig\n",
    "    "
   ]
  },
  {
   "cell_type": "markdown",
   "metadata": {
    "id": "14MBuiusdZmA"
   },
   "source": [
    "(2) Using only torch primitives (e.g. torch.matmul, torch._relu, etc) implement a simple feedforward neural network with 2 hidden layers that takes as input MNIST digits and outputs a single scalar value. You may select the hidden layer width (greater than 20) and activations (tanh, relu, sigmoid, others) as desired.  Initialize the weights and biases with uniform random values in the range -1 to 1. Avoid using any functions from torch.nn class. Using the loop from (1) Forward pass through the dataset in mini-batches of 256 and record the time this takes. "
   ]
  },
  {
   "cell_type": "code",
   "execution_count": 7,
   "metadata": {
    "id": "bhZ0I_q7dnb9"
   },
   "outputs": [
    {
     "name": "stdout",
     "output_type": "stream",
     "text": [
      "tensor([1.9250e-07])\n",
      "tensor([6.5842e-09])\n",
      "tensor([0.0002])\n",
      "tensor([8.8074e-13])\n",
      "tensor([1.6191e-08])\n",
      "tensor([6.9406e-13])\n",
      "tensor([2.5992e-11])\n",
      "tensor([2.3353e-11])\n",
      "tensor([7.8137e-11])\n",
      "tensor([1.1934e-15])\n",
      "tensor([8.9004e-14])\n",
      "tensor([2.2219e-09])\n",
      "tensor([2.2988e-08])\n",
      "tensor([1.1119e-17])\n",
      "tensor([1.])\n",
      "tensor([0.9875])\n",
      "tensor([3.4141e-15])\n",
      "tensor([7.8295e-15])\n",
      "tensor([2.9420e-07])\n",
      "tensor([0.8383])\n",
      "tensor([0.4904])\n",
      "tensor([8.2852e-12])\n",
      "tensor([0.0007])\n",
      "tensor([5.7557e-07])\n",
      "tensor([0.1838])\n",
      "tensor([2.9703e-18])\n",
      "tensor([2.7820e-13])\n",
      "tensor([1.3344e-19])\n",
      "tensor([2.3103e-11])\n",
      "tensor([1.7211e-06])\n",
      "tensor([2.2085e-12])\n",
      "tensor([5.9497e-18])\n",
      "tensor([1.5195e-08])\n",
      "tensor([1.9690e-24])\n",
      "tensor([2.9478e-21])\n",
      "tensor([9.1001e-23])\n",
      "tensor([0.0407])\n",
      "tensor([2.9788e-06])\n",
      "tensor([5.6683e-10])\n",
      "tensor([0.0365])\n",
      "tensor([1.4901e-16])\n",
      "tensor([1.9873e-12])\n",
      "tensor([1.4318e-22])\n",
      "tensor([2.8170e-08])\n",
      "tensor([1.5672e-10])\n",
      "tensor([6.6215e-09])\n",
      "tensor([0.7757])\n",
      "tensor([0.9368])\n",
      "tensor([2.0810e-15])\n",
      "tensor([1.6246e-12])\n",
      "tensor([1.2899e-22])\n",
      "tensor([2.7150e-20])\n",
      "tensor([1.3750e-17])\n",
      "tensor([8.9441e-13])\n",
      "tensor([1.8315e-17])\n",
      "tensor([1.3475e-13])\n",
      "tensor([0.7046])\n",
      "tensor([1.0822e-08])\n",
      "tensor([1.5744e-08])\n",
      "tensor([2.2521e-06])\n",
      "tensor([0.2090])\n",
      "tensor([3.6980e-07])\n",
      "tensor([1.5946e-10])\n",
      "tensor([0.9999])\n",
      "tensor([2.7906e-09])\n",
      "tensor([3.5076e-07])\n",
      "tensor([1.8727e-06])\n",
      "tensor([1.0000])\n",
      "tensor([5.0663e-13])\n",
      "tensor([1.5873e-21])\n",
      "tensor([3.6331e-12])\n",
      "tensor([0.0015])\n",
      "tensor([1.0000])\n",
      "tensor([1.7577e-12])\n",
      "tensor([5.5835e-12])\n",
      "tensor([5.3557e-09])\n",
      "tensor([3.4308e-14])\n",
      "tensor([3.0447e-32])\n",
      "tensor([2.8180e-06])\n",
      "tensor([0.0346])\n",
      "tensor([0.0018])\n",
      "tensor([0.0002])\n",
      "tensor([8.4914e-23])\n",
      "tensor([0.9976])\n",
      "tensor([3.4551e-09])\n",
      "tensor([0.0097])\n",
      "tensor([1.9832e-20])\n",
      "tensor([1.8840e-13])\n",
      "tensor([8.2570e-20])\n",
      "tensor([0.0885])\n",
      "tensor([1.5306e-11])\n",
      "tensor([8.5041e-12])\n",
      "tensor([4.1553e-10])\n",
      "tensor([5.6470e-17])\n",
      "tensor([0.3357])\n",
      "tensor([8.8431e-09])\n",
      "tensor([8.9660e-05])\n",
      "tensor([0.8063])\n",
      "tensor([1.3644e-05])\n",
      "tensor([1.7283e-05])\n",
      "tensor([0.0026])\n",
      "tensor([6.8620e-08])\n",
      "tensor([0.0089])\n",
      "tensor([7.6485e-09])\n",
      "tensor([0.9979])\n",
      "tensor([3.7990e-13])\n",
      "tensor([4.0714e-09])\n",
      "tensor([8.7928e-15])\n",
      "tensor([1.4710e-11])\n",
      "tensor([0.0463])\n",
      "tensor([2.2459e-20])\n",
      "tensor([8.6842e-14])\n",
      "tensor([3.7742e-21])\n",
      "tensor([5.5138e-07])\n",
      "tensor([8.6810e-18])\n",
      "tensor([1.3169e-16])\n",
      "tensor([9.1933e-15])\n",
      "tensor([0.0771])\n",
      "tensor([7.7023e-13])\n",
      "tensor([3.8582e-08])\n",
      "tensor([0.0005])\n",
      "tensor([3.2147e-08])\n",
      "tensor([5.8528e-15])\n",
      "tensor([3.6579e-08])\n",
      "tensor([6.7617e-08])\n",
      "tensor([8.0367e-13])\n",
      "tensor([4.6483e-30])\n",
      "tensor([5.1563e-09])\n",
      "tensor([3.4284e-23])\n",
      "tensor([0.0015])\n",
      "tensor([5.7622e-08])\n",
      "tensor([1.7035e-08])\n",
      "tensor([3.3508e-19])\n",
      "tensor([8.9816e-22])\n",
      "tensor([1.2966e-19])\n",
      "tensor([4.8353e-14])\n",
      "tensor([1.0200e-14])\n",
      "tensor([8.3944e-07])\n",
      "tensor([3.6256e-06])\n",
      "tensor([2.3102e-11])\n",
      "tensor([0.0002])\n",
      "tensor([4.6523e-10])\n",
      "tensor([0.9998])\n",
      "tensor([0.9991])\n",
      "tensor([4.5729e-20])\n",
      "tensor([5.7764e-11])\n",
      "tensor([3.3815e-14])\n",
      "tensor([6.3918e-23])\n",
      "tensor([3.8539e-10])\n",
      "tensor([7.2348e-11])\n",
      "tensor([2.9015e-08])\n",
      "tensor([1.8290e-14])\n",
      "tensor([1.2158e-13])\n",
      "tensor([0.5845])\n",
      "tensor([5.6111e-20])\n",
      "tensor([2.7124e-14])\n",
      "tensor([0.0781])\n",
      "tensor([3.4085e-11])\n",
      "tensor([2.2454e-12])\n",
      "tensor([2.1698e-12])\n",
      "tensor([5.1290e-24])\n",
      "tensor([4.9791e-13])\n",
      "tensor([1.0671e-07])\n",
      "tensor([7.5093e-06])\n",
      "tensor([0.9925])\n",
      "tensor([9.1284e-15])\n",
      "tensor([2.5938e-10])\n",
      "tensor([2.2954e-10])\n",
      "tensor([2.8590e-12])\n",
      "tensor([0.0044])\n",
      "tensor([1.9747e-06])\n",
      "tensor([4.7627e-25])\n",
      "tensor([1.6567e-12])\n",
      "tensor([6.5832e-11])\n",
      "tensor([6.5356e-21])\n",
      "tensor([0.9581])\n",
      "tensor([3.8013e-19])\n",
      "tensor([4.1726e-08])\n",
      "tensor([0.0368])\n",
      "tensor([5.1540e-11])\n",
      "tensor([0.0007])\n",
      "tensor([0.0326])\n",
      "tensor([6.8031e-07])\n",
      "tensor([9.4728e-14])\n",
      "tensor([9.7319e-20])\n",
      "tensor([1.0561e-06])\n",
      "tensor([9.6325e-11])\n",
      "tensor([0.0008])\n",
      "tensor([5.2400e-20])\n",
      "tensor([1.6947e-15])\n",
      "tensor([0.0002])\n",
      "tensor([8.9110e-20])\n",
      "tensor([2.3150e-09])\n",
      "tensor([4.7318e-19])\n",
      "tensor([2.0961e-20])\n",
      "tensor([2.0709e-21])\n",
      "tensor([4.8508e-07])\n",
      "tensor([1.2159e-08])\n",
      "tensor([1.5627e-07])\n",
      "tensor([2.7746e-07])\n",
      "tensor([6.1847e-06])\n",
      "tensor([8.9065e-10])\n",
      "tensor([4.5765e-22])\n",
      "tensor([0.2482])\n",
      "tensor([5.6750e-08])\n",
      "tensor([0.1164])\n",
      "tensor([1.5138e-19])\n",
      "tensor([0.9994])\n",
      "tensor([1.0000])\n",
      "tensor([0.0107])\n",
      "tensor([0.9976])\n",
      "tensor([7.0164e-23])\n",
      "tensor([6.1147e-09])\n",
      "tensor([1.4085e-29])\n",
      "tensor([0.0102])\n",
      "tensor([8.8598e-07])\n",
      "tensor([6.3002e-12])\n",
      "tensor([1.7774e-05])\n",
      "tensor([3.4790e-17])\n",
      "tensor([4.0170e-10])\n",
      "tensor([1.2284e-05])\n",
      "tensor([2.2302e-05])\n",
      "tensor([5.8370e-14])\n",
      "tensor([1.0187e-14])\n",
      "tensor([5.7800e-22])\n",
      "tensor([2.3641e-09])\n",
      "tensor([1.4497e-05])\n",
      "tensor([1.8477e-07])\n",
      "tensor([0.0107])\n",
      "tensor([0.9680])\n",
      "tensor([4.7265e-06])\n",
      "tensor([8.5579e-17])\n",
      "tensor([6.9019e-21])\n",
      "tensor([2.6672e-16])\n",
      "tensor([6.3516e-14])\n",
      "tensor([3.6825e-10])\n",
      "tensor([0.3786])\n",
      "tensor([6.4336e-05])\n",
      "tensor([0.2719])\n",
      "tensor([0.0006])\n",
      "tensor([3.0227e-13])\n",
      "tensor([8.5773e-18])\n",
      "tensor([4.5562e-15])\n",
      "tensor([0.0007])\n",
      "tensor([1.9634e-22])\n",
      "tensor([7.2400e-20])\n",
      "tensor([1.5439e-11])\n",
      "tensor([7.9956e-15])\n",
      "tensor([0.9920])\n",
      "tensor([1.8075e-18])\n",
      "tensor([7.3166e-08])\n",
      "tensor([4.0345e-05])\n",
      "tensor([1.3266e-10])\n",
      "tensor([1.6525e-12])\n",
      "tensor([5.7461e-07])\n",
      "tensor([1.5246e-07])\n",
      "FF 256 images Time= : 0.7747126659960486\n"
     ]
    }
   ],
   "source": [
    "# generating some random features\n",
    "#     print(features)\n",
    "#     print(features.shape)\n",
    "# define the weights\n",
    "# W1 = torch.randn((784, 12), requires_grad=True)\n",
    "import timeit\n",
    "params={\"W1\":torch.FloatTensor(784, 12).uniform_(-1, 1),\n",
    "    # print(W1)\n",
    "    \"W2\": torch.FloatTensor(12, 10).uniform_(-1, 1), #torch.randn((12, 10), requires_grad=True)\n",
    "    \"W3\": torch.FloatTensor(10, 1).uniform_(-1, 1), #torch.randn((10, 1), requires_grad=True)\n",
    "    # define the bias terms\n",
    "    \"B1\": torch.FloatTensor(12).uniform_(-1, 1), #torch.randn((12), requires_grad=True)\n",
    "    \"B2\": torch.FloatTensor(10).uniform_(-1, 1), #torch.randn((10), requires_grad=True)\n",
    "    \"B3\": torch.FloatTensor(1).uniform_(-1, 1), #torch.randn((1), requires_grad=True)]\n",
    "       }\n",
    "def my_simple_ff_nn(img,nn_params):      \n",
    "    W1=nn_params[\"W1\"]\n",
    "    W2=nn_params[\"W2\"]\n",
    "    W3=nn_params[\"W3\"]\n",
    "    B1=nn_params[\"B1\"]\n",
    "    B2=nn_params[\"B2\"]\n",
    "    B3=nn_params[\"B3\"]\n",
    "    features = torch.flatten(img).reshape(-1)\n",
    "        # calculate hidden and output layers\n",
    "    h1 = F.relu((features @ W1) + B1)\n",
    "    h2 = F.relu((h1 @ W2) + B2)\n",
    "    output = torch.sigmoid((h2 @ W3) + B3)\n",
    "    print(output)\n",
    "\n",
    "start = timeit.default_timer()   \n",
    "for idx in range(len(example_data)):\n",
    "     my_simple_ff_nn(example_data[idx][0],params)\n",
    "stop = timeit.default_timer()\n",
    "print('FF 256 images Time= :',stop - start) "
   ]
  },
  {
   "cell_type": "markdown",
   "metadata": {
    "id": "ndXpk3C5bwQ8"
   },
   "source": [
    "(3) Implement a new torch.nn.module that performs the equivalent of the network in (2). Initialize it with the same weights and validate the outputs of this network is the same as the one in (2) on MNIST training set."
   ]
  },
  {
   "cell_type": "code",
   "execution_count": 8,
   "metadata": {},
   "outputs": [],
   "source": [
    "def weights_init_uniform(m):\n",
    "        classname = m.__class__.__name__\n",
    "        # for every Linear layer in a model..\n",
    "        if classname.find('Linear') != -1:\n",
    "            # apply a uniform distribution to the weights and a bias=0\n",
    "            m.weight.data.uniform_(-1, 1.0)\n",
    "            m.bias.data.fill_(0)"
   ]
  },
  {
   "cell_type": "code",
   "execution_count": 9,
   "metadata": {
    "id": "Nbgzjuqtlhvx"
   },
   "outputs": [],
   "source": [
    "class my_torch_nn(nn.Module):\n",
    "    def __init__(self):\n",
    "        super(my_torch_nn, self).__init__()\n",
    "        self.conv1 = nn.Conv2d(1, 10, kernel_size=5)\n",
    "        self.conv2 = nn.Conv2d(10, 20, kernel_size=5)\n",
    "        self.conv2_drop = nn.Dropout2d()\n",
    "        self.fc1 = nn.Linear(320, 50)\n",
    "        self.fc2 = nn.Linear(50, 10)\n",
    "    \n",
    "    def forward(self, x):\n",
    "        x = F.relu(F.max_pool2d(self.conv1(x), 2))\n",
    "        x = F.relu(F.max_pool2d(self.conv2_drop(self.conv2(x)), 2))\n",
    "        x = x.view(-1, 320)\n",
    "        x = F.relu(self.fc1(x))\n",
    "        x = F.dropout(x, training=self.training)\n",
    "        x = self.fc2(x)\n",
    "        return F.log_softmax(x)"
   ]
  },
  {
   "cell_type": "code",
   "execution_count": 10,
   "metadata": {},
   "outputs": [],
   "source": [
    "network = my_torch_nn()\n",
    "network.apply(weights_init_uniform)\n",
    "optimizer = optim.SGD(network.parameters(), lr=learning_rate,momentum=momentum)"
   ]
  },
  {
   "cell_type": "code",
   "execution_count": 11,
   "metadata": {},
   "outputs": [],
   "source": [
    "train_losses = []\n",
    "train_counter = []\n",
    "test_losses = []\n",
    "test_counter = [i*len(train_loader.dataset) for i in range(n_epochs + 1)]\n",
    "\n",
    "def train(epoch):\n",
    "  network.train()\n",
    "  for batch_idx, (data, target) in enumerate(train_loader):\n",
    "    optimizer.zero_grad()\n",
    "    output = network(data)\n",
    "    print('output=',output)\n",
    "    print('target=',target)\n",
    "    loss = F.nll_loss(output, target)\n",
    "    loss.backward()\n",
    "    optimizer.step()\n",
    "    if batch_idx % log_interval == 0:\n",
    "        print('Train Epoch: {} [{}/{} ({:.0f}%)]\\tLoss: {:.6f}'.format(\n",
    "        epoch, batch_idx * len(data), len(train_loader.dataset),\n",
    "        100. * batch_idx / len(train_loader), loss.item()))\n",
    "        \n",
    "        train_losses.append(loss.item())\n",
    "        train_counter.append((batch_idx*64) + ((epoch-1)*len(train_loader.dataset)))\n",
    "        torch.save(network.state_dict(), 'model.pth')\n",
    "        torch.save(optimizer.state_dict(), 'optimizer.pth')\n",
    "\n",
    "def test():\n",
    "  network.eval()\n",
    "  test_loss = 0\n",
    "  correct = 0\n",
    "  with torch.no_grad():\n",
    "    for data, target in test_loader:\n",
    "      output = network(data)\n",
    "      test_loss += F.nll_loss(output, target, size_average=False).item()\n",
    "      pred = output.data.max(1, keepdim=True)[1]\n",
    "      correct += pred.eq(target.data.view_as(pred)).sum()\n",
    "  test_loss /= len(test_loader.dataset)\n",
    "  test_losses.append(test_loss)\n",
    "  print('\\nTest set: Avg. loss: {:.4f}, Accuracy: {}/{} ({:.0f}%)\\n'.format(\n",
    "    test_loss, correct, len(test_loader.dataset),\n",
    "    100. * correct / len(test_loader.dataset)))"
   ]
  },
  {
   "cell_type": "code",
   "execution_count": 78,
   "metadata": {},
   "outputs": [
    {
     "name": "stderr",
     "output_type": "stream",
     "text": [
      "c:\\program files\\python37\\lib\\site-packages\\ipykernel_launcher.py:17: UserWarning: Implicit dimension choice for log_softmax has been deprecated. Change the call to include dim=X as an argument.\n",
      "c:\\program files\\python37\\lib\\site-packages\\torch\\nn\\_reduction.py:44: UserWarning: size_average and reduce args will be deprecated, please use reduction='sum' instead.\n",
      "  warnings.warn(warning.format(ret))\n"
     ]
    },
    {
     "name": "stdout",
     "output_type": "stream",
     "text": [
      "\n",
      "Test set: Avg. loss: 18.7174, Accuracy: 1337/10000 (13%)\n",
      "\n",
      "Train Epoch: 1 [0/60000 (0%)]\tLoss: 37.742699\n",
      "Train Epoch: 1 [2560/60000 (4%)]\tLoss: 2.302749\n",
      "Train Epoch: 1 [5120/60000 (9%)]\tLoss: 2.300998\n",
      "Train Epoch: 1 [7680/60000 (13%)]\tLoss: 2.285343\n",
      "Train Epoch: 1 [10240/60000 (17%)]\tLoss: 2.273402\n",
      "Train Epoch: 1 [12800/60000 (21%)]\tLoss: 2.257733\n",
      "Train Epoch: 1 [15360/60000 (26%)]\tLoss: 2.283993\n",
      "Train Epoch: 1 [17920/60000 (30%)]\tLoss: 2.222780\n",
      "Train Epoch: 1 [20480/60000 (34%)]\tLoss: 2.301049\n",
      "Train Epoch: 1 [23040/60000 (38%)]\tLoss: 2.242233\n",
      "Train Epoch: 1 [25600/60000 (43%)]\tLoss: 2.245284\n",
      "Train Epoch: 1 [28160/60000 (47%)]\tLoss: 2.209338\n",
      "Train Epoch: 1 [30720/60000 (51%)]\tLoss: 2.238503\n",
      "Train Epoch: 1 [33280/60000 (55%)]\tLoss: 2.258443\n",
      "Train Epoch: 1 [35840/60000 (60%)]\tLoss: 2.209479\n",
      "Train Epoch: 1 [38400/60000 (64%)]\tLoss: 2.224626\n",
      "Train Epoch: 1 [40960/60000 (68%)]\tLoss: 2.209879\n",
      "Train Epoch: 1 [43520/60000 (72%)]\tLoss: 2.209633\n",
      "Train Epoch: 1 [46080/60000 (77%)]\tLoss: 2.215759\n",
      "Train Epoch: 1 [48640/60000 (81%)]\tLoss: 2.231315\n",
      "Train Epoch: 1 [51200/60000 (85%)]\tLoss: 2.208565\n",
      "Train Epoch: 1 [53760/60000 (89%)]\tLoss: 2.250520\n",
      "Train Epoch: 1 [56320/60000 (94%)]\tLoss: 2.201242\n",
      "Train Epoch: 1 [58880/60000 (98%)]\tLoss: 2.184747\n",
      "\n",
      "Test set: Avg. loss: 2.0212, Accuracy: 4108/10000 (41%)\n",
      "\n",
      "Train Epoch: 2 [0/60000 (0%)]\tLoss: 2.282683\n",
      "Train Epoch: 2 [2560/60000 (4%)]\tLoss: 2.193085\n",
      "Train Epoch: 2 [5120/60000 (9%)]\tLoss: 2.222227\n",
      "Train Epoch: 2 [7680/60000 (13%)]\tLoss: 2.192113\n",
      "Train Epoch: 2 [10240/60000 (17%)]\tLoss: 2.125461\n",
      "Train Epoch: 2 [12800/60000 (21%)]\tLoss: 2.229072\n",
      "Train Epoch: 2 [15360/60000 (26%)]\tLoss: 2.205602\n",
      "Train Epoch: 2 [17920/60000 (30%)]\tLoss: 2.228810\n",
      "Train Epoch: 2 [20480/60000 (34%)]\tLoss: 2.189708\n",
      "Train Epoch: 2 [23040/60000 (38%)]\tLoss: 2.174933\n",
      "Train Epoch: 2 [25600/60000 (43%)]\tLoss: 2.152204\n",
      "Train Epoch: 2 [28160/60000 (47%)]\tLoss: 2.122006\n",
      "Train Epoch: 2 [30720/60000 (51%)]\tLoss: 2.152706\n",
      "Train Epoch: 2 [33280/60000 (55%)]\tLoss: 2.117504\n",
      "Train Epoch: 2 [35840/60000 (60%)]\tLoss: 2.105936\n",
      "Train Epoch: 2 [38400/60000 (64%)]\tLoss: 2.107050\n",
      "Train Epoch: 2 [40960/60000 (68%)]\tLoss: 2.116292\n",
      "Train Epoch: 2 [43520/60000 (72%)]\tLoss: 2.125056\n",
      "Train Epoch: 2 [46080/60000 (77%)]\tLoss: 2.173626\n",
      "Train Epoch: 2 [48640/60000 (81%)]\tLoss: 2.095815\n",
      "Train Epoch: 2 [51200/60000 (85%)]\tLoss: 2.140223\n",
      "Train Epoch: 2 [53760/60000 (89%)]\tLoss: 2.231994\n",
      "Train Epoch: 2 [56320/60000 (94%)]\tLoss: 2.145553\n",
      "Train Epoch: 2 [58880/60000 (98%)]\tLoss: 2.160477\n",
      "\n",
      "Test set: Avg. loss: 1.8857, Accuracy: 4655/10000 (47%)\n",
      "\n",
      "Train Epoch: 3 [0/60000 (0%)]\tLoss: 2.147414\n",
      "Train Epoch: 3 [2560/60000 (4%)]\tLoss: 2.167231\n",
      "Train Epoch: 3 [5120/60000 (9%)]\tLoss: 2.080728\n",
      "Train Epoch: 3 [7680/60000 (13%)]\tLoss: 2.101260\n",
      "Train Epoch: 3 [10240/60000 (17%)]\tLoss: 2.057346\n",
      "Train Epoch: 3 [12800/60000 (21%)]\tLoss: 2.114364\n",
      "Train Epoch: 3 [15360/60000 (26%)]\tLoss: 2.131085\n",
      "Train Epoch: 3 [17920/60000 (30%)]\tLoss: 2.177206\n",
      "Train Epoch: 3 [20480/60000 (34%)]\tLoss: 2.142213\n",
      "Train Epoch: 3 [23040/60000 (38%)]\tLoss: 2.091587\n",
      "Train Epoch: 3 [25600/60000 (43%)]\tLoss: 2.107644\n",
      "Train Epoch: 3 [28160/60000 (47%)]\tLoss: 2.052410\n",
      "Train Epoch: 3 [30720/60000 (51%)]\tLoss: 1.991367\n",
      "Train Epoch: 3 [33280/60000 (55%)]\tLoss: 2.103038\n",
      "Train Epoch: 3 [35840/60000 (60%)]\tLoss: 2.007658\n",
      "Train Epoch: 3 [38400/60000 (64%)]\tLoss: 2.016282\n",
      "Train Epoch: 3 [40960/60000 (68%)]\tLoss: 2.031755\n",
      "Train Epoch: 3 [43520/60000 (72%)]\tLoss: 2.002011\n",
      "Train Epoch: 3 [46080/60000 (77%)]\tLoss: 2.100862\n",
      "Train Epoch: 3 [48640/60000 (81%)]\tLoss: 2.099073\n",
      "Train Epoch: 3 [51200/60000 (85%)]\tLoss: 1.999680\n",
      "Train Epoch: 3 [53760/60000 (89%)]\tLoss: 2.047657\n",
      "Train Epoch: 3 [56320/60000 (94%)]\tLoss: 1.985308\n",
      "Train Epoch: 3 [58880/60000 (98%)]\tLoss: 2.019072\n",
      "\n",
      "Test set: Avg. loss: 1.8804, Accuracy: 4764/10000 (48%)\n",
      "\n"
     ]
    }
   ],
   "source": [
    "test()\n",
    "for epoch in range(1, n_epochs + 1):\n",
    "  train(epoch)\n",
    "  test()"
   ]
  },
  {
   "cell_type": "code",
   "execution_count": 68,
   "metadata": {},
   "outputs": [
    {
     "data": {
      "text/plain": [
       "Text(0, 0.5, 'negative log likelihood loss')"
      ]
     },
     "execution_count": 68,
     "metadata": {},
     "output_type": "execute_result"
    },
    {
     "data": {
      "image/png": "[encoded data removed]",
      "text/plain": [
       "<Figure size 432x288 with 1 Axes>"
      ]
     },
     "metadata": {
      "needs_background": "light"
     },
     "output_type": "display_data"
    }
   ],
   "source": [
    "fig = plt.figure()\n",
    "plt.plot(train_counter, train_losses, color='blue')\n",
    "plt.plot(test_counter, test_losses, color='red')\n",
    "plt.legend(['Train Loss', 'Test Loss'], loc='upper right')\n",
    "plt.xlabel('number of training examples seen')\n",
    "plt.ylabel('negative log likelihood loss')"
   ]
  },
  {
   "cell_type": "code",
   "execution_count": 70,
   "metadata": {},
   "outputs": [
    {
     "name": "stderr",
     "output_type": "stream",
     "text": [
      "c:\\program files\\python37\\lib\\site-packages\\ipykernel_launcher.py:16: UserWarning: Implicit dimension choice for log_softmax has been deprecated. Change the call to include dim=X as an argument.\n",
      "  app.launch_new_instance()\n"
     ]
    },
    {
     "data": {
      "image/png": "[encoded data removed]",
      "text/plain": [
       "<Figure size 432x288 with 6 Axes>"
      ]
     },
     "execution_count": 70,
     "metadata": {},
     "output_type": "execute_result"
    },
    {
     "data": {
      "image/png": "[encoded data removed]",
      "text/plain": [
       "<Figure size 432x288 with 6 Axes>"
      ]
     },
     "metadata": {},
     "output_type": "display_data"
    }
   ],
   "source": [
    "with torch.no_grad():\n",
    "  output = network(example_data)\n",
    "# compare the model's output.\n",
    "fig = plt.figure()\n",
    "for i in range(6):\n",
    "  plt.subplot(2,3,i+1)\n",
    "  plt.tight_layout()\n",
    "  plt.imshow(example_data[i][0], cmap='gray', interpolation='none')\n",
    "  plt.title(\"Prediction: {}\".format(\n",
    "    output.data.max(1, keepdim=True)[1][i].item()))\n",
    "  plt.xticks([])\n",
    "  plt.yticks([])\n",
    "fig"
   ]
  },
  {
   "cell_type": "markdown",
   "metadata": {
    "id": "t4WyZ8PFFuMT"
   },
   "source": [
    "(4) For a batch of 256 random samples, compute the gradient of the average of the neural network outputs (over the batch) w.r.t to the weights using torch autograd. Compute the gradients for the torch.nn based model in (3) and validate the gradients match those from those computed with (2). \n",
    "\n",
    "**Note**: The network here is $f: \\mathcal{R}^{HW}\\rightarrow\\mathcal{R}$, with $256$ samples you should obtain $o=\\frac{1}{256}\\sum_{i=0}^{255}f(x_i)$. You are asked to find $\\nabla_w o$ for all the parameters $w$."
   ]
  },
  {
   "cell_type": "code",
   "execution_count": 104,
   "metadata": {},
   "outputs": [
    {
     "name": "stdout",
     "output_type": "stream",
     "text": [
      "CONV1 avg grad=\n",
      " tensor([[[-0.0115, -0.0148,  0.0041,  0.0047, -0.0047],\n",
      "         [-0.0101,  0.0090,  0.0160,  0.0061, -0.0109],\n",
      "         [ 0.0149,  0.0364,  0.0252,  0.0043, -0.0108],\n",
      "         [ 0.0229,  0.0234,  0.0192,  0.0084, -0.0163],\n",
      "         [ 0.0127,  0.0159,  0.0247,  0.0119, -0.0239]]])\n",
      "CONV1 bais= tensor([ 0.0719,  0.0204,  0.0418, -0.0840, -0.0738,  0.0930, -0.0252, -0.0163,\n",
      "         0.0376, -0.0187])\n",
      "CONV2 avg grad=\n",
      " tensor([[[ 8.1622e-03,  1.1241e-03, -1.1303e-03, -3.4079e-03, -3.8529e-03],\n",
      "         [ 7.4713e-03,  2.0216e-03, -1.0730e-03, -2.3892e-03, -4.3317e-03],\n",
      "         [ 8.1102e-03,  3.1657e-03,  1.0417e-03, -3.0093e-03, -4.9821e-03],\n",
      "         [ 6.2450e-03,  8.6071e-03,  3.9458e-03,  2.6482e-03, -4.0992e-03],\n",
      "         [ 7.9142e-03,  9.0671e-03,  7.3794e-03,  4.4229e-03,  1.3005e-03]],\n",
      "\n",
      "        [[-6.3245e-03,  1.1890e-02,  1.0024e-02, -3.3405e-03,  1.4274e-02],\n",
      "         [-3.8762e-03,  1.3886e-02,  1.4757e-03,  7.3571e-03,  8.5690e-03],\n",
      "         [ 1.7839e-03,  3.2817e-03, -1.4601e-03,  5.0020e-03, -4.3942e-03],\n",
      "         [-3.0261e-03, -1.9262e-04,  2.7268e-04,  4.1846e-03, -4.8927e-03],\n",
      "         [-2.2153e-03, -2.7750e-03,  1.4936e-04,  1.1347e-02, -3.1673e-03]],\n",
      "\n",
      "        [[ 8.4768e-03,  5.2685e-03,  5.4123e-03, -1.0437e-03, -4.6782e-03],\n",
      "         [ 1.0096e-02,  5.3242e-03,  2.9043e-03, -4.3900e-03, -1.0985e-02],\n",
      "         [ 8.7934e-03,  4.7792e-03,  3.0143e-03, -4.5455e-03, -4.3415e-03],\n",
      "         [ 6.7981e-03,  1.0088e-02,  7.5940e-03, -3.6223e-03,  2.3959e-03],\n",
      "         [ 6.1566e-03,  1.4112e-02,  1.0102e-02,  7.9944e-03, -6.8506e-03]],\n",
      "\n",
      "        [[ 1.1483e-03,  4.2556e-03,  5.6883e-03, -9.6276e-03,  2.4819e-03],\n",
      "         [ 9.1749e-04,  7.8782e-03,  7.1680e-03, -4.4020e-04, -3.5133e-03],\n",
      "         [ 1.0702e-03, -1.8500e-03,  1.1009e-02,  1.0196e-02,  1.9343e-03],\n",
      "         [ 2.6477e-04,  1.7828e-03, -8.4488e-05, -4.7696e-03, -4.3800e-03],\n",
      "         [-1.2310e-02, -9.0957e-03, -7.1488e-03, -3.2761e-03, -2.9894e-03]],\n",
      "\n",
      "        [[-3.0199e-03,  2.8563e-03,  6.1185e-03,  8.1443e-03,  5.6353e-04],\n",
      "         [-6.0868e-03, -3.0534e-03, -1.0792e-03, -2.1234e-03, -2.5824e-03],\n",
      "         [ 4.8143e-03,  3.7338e-03,  6.4094e-03, -8.4741e-03, -1.3521e-02],\n",
      "         [ 6.8102e-03,  1.1041e-03,  1.2737e-04, -9.2468e-05, -9.3481e-03],\n",
      "         [-9.6235e-04,  1.0463e-03,  2.7951e-03, -3.1377e-03, -2.4164e-03]],\n",
      "\n",
      "        [[-4.2943e-03, -6.0461e-03, -8.8629e-03, -4.3061e-04, -1.2365e-02],\n",
      "         [-7.4959e-03, -9.6564e-03, -9.0152e-03, -8.8952e-04, -7.6768e-03],\n",
      "         [-5.1643e-03, -2.9433e-03, -9.4226e-03, -8.7667e-03, -3.6248e-03],\n",
      "         [-5.3816e-03, -7.6322e-03, -3.4683e-03, -1.2913e-02, -5.5628e-03],\n",
      "         [-2.9024e-03, -4.2295e-03, -1.3798e-02, -1.9412e-02, -9.4358e-03]],\n",
      "\n",
      "        [[ 1.9412e-03,  1.0522e-03,  8.3248e-05, -2.6718e-04, -6.9597e-04],\n",
      "         [ 1.9343e-03,  5.4572e-04,  1.7834e-03, -2.1002e-03, -2.3174e-03],\n",
      "         [ 1.7078e-03,  3.0964e-04, -8.5580e-04, -1.1234e-03, -1.7795e-03],\n",
      "         [ 9.6566e-04,  7.1278e-04,  7.8636e-05, -8.5705e-04, -1.9289e-03],\n",
      "         [-4.6062e-04,  1.2229e-03,  1.3346e-03,  7.3866e-04,  2.4661e-04]],\n",
      "\n",
      "        [[-7.1226e-03, -3.7617e-03, -1.8290e-03,  1.1671e-04,  5.7937e-03],\n",
      "         [ 1.3360e-03,  8.4458e-03,  4.5943e-03,  7.5846e-03,  3.9304e-03],\n",
      "         [-9.1954e-03,  2.5088e-03,  7.7241e-03,  3.2634e-03,  2.6514e-03],\n",
      "         [-6.8337e-03, -7.5879e-03, -4.3359e-03,  2.5700e-03, -2.3092e-05],\n",
      "         [-5.7780e-03, -5.4488e-03, -1.8904e-03,  4.6354e-03, -2.4570e-03]],\n",
      "\n",
      "        [[-4.6056e-03, -6.9322e-03,  2.1824e-03, -9.8225e-04,  2.3488e-03],\n",
      "         [-2.0537e-03, -3.3932e-04,  1.9196e-03, -4.0310e-04, -1.0453e-03],\n",
      "         [-1.1278e-03,  1.0214e-03,  1.0957e-03, -3.5196e-04,  4.1599e-04],\n",
      "         [-1.9448e-04, -1.0727e-03, -4.4580e-03, -3.1441e-03, -1.2433e-03],\n",
      "         [ 4.2287e-04,  3.1431e-04, -3.1710e-03, -2.9448e-03,  2.7420e-03]],\n",
      "\n",
      "        [[ 1.2887e-02,  1.9902e-03, -4.7720e-04, -5.2254e-03, -4.5522e-03],\n",
      "         [ 1.2154e-02,  3.9796e-03,  1.2683e-03, -6.2461e-03, -7.4682e-03],\n",
      "         [ 1.3894e-02,  3.7181e-03,  6.0308e-04, -4.3666e-03, -1.0031e-02],\n",
      "         [ 1.4902e-02,  1.4449e-02,  6.6666e-03, -2.7596e-03, -7.9150e-03],\n",
      "         [ 1.4737e-02,  1.9065e-02,  1.3012e-02,  1.0617e-02,  3.1032e-03]]])\n",
      "CONV2 bais= tensor([-0.2013,  0.0000,  0.0000, -0.2485,  0.0000,  0.0117,  0.0000, -0.0330,\n",
      "         0.0000,  0.0000,  0.2050,  0.3159,  0.0000,  0.0000,  0.0000,  0.0000,\n",
      "         0.0000,  0.0000, -0.1239,  0.0000])\n"
     ]
    }
   ],
   "source": [
    "print('CONV1 avg grad=\\n',sum(network.conv1.weight.grad)/len(network.conv1.weight.grad)) \n",
    "print('CONV1 bais=',network.conv1.bias.grad)\n",
    "print('CONV2 avg grad=\\n',sum(network.conv2.weight.grad)/len(network.conv2.weight.grad)) \n",
    "print('CONV2 bais=',network.conv2.bias.grad)"
   ]
  },
  {
   "cell_type": "markdown",
   "metadata": {
    "id": "-YHbWOIQHKow"
   },
   "source": [
    "(5) Perform  the forward and backward passes from (3), 10 times on cpu and 10 times on gpu, report the average time for both. Repeat this for just the forward pass. In the end you should obtain 4 average run times (forward and backward, forward only) x (cpu, gpu) "
   ]
  },
  {
   "cell_type": "code",
   "execution_count": 103,
   "metadata": {},
   "outputs": [
    {
     "name": "stderr",
     "output_type": "stream",
     "text": [
      "c:\\program files\\python37\\lib\\site-packages\\ipykernel_launcher.py:17: UserWarning: Implicit dimension choice for log_softmax has been deprecated. Change the call to include dim=X as an argument.\n"
     ]
    },
    {
     "name": "stdout",
     "output_type": "stream",
     "text": [
      "Train Epoch: 0 [0/60000 (0%)]\tLoss: 2.034178\n",
      "Train Epoch: 0 [2560/60000 (4%)]\tLoss: 1.803627\n",
      "Train Epoch: 0 [5120/60000 (9%)]\tLoss: 1.873235\n",
      "Train Epoch: 0 [7680/60000 (13%)]\tLoss: 1.976927\n",
      "Train Epoch: 0 [10240/60000 (17%)]\tLoss: 1.889993\n",
      "Train Epoch: 0 [12800/60000 (21%)]\tLoss: 1.906535\n",
      "Train Epoch: 0 [15360/60000 (26%)]\tLoss: 1.946473\n",
      "Train Epoch: 0 [17920/60000 (30%)]\tLoss: 1.864058\n",
      "Train Epoch: 0 [20480/60000 (34%)]\tLoss: 1.912492\n",
      "Train Epoch: 0 [23040/60000 (38%)]\tLoss: 1.888984\n",
      "Train Epoch: 0 [25600/60000 (43%)]\tLoss: 1.817260\n",
      "Train Epoch: 0 [28160/60000 (47%)]\tLoss: 1.765820\n",
      "Train Epoch: 0 [30720/60000 (51%)]\tLoss: 1.912878\n",
      "Train Epoch: 0 [33280/60000 (55%)]\tLoss: 1.782560\n",
      "Train Epoch: 0 [35840/60000 (60%)]\tLoss: 1.866216\n",
      "Train Epoch: 0 [38400/60000 (64%)]\tLoss: 1.854770\n",
      "Train Epoch: 0 [40960/60000 (68%)]\tLoss: 1.779593\n",
      "Train Epoch: 0 [43520/60000 (72%)]\tLoss: 1.828561\n",
      "Train Epoch: 0 [46080/60000 (77%)]\tLoss: 1.946491\n",
      "Train Epoch: 0 [48640/60000 (81%)]\tLoss: 1.843549\n",
      "Train Epoch: 0 [51200/60000 (85%)]\tLoss: 1.888188\n",
      "Train Epoch: 0 [53760/60000 (89%)]\tLoss: 1.816595\n",
      "Train Epoch: 0 [56320/60000 (94%)]\tLoss: 1.742820\n",
      "Train Epoch: 0 [58880/60000 (98%)]\tLoss: 1.976514\n",
      "Train Time for epoch:  0 = 153.93541343900142\n",
      "Train Epoch: 0 [0/60000 (0%)]\tLoss: 1.874336\n",
      "Train Epoch: 0 [2560/60000 (4%)]\tLoss: 1.829302\n",
      "Train Epoch: 0 [5120/60000 (9%)]\tLoss: 1.796278\n",
      "Train Epoch: 0 [7680/60000 (13%)]\tLoss: 1.852680\n",
      "Train Epoch: 0 [10240/60000 (17%)]\tLoss: 1.859425\n",
      "Train Epoch: 0 [12800/60000 (21%)]\tLoss: 1.908821\n",
      "Train Epoch: 0 [15360/60000 (26%)]\tLoss: 1.764860\n",
      "Train Epoch: 0 [17920/60000 (30%)]\tLoss: 1.758926\n",
      "Train Epoch: 0 [20480/60000 (34%)]\tLoss: 1.866199\n",
      "Train Epoch: 0 [23040/60000 (38%)]\tLoss: 1.726527\n",
      "Train Epoch: 0 [25600/60000 (43%)]\tLoss: 1.748868\n",
      "Train Epoch: 0 [28160/60000 (47%)]\tLoss: 1.784663\n",
      "Train Epoch: 0 [30720/60000 (51%)]\tLoss: 1.669021\n",
      "Train Epoch: 0 [33280/60000 (55%)]\tLoss: 1.681598\n",
      "Train Epoch: 0 [35840/60000 (60%)]\tLoss: 1.970746\n",
      "Train Epoch: 0 [38400/60000 (64%)]\tLoss: 1.750055\n",
      "Train Epoch: 0 [40960/60000 (68%)]\tLoss: 1.667885\n",
      "Train Epoch: 0 [43520/60000 (72%)]\tLoss: 1.803483\n",
      "Train Epoch: 0 [46080/60000 (77%)]\tLoss: 1.805350\n"
     ]
    },
    {
     "ename": "KeyboardInterrupt",
     "evalue": "",
     "output_type": "error",
     "traceback": [
      "\u001b[1;31m---------------------------------------------------------------------------\u001b[0m",
      "\u001b[1;31mKeyboardInterrupt\u001b[0m                         Traceback (most recent call last)",
      "\u001b[1;32m<ipython-input-103-14c4fd2589e7>\u001b[0m in \u001b[0;36m<module>\u001b[1;34m\u001b[0m\n\u001b[0;32m      4\u001b[0m     \u001b[0mstart\u001b[0m \u001b[1;33m=\u001b[0m \u001b[0mtimeit\u001b[0m\u001b[1;33m.\u001b[0m\u001b[0mdefault_timer\u001b[0m\u001b[1;33m(\u001b[0m\u001b[1;33m)\u001b[0m\u001b[1;33m\u001b[0m\u001b[1;33m\u001b[0m\u001b[0m\n\u001b[0;32m      5\u001b[0m     \u001b[1;32mfor\u001b[0m \u001b[0mepoch\u001b[0m \u001b[1;32min\u001b[0m \u001b[0mrange\u001b[0m\u001b[1;33m(\u001b[0m\u001b[1;36m1\u001b[0m\u001b[1;33m)\u001b[0m\u001b[1;33m:\u001b[0m\u001b[1;33m\u001b[0m\u001b[1;33m\u001b[0m\u001b[0m\n\u001b[1;32m----> 6\u001b[1;33m         \u001b[0mtrain\u001b[0m\u001b[1;33m(\u001b[0m\u001b[0mepoch\u001b[0m\u001b[1;33m)\u001b[0m\u001b[1;33m\u001b[0m\u001b[1;33m\u001b[0m\u001b[0m\n\u001b[0m\u001b[0;32m      7\u001b[0m     \u001b[0mstop\u001b[0m \u001b[1;33m=\u001b[0m \u001b[0mtimeit\u001b[0m\u001b[1;33m.\u001b[0m\u001b[0mdefault_timer\u001b[0m\u001b[1;33m(\u001b[0m\u001b[1;33m)\u001b[0m\u001b[1;33m\u001b[0m\u001b[1;33m\u001b[0m\u001b[0m\n\u001b[0;32m      8\u001b[0m     \u001b[0mprint\u001b[0m\u001b[1;33m(\u001b[0m\u001b[1;34m'Train Time for epoch: '\u001b[0m\u001b[1;33m,\u001b[0m\u001b[0mepoch\u001b[0m\u001b[1;33m,\u001b[0m\u001b[1;34m'='\u001b[0m\u001b[1;33m,\u001b[0m \u001b[0mstop\u001b[0m \u001b[1;33m-\u001b[0m \u001b[0mstart\u001b[0m\u001b[1;33m)\u001b[0m\u001b[1;33m\u001b[0m\u001b[1;33m\u001b[0m\u001b[0m\n",
      "\u001b[1;32m<ipython-input-77-ee6d5b152335>\u001b[0m in \u001b[0;36mtrain\u001b[1;34m(epoch)\u001b[0m\n\u001b[0;32m      6\u001b[0m \u001b[1;32mdef\u001b[0m \u001b[0mtrain\u001b[0m\u001b[1;33m(\u001b[0m\u001b[0mepoch\u001b[0m\u001b[1;33m)\u001b[0m\u001b[1;33m:\u001b[0m\u001b[1;33m\u001b[0m\u001b[1;33m\u001b[0m\u001b[0m\n\u001b[0;32m      7\u001b[0m   \u001b[0mnetwork\u001b[0m\u001b[1;33m.\u001b[0m\u001b[0mtrain\u001b[0m\u001b[1;33m(\u001b[0m\u001b[1;33m)\u001b[0m\u001b[1;33m\u001b[0m\u001b[1;33m\u001b[0m\u001b[0m\n\u001b[1;32m----> 8\u001b[1;33m   \u001b[1;32mfor\u001b[0m \u001b[0mbatch_idx\u001b[0m\u001b[1;33m,\u001b[0m \u001b[1;33m(\u001b[0m\u001b[0mdata\u001b[0m\u001b[1;33m,\u001b[0m \u001b[0mtarget\u001b[0m\u001b[1;33m)\u001b[0m \u001b[1;32min\u001b[0m \u001b[0menumerate\u001b[0m\u001b[1;33m(\u001b[0m\u001b[0mtrain_loader\u001b[0m\u001b[1;33m)\u001b[0m\u001b[1;33m:\u001b[0m\u001b[1;33m\u001b[0m\u001b[1;33m\u001b[0m\u001b[0m\n\u001b[0m\u001b[0;32m      9\u001b[0m     \u001b[0moptimizer\u001b[0m\u001b[1;33m.\u001b[0m\u001b[0mzero_grad\u001b[0m\u001b[1;33m(\u001b[0m\u001b[1;33m)\u001b[0m\u001b[1;33m\u001b[0m\u001b[1;33m\u001b[0m\u001b[0m\n\u001b[0;32m     10\u001b[0m     \u001b[0moutput\u001b[0m \u001b[1;33m=\u001b[0m \u001b[0mnetwork\u001b[0m\u001b[1;33m(\u001b[0m\u001b[0mdata\u001b[0m\u001b[1;33m)\u001b[0m\u001b[1;33m\u001b[0m\u001b[1;33m\u001b[0m\u001b[0m\n",
      "\u001b[1;32mc:\\program files\\python37\\lib\\site-packages\\torch\\utils\\data\\dataloader.py\u001b[0m in \u001b[0;36m__next__\u001b[1;34m(self)\u001b[0m\n\u001b[0;32m    361\u001b[0m \u001b[1;33m\u001b[0m\u001b[0m\n\u001b[0;32m    362\u001b[0m     \u001b[1;32mdef\u001b[0m \u001b[0m__next__\u001b[0m\u001b[1;33m(\u001b[0m\u001b[0mself\u001b[0m\u001b[1;33m)\u001b[0m\u001b[1;33m:\u001b[0m\u001b[1;33m\u001b[0m\u001b[1;33m\u001b[0m\u001b[0m\n\u001b[1;32m--> 363\u001b[1;33m         \u001b[0mdata\u001b[0m \u001b[1;33m=\u001b[0m \u001b[0mself\u001b[0m\u001b[1;33m.\u001b[0m\u001b[0m_next_data\u001b[0m\u001b[1;33m(\u001b[0m\u001b[1;33m)\u001b[0m\u001b[1;33m\u001b[0m\u001b[1;33m\u001b[0m\u001b[0m\n\u001b[0m\u001b[0;32m    364\u001b[0m         \u001b[0mself\u001b[0m\u001b[1;33m.\u001b[0m\u001b[0m_num_yielded\u001b[0m \u001b[1;33m+=\u001b[0m \u001b[1;36m1\u001b[0m\u001b[1;33m\u001b[0m\u001b[1;33m\u001b[0m\u001b[0m\n\u001b[0;32m    365\u001b[0m         \u001b[1;32mif\u001b[0m \u001b[0mself\u001b[0m\u001b[1;33m.\u001b[0m\u001b[0m_dataset_kind\u001b[0m \u001b[1;33m==\u001b[0m \u001b[0m_DatasetKind\u001b[0m\u001b[1;33m.\u001b[0m\u001b[0mIterable\u001b[0m \u001b[1;32mand\u001b[0m\u001b[0;31m \u001b[0m\u001b[0;31m\\\u001b[0m\u001b[1;33m\u001b[0m\u001b[1;33m\u001b[0m\u001b[0m\n",
      "\u001b[1;32mc:\\program files\\python37\\lib\\site-packages\\torch\\utils\\data\\dataloader.py\u001b[0m in \u001b[0;36m_next_data\u001b[1;34m(self)\u001b[0m\n\u001b[0;32m    401\u001b[0m     \u001b[1;32mdef\u001b[0m \u001b[0m_next_data\u001b[0m\u001b[1;33m(\u001b[0m\u001b[0mself\u001b[0m\u001b[1;33m)\u001b[0m\u001b[1;33m:\u001b[0m\u001b[1;33m\u001b[0m\u001b[1;33m\u001b[0m\u001b[0m\n\u001b[0;32m    402\u001b[0m         \u001b[0mindex\u001b[0m \u001b[1;33m=\u001b[0m \u001b[0mself\u001b[0m\u001b[1;33m.\u001b[0m\u001b[0m_next_index\u001b[0m\u001b[1;33m(\u001b[0m\u001b[1;33m)\u001b[0m  \u001b[1;31m# may raise StopIteration\u001b[0m\u001b[1;33m\u001b[0m\u001b[1;33m\u001b[0m\u001b[0m\n\u001b[1;32m--> 403\u001b[1;33m         \u001b[0mdata\u001b[0m \u001b[1;33m=\u001b[0m \u001b[0mself\u001b[0m\u001b[1;33m.\u001b[0m\u001b[0m_dataset_fetcher\u001b[0m\u001b[1;33m.\u001b[0m\u001b[0mfetch\u001b[0m\u001b[1;33m(\u001b[0m\u001b[0mindex\u001b[0m\u001b[1;33m)\u001b[0m  \u001b[1;31m# may raise StopIteration\u001b[0m\u001b[1;33m\u001b[0m\u001b[1;33m\u001b[0m\u001b[0m\n\u001b[0m\u001b[0;32m    404\u001b[0m         \u001b[1;32mif\u001b[0m \u001b[0mself\u001b[0m\u001b[1;33m.\u001b[0m\u001b[0m_pin_memory\u001b[0m\u001b[1;33m:\u001b[0m\u001b[1;33m\u001b[0m\u001b[1;33m\u001b[0m\u001b[0m\n\u001b[0;32m    405\u001b[0m             \u001b[0mdata\u001b[0m \u001b[1;33m=\u001b[0m \u001b[0m_utils\u001b[0m\u001b[1;33m.\u001b[0m\u001b[0mpin_memory\u001b[0m\u001b[1;33m.\u001b[0m\u001b[0mpin_memory\u001b[0m\u001b[1;33m(\u001b[0m\u001b[0mdata\u001b[0m\u001b[1;33m)\u001b[0m\u001b[1;33m\u001b[0m\u001b[1;33m\u001b[0m\u001b[0m\n",
      "\u001b[1;32mc:\\program files\\python37\\lib\\site-packages\\torch\\utils\\data\\_utils\\fetch.py\u001b[0m in \u001b[0;36mfetch\u001b[1;34m(self, possibly_batched_index)\u001b[0m\n\u001b[0;32m     42\u001b[0m     \u001b[1;32mdef\u001b[0m \u001b[0mfetch\u001b[0m\u001b[1;33m(\u001b[0m\u001b[0mself\u001b[0m\u001b[1;33m,\u001b[0m \u001b[0mpossibly_batched_index\u001b[0m\u001b[1;33m)\u001b[0m\u001b[1;33m:\u001b[0m\u001b[1;33m\u001b[0m\u001b[1;33m\u001b[0m\u001b[0m\n\u001b[0;32m     43\u001b[0m         \u001b[1;32mif\u001b[0m \u001b[0mself\u001b[0m\u001b[1;33m.\u001b[0m\u001b[0mauto_collation\u001b[0m\u001b[1;33m:\u001b[0m\u001b[1;33m\u001b[0m\u001b[1;33m\u001b[0m\u001b[0m\n\u001b[1;32m---> 44\u001b[1;33m             \u001b[0mdata\u001b[0m \u001b[1;33m=\u001b[0m \u001b[1;33m[\u001b[0m\u001b[0mself\u001b[0m\u001b[1;33m.\u001b[0m\u001b[0mdataset\u001b[0m\u001b[1;33m[\u001b[0m\u001b[0midx\u001b[0m\u001b[1;33m]\u001b[0m \u001b[1;32mfor\u001b[0m \u001b[0midx\u001b[0m \u001b[1;32min\u001b[0m \u001b[0mpossibly_batched_index\u001b[0m\u001b[1;33m]\u001b[0m\u001b[1;33m\u001b[0m\u001b[1;33m\u001b[0m\u001b[0m\n\u001b[0m\u001b[0;32m     45\u001b[0m         \u001b[1;32melse\u001b[0m\u001b[1;33m:\u001b[0m\u001b[1;33m\u001b[0m\u001b[1;33m\u001b[0m\u001b[0m\n\u001b[0;32m     46\u001b[0m             \u001b[0mdata\u001b[0m \u001b[1;33m=\u001b[0m \u001b[0mself\u001b[0m\u001b[1;33m.\u001b[0m\u001b[0mdataset\u001b[0m\u001b[1;33m[\u001b[0m\u001b[0mpossibly_batched_index\u001b[0m\u001b[1;33m]\u001b[0m\u001b[1;33m\u001b[0m\u001b[1;33m\u001b[0m\u001b[0m\n",
      "\u001b[1;32mc:\\program files\\python37\\lib\\site-packages\\torch\\utils\\data\\_utils\\fetch.py\u001b[0m in \u001b[0;36m<listcomp>\u001b[1;34m(.0)\u001b[0m\n\u001b[0;32m     42\u001b[0m     \u001b[1;32mdef\u001b[0m \u001b[0mfetch\u001b[0m\u001b[1;33m(\u001b[0m\u001b[0mself\u001b[0m\u001b[1;33m,\u001b[0m \u001b[0mpossibly_batched_index\u001b[0m\u001b[1;33m)\u001b[0m\u001b[1;33m:\u001b[0m\u001b[1;33m\u001b[0m\u001b[1;33m\u001b[0m\u001b[0m\n\u001b[0;32m     43\u001b[0m         \u001b[1;32mif\u001b[0m \u001b[0mself\u001b[0m\u001b[1;33m.\u001b[0m\u001b[0mauto_collation\u001b[0m\u001b[1;33m:\u001b[0m\u001b[1;33m\u001b[0m\u001b[1;33m\u001b[0m\u001b[0m\n\u001b[1;32m---> 44\u001b[1;33m             \u001b[0mdata\u001b[0m \u001b[1;33m=\u001b[0m \u001b[1;33m[\u001b[0m\u001b[0mself\u001b[0m\u001b[1;33m.\u001b[0m\u001b[0mdataset\u001b[0m\u001b[1;33m[\u001b[0m\u001b[0midx\u001b[0m\u001b[1;33m]\u001b[0m \u001b[1;32mfor\u001b[0m \u001b[0midx\u001b[0m \u001b[1;32min\u001b[0m \u001b[0mpossibly_batched_index\u001b[0m\u001b[1;33m]\u001b[0m\u001b[1;33m\u001b[0m\u001b[1;33m\u001b[0m\u001b[0m\n\u001b[0m\u001b[0;32m     45\u001b[0m         \u001b[1;32melse\u001b[0m\u001b[1;33m:\u001b[0m\u001b[1;33m\u001b[0m\u001b[1;33m\u001b[0m\u001b[0m\n\u001b[0;32m     46\u001b[0m             \u001b[0mdata\u001b[0m \u001b[1;33m=\u001b[0m \u001b[0mself\u001b[0m\u001b[1;33m.\u001b[0m\u001b[0mdataset\u001b[0m\u001b[1;33m[\u001b[0m\u001b[0mpossibly_batched_index\u001b[0m\u001b[1;33m]\u001b[0m\u001b[1;33m\u001b[0m\u001b[1;33m\u001b[0m\u001b[0m\n",
      "\u001b[1;32mc:\\program files\\python37\\lib\\site-packages\\torchvision\\datasets\\mnist.py\u001b[0m in \u001b[0;36m__getitem__\u001b[1;34m(self, index)\u001b[0m\n\u001b[0;32m     95\u001b[0m \u001b[1;33m\u001b[0m\u001b[0m\n\u001b[0;32m     96\u001b[0m         \u001b[1;32mif\u001b[0m \u001b[0mself\u001b[0m\u001b[1;33m.\u001b[0m\u001b[0mtransform\u001b[0m \u001b[1;32mis\u001b[0m \u001b[1;32mnot\u001b[0m \u001b[1;32mNone\u001b[0m\u001b[1;33m:\u001b[0m\u001b[1;33m\u001b[0m\u001b[1;33m\u001b[0m\u001b[0m\n\u001b[1;32m---> 97\u001b[1;33m             \u001b[0mimg\u001b[0m \u001b[1;33m=\u001b[0m \u001b[0mself\u001b[0m\u001b[1;33m.\u001b[0m\u001b[0mtransform\u001b[0m\u001b[1;33m(\u001b[0m\u001b[0mimg\u001b[0m\u001b[1;33m)\u001b[0m\u001b[1;33m\u001b[0m\u001b[1;33m\u001b[0m\u001b[0m\n\u001b[0m\u001b[0;32m     98\u001b[0m \u001b[1;33m\u001b[0m\u001b[0m\n\u001b[0;32m     99\u001b[0m         \u001b[1;32mif\u001b[0m \u001b[0mself\u001b[0m\u001b[1;33m.\u001b[0m\u001b[0mtarget_transform\u001b[0m \u001b[1;32mis\u001b[0m \u001b[1;32mnot\u001b[0m \u001b[1;32mNone\u001b[0m\u001b[1;33m:\u001b[0m\u001b[1;33m\u001b[0m\u001b[1;33m\u001b[0m\u001b[0m\n",
      "\u001b[1;32mc:\\program files\\python37\\lib\\site-packages\\torchvision\\transforms\\transforms.py\u001b[0m in \u001b[0;36m__call__\u001b[1;34m(self, img)\u001b[0m\n\u001b[0;32m     59\u001b[0m     \u001b[1;32mdef\u001b[0m \u001b[0m__call__\u001b[0m\u001b[1;33m(\u001b[0m\u001b[0mself\u001b[0m\u001b[1;33m,\u001b[0m \u001b[0mimg\u001b[0m\u001b[1;33m)\u001b[0m\u001b[1;33m:\u001b[0m\u001b[1;33m\u001b[0m\u001b[1;33m\u001b[0m\u001b[0m\n\u001b[0;32m     60\u001b[0m         \u001b[1;32mfor\u001b[0m \u001b[0mt\u001b[0m \u001b[1;32min\u001b[0m \u001b[0mself\u001b[0m\u001b[1;33m.\u001b[0m\u001b[0mtransforms\u001b[0m\u001b[1;33m:\u001b[0m\u001b[1;33m\u001b[0m\u001b[1;33m\u001b[0m\u001b[0m\n\u001b[1;32m---> 61\u001b[1;33m             \u001b[0mimg\u001b[0m \u001b[1;33m=\u001b[0m \u001b[0mt\u001b[0m\u001b[1;33m(\u001b[0m\u001b[0mimg\u001b[0m\u001b[1;33m)\u001b[0m\u001b[1;33m\u001b[0m\u001b[1;33m\u001b[0m\u001b[0m\n\u001b[0m\u001b[0;32m     62\u001b[0m         \u001b[1;32mreturn\u001b[0m \u001b[0mimg\u001b[0m\u001b[1;33m\u001b[0m\u001b[1;33m\u001b[0m\u001b[0m\n\u001b[0;32m     63\u001b[0m \u001b[1;33m\u001b[0m\u001b[0m\n",
      "\u001b[1;32mc:\\program files\\python37\\lib\\site-packages\\torchvision\\transforms\\transforms.py\u001b[0m in \u001b[0;36m__call__\u001b[1;34m(self, pic)\u001b[0m\n\u001b[0;32m     90\u001b[0m             \u001b[0mTensor\u001b[0m\u001b[1;33m:\u001b[0m \u001b[0mConverted\u001b[0m \u001b[0mimage\u001b[0m\u001b[1;33m.\u001b[0m\u001b[1;33m\u001b[0m\u001b[1;33m\u001b[0m\u001b[0m\n\u001b[0;32m     91\u001b[0m         \"\"\"\n\u001b[1;32m---> 92\u001b[1;33m         \u001b[1;32mreturn\u001b[0m \u001b[0mF\u001b[0m\u001b[1;33m.\u001b[0m\u001b[0mto_tensor\u001b[0m\u001b[1;33m(\u001b[0m\u001b[0mpic\u001b[0m\u001b[1;33m)\u001b[0m\u001b[1;33m\u001b[0m\u001b[1;33m\u001b[0m\u001b[0m\n\u001b[0m\u001b[0;32m     93\u001b[0m \u001b[1;33m\u001b[0m\u001b[0m\n\u001b[0;32m     94\u001b[0m     \u001b[1;32mdef\u001b[0m \u001b[0m__repr__\u001b[0m\u001b[1;33m(\u001b[0m\u001b[0mself\u001b[0m\u001b[1;33m)\u001b[0m\u001b[1;33m:\u001b[0m\u001b[1;33m\u001b[0m\u001b[1;33m\u001b[0m\u001b[0m\n",
      "\u001b[1;32mc:\\program files\\python37\\lib\\site-packages\\torchvision\\transforms\\functional.py\u001b[0m in \u001b[0;36mto_tensor\u001b[1;34m(pic)\u001b[0m\n\u001b[0;32m     78\u001b[0m         \u001b[0mimg\u001b[0m \u001b[1;33m=\u001b[0m \u001b[0mtorch\u001b[0m\u001b[1;33m.\u001b[0m\u001b[0mByteTensor\u001b[0m\u001b[1;33m(\u001b[0m\u001b[0mtorch\u001b[0m\u001b[1;33m.\u001b[0m\u001b[0mByteStorage\u001b[0m\u001b[1;33m.\u001b[0m\u001b[0mfrom_buffer\u001b[0m\u001b[1;33m(\u001b[0m\u001b[0mpic\u001b[0m\u001b[1;33m.\u001b[0m\u001b[0mtobytes\u001b[0m\u001b[1;33m(\u001b[0m\u001b[1;33m)\u001b[0m\u001b[1;33m)\u001b[0m\u001b[1;33m)\u001b[0m\u001b[1;33m\u001b[0m\u001b[1;33m\u001b[0m\u001b[0m\n\u001b[0;32m     79\u001b[0m \u001b[1;33m\u001b[0m\u001b[0m\n\u001b[1;32m---> 80\u001b[1;33m     \u001b[0mimg\u001b[0m \u001b[1;33m=\u001b[0m \u001b[0mimg\u001b[0m\u001b[1;33m.\u001b[0m\u001b[0mview\u001b[0m\u001b[1;33m(\u001b[0m\u001b[0mpic\u001b[0m\u001b[1;33m.\u001b[0m\u001b[0msize\u001b[0m\u001b[1;33m[\u001b[0m\u001b[1;36m1\u001b[0m\u001b[1;33m]\u001b[0m\u001b[1;33m,\u001b[0m \u001b[0mpic\u001b[0m\u001b[1;33m.\u001b[0m\u001b[0msize\u001b[0m\u001b[1;33m[\u001b[0m\u001b[1;36m0\u001b[0m\u001b[1;33m]\u001b[0m\u001b[1;33m,\u001b[0m \u001b[0mlen\u001b[0m\u001b[1;33m(\u001b[0m\u001b[0mpic\u001b[0m\u001b[1;33m.\u001b[0m\u001b[0mgetbands\u001b[0m\u001b[1;33m(\u001b[0m\u001b[1;33m)\u001b[0m\u001b[1;33m)\u001b[0m\u001b[1;33m)\u001b[0m\u001b[1;33m\u001b[0m\u001b[1;33m\u001b[0m\u001b[0m\n\u001b[0m\u001b[0;32m     81\u001b[0m     \u001b[1;31m# put it from HWC to CHW format\u001b[0m\u001b[1;33m\u001b[0m\u001b[1;33m\u001b[0m\u001b[1;33m\u001b[0m\u001b[0m\n\u001b[0;32m     82\u001b[0m     \u001b[0mimg\u001b[0m \u001b[1;33m=\u001b[0m \u001b[0mimg\u001b[0m\u001b[1;33m.\u001b[0m\u001b[0mpermute\u001b[0m\u001b[1;33m(\u001b[0m\u001b[1;33m(\u001b[0m\u001b[1;36m2\u001b[0m\u001b[1;33m,\u001b[0m \u001b[1;36m0\u001b[0m\u001b[1;33m,\u001b[0m \u001b[1;36m1\u001b[0m\u001b[1;33m)\u001b[0m\u001b[1;33m)\u001b[0m\u001b[1;33m.\u001b[0m\u001b[0mcontiguous\u001b[0m\u001b[1;33m(\u001b[0m\u001b[1;33m)\u001b[0m\u001b[1;33m\u001b[0m\u001b[1;33m\u001b[0m\u001b[0m\n",
      "\u001b[1;31mKeyboardInterrupt\u001b[0m: "
     ]
    }
   ],
   "source": [
    "import timeit\n",
    "total_t=0\n",
    "for iter in range(10):\n",
    "    start = timeit.default_timer()\n",
    "    for epoch in range(1):        \n",
    "        train(epoch)    \n",
    "    stop = timeit.default_timer()\n",
    "    print('Train Time for epoch: ',epoch,'=', stop - start) \n",
    "    total_t=total_t+(stop - start)\n",
    "print('avg_time=',total_t/10)"
   ]
  },
  {
   "cell_type": "code",
   "execution_count": null,
   "metadata": {},
   "outputs": [],
   "source": []
  }
 ],
 "metadata": {
  "colab": {
   "name": "Lab1_part2_Ex.ipynb",
   "provenance": []
  },
  "kernelspec": {
   "display_name": "Python 3",
   "language": "python",
   "name": "python3"
  },
  "language_info": {
   "codemirror_mode": {
    "name": "ipython",
    "version": 3
   },
   "file_extension": ".py",
   "mimetype": "text/x-python",
   "name": "python",
   "nbconvert_exporter": "python",
   "pygments_lexer": "ipython3",
   "version": "3.7.4"
  }
 },
 "nbformat": 4,
 "nbformat_minor": 1
}
