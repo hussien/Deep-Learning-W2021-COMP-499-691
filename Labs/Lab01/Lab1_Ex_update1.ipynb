{
 "cells": [
  {
   "cell_type": "markdown",
   "metadata": {
    "id": "S02d9PimAZKJ"
   },
   "source": [
    "(1) In this lab we will review some basics of python scientific toolkits\n",
    "\n",
    "Consider the function \n",
    "f(x) = $\\exp(-(x-2)^2)+\\exp(-\\frac{(x-6)^2}{10})+\\frac{1}{x^2+1}$\n",
    "\n",
    "\n",
    "Plot the function in the range $[-10,10]$ using matplotlib \n",
    "\n",
    "\n",
    "\n"
   ]
  },
  {
   "cell_type": "code",
   "execution_count": 24,
   "metadata": {
    "id": "7GLUHKx2ymEE"
   },
   "outputs": [
    {
     "name": "stdout",
     "output_type": "stream",
     "text": [
      "x= [-10.          -8.94736842  -7.89473684  -6.84210526  -5.78947368\n",
      "  -4.73684211  -3.68421053  -2.63157895  -1.57894737  -0.52631579\n",
      "   0.52631579   1.57894737   2.63157895   3.68421053   4.73684211\n",
      "   5.78947368   6.84210526   7.89473684   8.94736842  10.        ]\n",
      "y= [0.00990099 0.01233724 0.01579109 0.02091427 0.02897131 0.0426762\n",
      " 0.06870266 0.12676086 0.28948526 0.79890401 0.94703932 1.26544679\n",
      " 1.1187852  0.71216021 0.89574638 1.02454864 0.95245608 0.7141635\n",
      " 0.43183459 0.21179751]\n"
     ]
    },
    {
     "data": {
      "text/plain": [
       "[<matplotlib.lines.Line2D at 0xdd1dcb0cc8>]"
      ]
     },
     "execution_count": 24,
     "metadata": {},
     "output_type": "execute_result"
    },
    {
     "data": {
      "image/png": "[encoded data removed]",
      "text/plain": [
       "<Figure size 432x288 with 1 Axes>"
      ]
     },
     "metadata": {
      "needs_background": "light"
     },
     "output_type": "display_data"
    }
   ],
   "source": [
    "import numpy as np\n",
    "import math\n",
    "import matplotlib.pyplot as plt\n",
    "x = np.linspace(-10, 10, 20)\n",
    "print('x=',x)\n",
    "y=np.exp(-1*np.power(x-2,2))+np.exp(-1*np.power(x-6,2)/10)+(1/(np.power(x,2)+1))\n",
    "print('y=',y)\n",
    "plt.plot(x, y) "
   ]
  },
  {
   "cell_type": "markdown",
   "metadata": {
    "id": "rGLSo8ca7g8t"
   },
   "source": [
    "(2) Sample the function uniformly with 500 samples on [-10,10]\n",
    "\n",
    "First lets approximate this with linear model $f(x)=wx+b$. Use sklearn and LinearRegression() to fit the function. Plot the approximation and compute the mean squared error. Repeat using the sklearn.neural_network.MLPRegressor and a 1 hidden layer network with 20 units, you may set all other settings to sklearn default for this classifier. \n",
    "\n",
    "https://scikit-learn.org/stable/modules/generated/sklearn.linear_model.LogisticRegression.html\n",
    "\n",
    "https://scikit-learn.org/stable/modules/generated/sklearn.neural_network.MLPRegressor.html\n",
    "\n"
   ]
  },
  {
   "cell_type": "code",
   "execution_count": 59,
   "metadata": {
    "id": "ADB2PyBD3PCi"
   },
   "outputs": [
    {
     "name": "stdout",
     "output_type": "stream",
     "text": [
      "y= [0.00990099 0.0107523  0.01171785 0.01281894 0.01408203 0.01554036\n",
      " 0.01723607 0.01922326 0.02157222 0.02437564 0.02775758 0.03188713\n",
      " 0.03699924 0.04342774 0.05165873 0.06241993 0.07683437 0.09669359\n",
      " 0.12495772 0.16669099 0.23079712 0.3328793  0.49724569 0.74106661\n",
      " 0.98908187 1.03451967 0.92797498 0.95671995 1.17399373 1.37904571\n",
      " 1.35148682 1.10340934 0.84231029 0.71921737 0.72913082 0.80238416\n",
      " 0.88728467 0.95959315 1.00818529 1.02709095 1.01376981 0.96902555\n",
      " 0.89678121 0.80341847 0.69678072 0.58504373 0.47567198 0.3746361\n",
      " 0.28598755 0.21179751]\n",
      "LR score= 0.4441628554354088\n",
      "LR pred_y= [[-0.0011792 ]\n",
      " [ 0.01918149]\n",
      " [ 0.03954217]\n",
      " [ 0.05990285]\n",
      " [ 0.08026354]\n",
      " [ 0.10062422]\n",
      " [ 0.1209849 ]\n",
      " [ 0.14134558]\n",
      " [ 0.16170627]\n",
      " [ 0.18206695]\n",
      " [ 0.20242763]\n",
      " [ 0.22278832]\n",
      " [ 0.243149  ]\n",
      " [ 0.26350968]\n",
      " [ 0.28387037]\n",
      " [ 0.30423105]\n",
      " [ 0.32459173]\n",
      " [ 0.34495241]\n",
      " [ 0.3653131 ]\n",
      " [ 0.38567378]\n",
      " [ 0.40603446]\n",
      " [ 0.42639515]\n",
      " [ 0.44675583]\n",
      " [ 0.46711651]\n",
      " [ 0.4874772 ]\n",
      " [ 0.50783788]\n",
      " [ 0.52819856]\n",
      " [ 0.54855924]\n",
      " [ 0.56891993]\n",
      " [ 0.58928061]\n",
      " [ 0.60964129]\n",
      " [ 0.63000198]\n",
      " [ 0.65036266]\n",
      " [ 0.67072334]\n",
      " [ 0.69108403]\n",
      " [ 0.71144471]\n",
      " [ 0.73180539]\n",
      " [ 0.75216607]\n",
      " [ 0.77252676]\n",
      " [ 0.79288744]\n",
      " [ 0.81324812]\n",
      " [ 0.83360881]\n",
      " [ 0.85396949]\n",
      " [ 0.87433017]\n",
      " [ 0.89469086]\n",
      " [ 0.91505154]\n",
      " [ 0.93541222]\n",
      " [ 0.9557729 ]\n",
      " [ 0.97613359]\n",
      " [ 0.99649427]]\n"
     ]
    },
    {
     "name": "stderr",
     "output_type": "stream",
     "text": [
      "c:\\program files\\python37\\lib\\site-packages\\sklearn\\utils\\validation.py:72: DataConversionWarning: A column-vector y was passed when a 1d array was expected. Please change the shape of y to (n_samples, ), for example using ravel().\n",
      "  return f(**kwargs)\n"
     ]
    },
    {
     "name": "stdout",
     "output_type": "stream",
     "text": [
      "MLP score= 0.4118661371569695\n",
      "MLP pred_y= [ 0.66120093  0.71779455  0.72466711  0.72191809 -0.10721913 -0.08217359\n",
      "  0.73566321  0.64963709  0.73291419  0.69229677  0.702827    0.7232926\n",
      "  0.30073993]\n",
      "y_test= [[0.95671995]\n",
      " [0.80238416]\n",
      " [1.01376981]\n",
      " [1.00818529]\n",
      " [0.01171785]\n",
      " [0.01281894]\n",
      " [0.28598755]\n",
      " [1.37904571]\n",
      " [0.47567198]\n",
      " [1.10340934]\n",
      " [0.84231029]\n",
      " [1.02709095]\n",
      " [0.3328793 ]]\n"
     ]
    }
   ],
   "source": [
    "from sklearn.linear_model import LinearRegression\n",
    "from sklearn.neural_network import MLPRegressor\n",
    "from sklearn.model_selection import train_test_split\n",
    "x = np.linspace(-10, 10, 50)\n",
    "# print('x=',x)\n",
    "y=np.exp(-1*np.power(x-2,2))+np.exp(-1*np.power(x-6,2)/10)+(1/(np.power(x,2)+1))\n",
    "# y=(x+x)/2\n",
    "print('y=',y)\n",
    "x=x.reshape(-1, 1)\n",
    "# print('x=',x)\n",
    "y=y.reshape(-1, 1)\n",
    "# print('y=',y)\n",
    "reg = LinearRegression().fit(x, y)\n",
    "print('LR score=',reg.score(x, y))\n",
    "reg.coef_\n",
    "print('LR pred_y=',reg.predict(x))\n",
    "\n",
    "\n",
    "X_train, X_test, y_train, y_test = train_test_split(x, y,random_state=1)\n",
    "regr = MLPRegressor(hidden_layer_sizes=(20),random_state=1, max_iter=600).fit(X_train, y_train)\n",
    "print('MLP score=',regr.score(X_test, y_test))\n",
    "print('MLP pred_y=',regr.predict(X_test))\n",
    "print('y_test=',y_test)\n"
   ]
  },
  {
   "cell_type": "markdown",
   "metadata": {
    "id": "iAp1-PHeAiiu"
   },
   "source": [
    "\n",
    "(3) Use *sklearn.datasets* library to generate classification datasets using the *sklearn.datasets.make_classification*.\n",
    "\n",
    "(a) Create binary classification datasets with  2, 10, 50 and 100 dimensions, with 50 and 500 samples for training and 5000 for testing. Create linear and non-linearly separable datasets. In total there should be 4 x 2 x 2 =16 datasets. \n",
    "\n",
    "Alternatively to using *make classification* you may select a method of your choosing to construct the synthetic datasets.\n",
    "\n",
    "\n",
    "https://scikit-learn.org/stable/modules/classes.html#module-sklearn.datasets\n"
   ]
  },
  {
   "cell_type": "code",
   "execution_count": null,
   "metadata": {
    "id": "oyQlqoJEAWf2"
   },
   "outputs": [],
   "source": [
    "\n"
   ]
  },
  {
   "cell_type": "markdown",
   "metadata": {
    "id": "li61Qo2CBndi"
   },
   "source": [
    "(b) In the dataset with 50 samples and  linearly separable for each case measure the average distance between points and visualize this in a plot with dimension (2,10,50,100) on the x-axis and average distance between points on the y-axis.\n"
   ]
  },
  {
   "cell_type": "code",
   "execution_count": null,
   "metadata": {
    "id": "9TJl39huF86m"
   },
   "outputs": [],
   "source": []
  },
  {
   "cell_type": "markdown",
   "metadata": {
    "id": "6rcXIvDsF7QV"
   },
   "source": [
    "(c) Visualize each of the datasets you created in 2 dimensions. For higher-dimensional (10,50,100) data use both PCA and t-sne from the *sklearn* package to create these visualizations in 2 dimensions. "
   ]
  },
  {
   "cell_type": "code",
   "execution_count": null,
   "metadata": {
    "id": "SMykNVd-F-zN"
   },
   "outputs": [],
   "source": []
  },
  {
   "cell_type": "markdown",
   "metadata": {
    "id": "mKBTkFOZGU7_"
   },
   "source": [
    "(d) Fit a linear model of your choice from the sklearn library to each of these cases and report accuracy and AUC "
   ]
  },
  {
   "cell_type": "code",
   "execution_count": null,
   "metadata": {
    "id": "Cu7UlRKcGykP"
   },
   "outputs": [],
   "source": []
  }
 ],
 "metadata": {
  "colab": {
   "name": "Lab1_Ex.ipynb",
   "provenance": []
  },
  "kernelspec": {
   "display_name": "Python 3",
   "language": "python",
   "name": "python3"
  },
  "language_info": {
   "codemirror_mode": {
    "name": "ipython",
    "version": 3
   },
   "file_extension": ".py",
   "mimetype": "text/x-python",
   "name": "python",
   "nbconvert_exporter": "python",
   "pygments_lexer": "ipython3",
   "version": "3.7.4"
  }
 },
 "nbformat": 4,
 "nbformat_minor": 1
}
