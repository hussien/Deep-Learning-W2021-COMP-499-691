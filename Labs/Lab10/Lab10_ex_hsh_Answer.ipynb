{
 "cells": [
  {
   "cell_type": "markdown",
   "metadata": {
    "id": "nNFcQ5a-iTEL"
   },
   "source": [
    "This lab is based on the following https://github.com/adambielski/siamese-triplet/blob/master/Experiments_MNIST.ipynb\n",
    "\n",
    "We will train on MNIST dataset using pairwise and triplet ranking losses. From the implementation point of view the trickiest thing is constructing the dataset loader. We will use the pre-constructed data loaders that we will download from the file below"
   ]
  },
  {
   "cell_type": "code",
   "execution_count": 1,
   "metadata": {
    "colab": {
     "base_uri": "https://localhost:8080/",
     "height": 0
    },
    "id": "nQc0K1ati3iG",
    "outputId": "bb6f7e10-734a-4971-958a-f81ca915d920"
   },
   "outputs": [
    {
     "name": "stderr",
     "output_type": "stream",
     "text": [
      "'wget' is not recognized as an internal or external command,\n",
      "operable program or batch file.\n"
     ]
    }
   ],
   "source": [
    "!wget https://raw.githubusercontent.com/adambielski/siamese-triplet/master/datasets.py"
   ]
  },
  {
   "cell_type": "code",
   "execution_count": 2,
   "metadata": {
    "colab": {
     "base_uri": "https://localhost:8080/",
     "height": 587,
     "referenced_widgets": [
      "91cdd32a33a04f31bec3273e2e9ffb71",
      "3f1d77ec73594304b1e1ac463382dae0",
      "fc2a5a5af51f49aea365810f6ff0334f",
      "43509c6fba2943a2a1fa203fa6800e37",
      "5866557ed2234d13bce6b7f4250bf7f8",
      "33c06bd8fedd4ccbbf9e837e975bd2fa",
      "ed757c6a2e6f47e9949c1332a1135d8a",
      "2d01024941a846a790742681228072f6",
      "e2018a4caaa44b468df7571e6ab6203b",
      "eb4dc0b8784b47e697e60dc442c542fb",
      "7c432a9cdd73475ea8a81c62cd73230a",
      "132098f9c990471f8e94d931ed8e0485",
      "20fb154ffadd4586bacd0d9336ad2a6f",
      "f319f5f8d91f4611a6ef9c717889974d",
      "b0d39d518a4b4d4d909a0024b27d9f7c",
      "a570560c422643f1a2c8f6af8b94f1dc",
      "1d6afb895ffb4b8e9e11cfda22e067f1",
      "bcfce50d4bc340daada4e386ce826e85",
      "59148ea477184d23b4018626ef6dcf80",
      "064aedd643e84126970387a150861429",
      "c51fea5fe53046528400422194e1d1d3",
      "1eba0277b6554e26beeea538210af02e",
      "5999ece7ed9b42cc89735983e1fdfd9f",
      "d86a15c0da594d43889f79d2861970c9",
      "65cd12c80f824d0aa751cc9e9f202379",
      "8fee000c022d4883bb01bdc115bb1fa7",
      "55ee53b99f684b79b62fe39005bf4797",
      "494b12d1eeb04d3b975d1eb6a9eed595",
      "ecc8d721516e4c6886b9b564957b10a3",
      "b27f57a27f8a419895e8d558aa981c2d",
      "00b6830223314fc2a6be1a47ae00a3a7",
      "cda982ea0fae41e2bd64948df0090e20"
     ]
    },
    "id": "HAG64U1-i77B",
    "outputId": "fa692d77-8da8-424a-bba7-59bbff2d0d13"
   },
   "outputs": [
    {
     "name": "stdout",
     "output_type": "stream",
     "text": [
      "Downloading http://yann.lecun.com/exdb/mnist/train-images-idx3-ubyte.gz\n",
      "Downloading http://yann.lecun.com/exdb/mnist/train-images-idx3-ubyte.gz to ../data/MNIST\\MNIST\\raw\\train-images-idx3-ubyte.gz\n",
      "Failed to download (trying next):\n",
      "HTTP Error 503: Service Unavailable\n",
      "\n",
      "Downloading https://ossci-datasets.s3.amazonaws.com/mnist/train-images-idx3-ubyte.gz\n",
      "Downloading https://ossci-datasets.s3.amazonaws.com/mnist/train-images-idx3-ubyte.gz to ../data/MNIST\\MNIST\\raw\\train-images-idx3-ubyte.gz\n"
     ]
    },
    {
     "data": {
      "application/vnd.jupyter.widget-view+json": {
       "model_id": "e049a6a0b6b7437082619dc6aafee0f8",
       "version_major": 2,
       "version_minor": 0
      },
      "text/plain": [
       "  0%|          | 0/9912422 [00:00<?, ?it/s]"
      ]
     },
     "metadata": {},
     "output_type": "display_data"
    },
    {
     "name": "stdout",
     "output_type": "stream",
     "text": [
      "Extracting ../data/MNIST\\MNIST\\raw\\train-images-idx3-ubyte.gz to ../data/MNIST\\MNIST\\raw\n",
      "\n",
      "Downloading http://yann.lecun.com/exdb/mnist/train-labels-idx1-ubyte.gz\n",
      "Failed to download (trying next):\n",
      "HTTP Error 503: Service Unavailable\n",
      "\n",
      "Downloading https://ossci-datasets.s3.amazonaws.com/mnist/train-labels-idx1-ubyte.gz\n",
      "Downloading https://ossci-datasets.s3.amazonaws.com/mnist/train-labels-idx1-ubyte.gz to ../data/MNIST\\MNIST\\raw\\train-labels-idx1-ubyte.gz\n"
     ]
    },
    {
     "data": {
      "application/vnd.jupyter.widget-view+json": {
       "model_id": "1abff9665f0f475f88f75b9e87b4e6fa",
       "version_major": 2,
       "version_minor": 0
      },
      "text/plain": [
       "  0%|          | 0/28881 [00:00<?, ?it/s]"
      ]
     },
     "metadata": {},
     "output_type": "display_data"
    },
    {
     "name": "stdout",
     "output_type": "stream",
     "text": [
      "Extracting ../data/MNIST\\MNIST\\raw\\train-labels-idx1-ubyte.gz to ../data/MNIST\\MNIST\\raw\n",
      "\n",
      "Downloading http://yann.lecun.com/exdb/mnist/t10k-images-idx3-ubyte.gz\n",
      "Failed to download (trying next):\n",
      "HTTP Error 503: Service Unavailable\n",
      "\n",
      "Downloading https://ossci-datasets.s3.amazonaws.com/mnist/t10k-images-idx3-ubyte.gz\n",
      "Downloading https://ossci-datasets.s3.amazonaws.com/mnist/t10k-images-idx3-ubyte.gz to ../data/MNIST\\MNIST\\raw\\t10k-images-idx3-ubyte.gz\n"
     ]
    },
    {
     "data": {
      "application/vnd.jupyter.widget-view+json": {
       "model_id": "74e76dc4b5c04ec48d9ea57b35340a25",
       "version_major": 2,
       "version_minor": 0
      },
      "text/plain": [
       "  0%|          | 0/1648877 [00:00<?, ?it/s]"
      ]
     },
     "metadata": {},
     "output_type": "display_data"
    },
    {
     "name": "stdout",
     "output_type": "stream",
     "text": [
      "Extracting ../data/MNIST\\MNIST\\raw\\t10k-images-idx3-ubyte.gz to ../data/MNIST\\MNIST\\raw\n",
      "\n",
      "Downloading http://yann.lecun.com/exdb/mnist/t10k-labels-idx1-ubyte.gz\n",
      "Failed to download (trying next):\n",
      "HTTP Error 503: Service Unavailable\n",
      "\n",
      "Downloading https://ossci-datasets.s3.amazonaws.com/mnist/t10k-labels-idx1-ubyte.gz\n",
      "Downloading https://ossci-datasets.s3.amazonaws.com/mnist/t10k-labels-idx1-ubyte.gz to ../data/MNIST\\MNIST\\raw\\t10k-labels-idx1-ubyte.gz\n"
     ]
    },
    {
     "data": {
      "application/vnd.jupyter.widget-view+json": {
       "model_id": "b632fafaab9e4acdaa695fc228a4738a",
       "version_major": 2,
       "version_minor": 0
      },
      "text/plain": [
       "  0%|          | 0/4542 [00:00<?, ?it/s]"
      ]
     },
     "metadata": {},
     "output_type": "display_data"
    },
    {
     "name": "stdout",
     "output_type": "stream",
     "text": [
      "Extracting ../data/MNIST\\MNIST\\raw\\t10k-labels-idx1-ubyte.gz to ../data/MNIST\\MNIST\\raw\n",
      "\n",
      "Processing...\n",
      "Done!\n"
     ]
    },
    {
     "name": "stderr",
     "output_type": "stream",
     "text": [
      "c:\\users\\administrator\\appdata\\local\\programs\\python\\python39\\lib\\site-packages\\torchvision\\datasets\\mnist.py:502: UserWarning: The given NumPy array is not writeable, and PyTorch does not support non-writeable tensors. This means you can write to the underlying (supposedly non-writeable) NumPy array using the tensor. You may want to copy the array to protect its data or make it writeable before converting it to a tensor. This type of warning will be suppressed for the rest of this program. (Triggered internally at  ..\\torch\\csrc\\utils\\tensor_numpy.cpp:143.)\n",
      "  return torch.from_numpy(parsed.astype(m[2], copy=False)).view(*s)\n"
     ]
    }
   ],
   "source": [
    "from torchvision.datasets import MNIST\n",
    "from torchvision import transforms\n",
    "\n",
    "mean, std = 0.1307, 0.3081\n",
    "\n",
    "train_dataset = MNIST('../data/MNIST', train=True, download=True,\n",
    "                             transform=transforms.Compose([\n",
    "                                 transforms.ToTensor(),\n",
    "                                 transforms.Normalize((mean,), (std,))\n",
    "                             ]))\n",
    "test_dataset = MNIST('../data/MNIST', train=False, download=True,\n",
    "                            transform=transforms.Compose([\n",
    "                                transforms.ToTensor(),\n",
    "                                transforms.Normalize((mean,), (std,))\n",
    "                            ]))\n",
    "n_classes = 10"
   ]
  },
  {
   "cell_type": "code",
   "execution_count": 4,
   "metadata": {
    "colab": {
     "base_uri": "https://localhost:8080/",
     "height": 0
    },
    "id": "ZNrPDs_KjHK3",
    "outputId": "aa0da9fb-82ca-42c8-a1e7-53b60633938d"
   },
   "outputs": [
    {
     "name": "stdout",
     "output_type": "stream",
     "text": [
      "sample_data\n"
     ]
    }
   ],
   "source": [
    "!ls"
   ]
  },
  {
   "cell_type": "markdown",
   "metadata": {
    "id": "ckUfsZ2Ztpey"
   },
   "source": [
    "Below is the dataloader you will use to train this, and an illustration of what it returns. Run this just to get an idea of what the dataloader is doing here. Essentially for a batch size of 32 it will return 32 triplets (indexed by j below)\n",
    "\n"
   ]
  },
  {
   "cell_type": "code",
   "execution_count": 6,
   "metadata": {
    "colab": {
     "base_uri": "https://localhost:8080/",
     "height": 429
    },
    "id": "u5H4NSwHtp2v",
    "outputId": "40770e4c-81c4-434d-8c4d-626f55c5f60e"
   },
   "outputs": [
    {
     "name": "stdout",
     "output_type": "stream",
     "text": [
      "torch.Size([1, 28, 28])\n",
      "torch.Size([28, 28])\n"
     ]
    },
    {
     "name": "stderr",
     "output_type": "stream",
     "text": [
      "/usr/local/lib/python3.7/dist-packages/torchvision/datasets/mnist.py:54: UserWarning: train_labels has been renamed targets\n",
      "  warnings.warn(\"train_labels has been renamed targets\")\n",
      "/usr/local/lib/python3.7/dist-packages/torchvision/datasets/mnist.py:64: UserWarning: train_data has been renamed data\n",
      "  warnings.warn(\"train_data has been renamed data\")\n"
     ]
    },
    {
     "data": {
      "text/plain": [
       "<matplotlib.image.AxesImage at 0x7fe20e0cb8d0>"
      ]
     },
     "execution_count": 6,
     "metadata": {
      "tags": []
     },
     "output_type": "execute_result"
    },
    {
     "data": {
      "text/plain": [
       "<Figure size 432x288 with 0 Axes>"
      ]
     },
     "metadata": {
      "tags": []
     },
     "output_type": "display_data"
    },
    {
     "data": {
      "image/png": "[encoded data removed]",
      "text/plain": [
       "<Figure size 432x288 with 3 Axes>"
      ]
     },
     "metadata": {
      "needs_background": "light",
      "tags": []
     },
     "output_type": "display_data"
    }
   ],
   "source": [
    "from datasets import TripletMNIST\n",
    "import torch \n",
    "\n",
    "triplet_train_dataset = TripletMNIST(train_dataset)\n",
    "triplet_train_loader = torch.utils.data.DataLoader(triplet_train_dataset, batch_size=32, shuffle=True)\n",
    "\n",
    "\n",
    "(im1,im2,im3),_ = next(iter(triplet_train_loader))\n",
    "#anchor, positive, negative\n",
    "import matplotlib.pyplot as plt\n",
    "\n",
    "plt.figure()\n",
    "j=0\n",
    "#subplot(r,c) provide the no. of rows and columns\n",
    "f, axarr = plt.subplots(3,1) \n",
    "# use the created array to output your multiple images. In this case I have stacked 4 images vertically\n",
    "print(im1[j].shape)\n",
    "print(im1[j].squeeze().shape)\n",
    "axarr[0].imshow(im1[j].squeeze()) \n",
    "axarr[1].imshow(im2[j].squeeze())\n",
    "axarr[2].imshow(im3[j].squeeze())\n"
   ]
  },
  {
   "cell_type": "markdown",
   "metadata": {
    "id": "wGBCoXCkjc0B"
   },
   "source": [
    "Train the model using the triplet loss (https://pytorch.org/docs/stable/generated/torch.nn.TripletMarginLoss.html). At each iteration load the 3 samples using the dataloader to act as anchor, positive, negative. Use 20 epochs for training and the adam optimizer with a suggested learning rate of 1e-3. You may experiment with margin parameters (suggest 0.05 to 0.5)."
   ]
  },
  {
   "cell_type": "code",
   "execution_count": 26,
   "metadata": {
    "id": "vlZhjS8bHxX6"
   },
   "outputs": [],
   "source": [
    "import torch.nn as nn\n",
    "class EmbeddingNet(nn.Module):\n",
    "    def __init__(self):\n",
    "        super(EmbeddingNet, self).__init__()\n",
    "        self.convnet = nn.Sequential(nn.Conv2d(1, 32, 5), nn.PReLU(),\n",
    "                                     nn.MaxPool2d(2, stride=2),\n",
    "                                     nn.Conv2d(32, 64, 5), nn.PReLU(),\n",
    "                                     nn.MaxPool2d(2, stride=2))\n",
    "\n",
    "        self.fc = nn.Sequential(nn.Linear(64 * 4 * 4, 256),\n",
    "                                nn.PReLU(),\n",
    "                                nn.Linear(256, 256),\n",
    "                                nn.PReLU(),\n",
    "                                nn.Linear(256, 4)\n",
    "                                )\n",
    "\n",
    "    def forward(self, x):\n",
    "        output = self.convnet(x)\n",
    "        output = output.view(output.size()[0], -1)\n",
    "        output = self.fc(output)\n",
    "        return output\n",
    "\n",
    "    def get_embedding(self, x):\n",
    "        return self.forward(x)\n",
    "\n"
   ]
  },
  {
   "cell_type": "code",
   "execution_count": 27,
   "metadata": {
    "colab": {
     "base_uri": "https://localhost:8080/",
     "height": 0
    },
    "id": "ajMz_ZiPlS75",
    "outputId": "6d23a5ef-a7b4-4473-b0af-7c8677208043"
   },
   "outputs": [
    {
     "name": "stdout",
     "output_type": "stream",
     "text": [
      "torch.Size([100, 1, 28, 28])\n",
      "torch.Size([100, 4])\n"
     ]
    }
   ],
   "source": [
    "\n",
    "model=EmbeddingNet()\n",
    "(im1,im2,im3),_ = next(iter(triplet_train_loader))\n",
    "print(im1.shape)\n",
    "output1 = model(im1)\n",
    "print(output1.shape)"
   ]
  },
  {
   "cell_type": "code",
   "execution_count": 28,
   "metadata": {
    "colab": {
     "base_uri": "https://localhost:8080/",
     "height": 105
    },
    "id": "dCjxkDB4jXtG",
    "outputId": "c3e862f7-9cf9-4824-8751-a88fb18fd63b"
   },
   "outputs": [
    {
     "name": "stderr",
     "output_type": "stream",
     "text": [
      "/usr/local/lib/python3.7/dist-packages/torchvision/datasets/mnist.py:54: UserWarning: train_labels has been renamed targets\n",
      "  warnings.warn(\"train_labels has been renamed targets\")\n",
      "/usr/local/lib/python3.7/dist-packages/torchvision/datasets/mnist.py:64: UserWarning: train_data has been renamed data\n",
      "  warnings.warn(\"train_data has been renamed data\")\n"
     ]
    },
    {
     "name": "stdout",
     "output_type": "stream",
     "text": [
      "Epoch 0 Avg loss 0.013994431830988106\n",
      "Epoch 1 Avg loss 0.004463962324440823\n",
      "Epoch 2 Avg loss 0.003418645114419784\n",
      "Epoch 3 Avg loss 0.0028855749425239687\n",
      "Epoch 4 Avg loss 0.002465450398946511\n"
     ]
    },
    {
     "ename": "KeyboardInterrupt",
     "evalue": "ignored",
     "output_type": "error",
     "traceback": [
      "\u001b[0;31m---------------------------------------------------------------------------\u001b[0m",
      "\u001b[0;31mKeyboardInterrupt\u001b[0m                         Traceback (most recent call last)",
      "\u001b[0;32m<ipython-input-28-336020bc79a9>\u001b[0m in \u001b[0;36m<module>\u001b[0;34m()\u001b[0m\n\u001b[1;32m     18\u001b[0m       \u001b[0mloss\u001b[0m \u001b[0;34m=\u001b[0m \u001b[0mtriplet_loss\u001b[0m\u001b[0;34m(\u001b[0m\u001b[0moutput1\u001b[0m\u001b[0;34m,\u001b[0m\u001b[0moutput2\u001b[0m\u001b[0;34m,\u001b[0m\u001b[0moutput3\u001b[0m\u001b[0;34m)\u001b[0m\u001b[0;34m\u001b[0m\u001b[0;34m\u001b[0m\u001b[0m\n\u001b[1;32m     19\u001b[0m       \u001b[0mall_loss\u001b[0m\u001b[0;34m.\u001b[0m\u001b[0mappend\u001b[0m\u001b[0;34m(\u001b[0m\u001b[0mloss\u001b[0m\u001b[0;34m.\u001b[0m\u001b[0mitem\u001b[0m\u001b[0;34m(\u001b[0m\u001b[0;34m)\u001b[0m\u001b[0;34m)\u001b[0m\u001b[0;34m\u001b[0m\u001b[0;34m\u001b[0m\u001b[0m\n\u001b[0;32m---> 20\u001b[0;31m       \u001b[0mloss\u001b[0m\u001b[0;34m.\u001b[0m\u001b[0mbackward\u001b[0m\u001b[0;34m(\u001b[0m\u001b[0;34m)\u001b[0m\u001b[0;34m\u001b[0m\u001b[0;34m\u001b[0m\u001b[0m\n\u001b[0m\u001b[1;32m     21\u001b[0m       \u001b[0moptimizer\u001b[0m\u001b[0;34m.\u001b[0m\u001b[0mstep\u001b[0m\u001b[0;34m(\u001b[0m\u001b[0;34m)\u001b[0m\u001b[0;34m\u001b[0m\u001b[0;34m\u001b[0m\u001b[0m\n\u001b[1;32m     22\u001b[0m     \u001b[0mprint\u001b[0m\u001b[0;34m(\u001b[0m\u001b[0;34m\"Epoch {} Avg loss {}\"\u001b[0m\u001b[0;34m.\u001b[0m\u001b[0mformat\u001b[0m\u001b[0;34m(\u001b[0m\u001b[0mepoch\u001b[0m\u001b[0;34m,\u001b[0m \u001b[0msum\u001b[0m\u001b[0;34m(\u001b[0m\u001b[0mall_loss\u001b[0m\u001b[0;34m)\u001b[0m\u001b[0;34m/\u001b[0m\u001b[0mlen\u001b[0m\u001b[0;34m(\u001b[0m\u001b[0mall_loss\u001b[0m\u001b[0;34m)\u001b[0m\u001b[0;34m)\u001b[0m\u001b[0;34m)\u001b[0m\u001b[0;34m\u001b[0m\u001b[0;34m\u001b[0m\u001b[0m\n",
      "\u001b[0;32m/usr/local/lib/python3.7/dist-packages/torch/tensor.py\u001b[0m in \u001b[0;36mbackward\u001b[0;34m(self, gradient, retain_graph, create_graph, inputs)\u001b[0m\n\u001b[1;32m    243\u001b[0m                 \u001b[0mcreate_graph\u001b[0m\u001b[0;34m=\u001b[0m\u001b[0mcreate_graph\u001b[0m\u001b[0;34m,\u001b[0m\u001b[0;34m\u001b[0m\u001b[0;34m\u001b[0m\u001b[0m\n\u001b[1;32m    244\u001b[0m                 inputs=inputs)\n\u001b[0;32m--> 245\u001b[0;31m         \u001b[0mtorch\u001b[0m\u001b[0;34m.\u001b[0m\u001b[0mautograd\u001b[0m\u001b[0;34m.\u001b[0m\u001b[0mbackward\u001b[0m\u001b[0;34m(\u001b[0m\u001b[0mself\u001b[0m\u001b[0;34m,\u001b[0m \u001b[0mgradient\u001b[0m\u001b[0;34m,\u001b[0m \u001b[0mretain_graph\u001b[0m\u001b[0;34m,\u001b[0m \u001b[0mcreate_graph\u001b[0m\u001b[0;34m,\u001b[0m \u001b[0minputs\u001b[0m\u001b[0;34m=\u001b[0m\u001b[0minputs\u001b[0m\u001b[0;34m)\u001b[0m\u001b[0;34m\u001b[0m\u001b[0;34m\u001b[0m\u001b[0m\n\u001b[0m\u001b[1;32m    246\u001b[0m \u001b[0;34m\u001b[0m\u001b[0m\n\u001b[1;32m    247\u001b[0m     \u001b[0;32mdef\u001b[0m \u001b[0mregister_hook\u001b[0m\u001b[0;34m(\u001b[0m\u001b[0mself\u001b[0m\u001b[0;34m,\u001b[0m \u001b[0mhook\u001b[0m\u001b[0;34m)\u001b[0m\u001b[0;34m:\u001b[0m\u001b[0;34m\u001b[0m\u001b[0;34m\u001b[0m\u001b[0m\n",
      "\u001b[0;32m/usr/local/lib/python3.7/dist-packages/torch/autograd/__init__.py\u001b[0m in \u001b[0;36mbackward\u001b[0;34m(tensors, grad_tensors, retain_graph, create_graph, grad_variables, inputs)\u001b[0m\n\u001b[1;32m    145\u001b[0m     Variable._execution_engine.run_backward(\n\u001b[1;32m    146\u001b[0m         \u001b[0mtensors\u001b[0m\u001b[0;34m,\u001b[0m \u001b[0mgrad_tensors_\u001b[0m\u001b[0;34m,\u001b[0m \u001b[0mretain_graph\u001b[0m\u001b[0;34m,\u001b[0m \u001b[0mcreate_graph\u001b[0m\u001b[0;34m,\u001b[0m \u001b[0minputs\u001b[0m\u001b[0;34m,\u001b[0m\u001b[0;34m\u001b[0m\u001b[0;34m\u001b[0m\u001b[0m\n\u001b[0;32m--> 147\u001b[0;31m         allow_unreachable=True, accumulate_grad=True)  # allow_unreachable flag\n\u001b[0m\u001b[1;32m    148\u001b[0m \u001b[0;34m\u001b[0m\u001b[0m\n\u001b[1;32m    149\u001b[0m \u001b[0;34m\u001b[0m\u001b[0m\n",
      "\u001b[0;31mKeyboardInterrupt\u001b[0m: "
     ]
    }
   ],
   "source": [
    "#Use this model\n",
    "#Use these dataloaders\n",
    "from datasets import TripletMNIST\n",
    "triplet_loss = nn.TripletMarginLoss(margin=0.2, p=2)\n",
    "triplet_train_dataset = TripletMNIST(train_dataset)\n",
    "triplet_train_loader = torch.utils.data.DataLoader(triplet_train_dataset, batch_size=100, shuffle=True)\n",
    "optimizer = torch.optim.Adam(model.parameters(), lr=1e-3)\n",
    "loss=[] \n",
    "counter=[]\n",
    "iteration_number = 0\n",
    "for epoch in range(20):\n",
    "    all_loss=[]\n",
    "    for (im1,im2,im3),_  in triplet_train_loader:     \n",
    "      optimizer.zero_grad()\n",
    "      output1 = model(im1)\n",
    "      output2 = model(im2)\n",
    "      output3 = model(im3)\n",
    "      loss = triplet_loss(output1,output2,output3)\n",
    "      all_loss.append(loss.item())\n",
    "      loss.backward()\n",
    "      optimizer.step()\n",
    "    print(\"Epoch {} Avg loss {}\".format(epoch, sum(all_loss)/len(all_loss))) \n"
   ]
  },
  {
   "cell_type": "markdown",
   "metadata": {
    "id": "w0SyYaMWjycR"
   },
   "source": [
    "Embedd the entire training set and perform classification on the 500 test set images using a nearest neighbor approach. Report the overall accuracy. Finally show the 5 nearest neighbor for 2 randomly selected samples."
   ]
  },
  {
   "cell_type": "code",
   "execution_count": 29,
   "metadata": {
    "id": "ZD-XfaZ6r8XA"
   },
   "outputs": [],
   "source": [
    "test_loader = torch.utils.data.DataLoader(test_dataset, batch_size=500, shuffle=False)\n",
    "train_loader = torch.utils.data.DataLoader(train_dataset, batch_size=500, shuffle=True)\n",
    "embs=[]\n",
    "targets=[]\n",
    "for img,label in train_loader:\n",
    "    img_emb=model(img)\n",
    "    for idx in range(len(img_emb)):\n",
    "      embs.append(img_emb[idx].detach().numpy())  \n",
    "      targets.append(label[idx])\n",
    "\n",
    "\n",
    "  "
   ]
  },
  {
   "cell_type": "code",
   "execution_count": 30,
   "metadata": {
    "colab": {
     "base_uri": "https://localhost:8080/",
     "height": 0
    },
    "id": "s1rb2w1VbXSJ",
    "outputId": "64c8c5a1-85bb-4ea8-9339-34f716c5910e"
   },
   "outputs": [
    {
     "data": {
      "text/plain": [
       "KNeighborsClassifier(algorithm='auto', leaf_size=30, metric='minkowski',\n",
       "                     metric_params=None, n_jobs=None, n_neighbors=5, p=2,\n",
       "                     weights='uniform')"
      ]
     },
     "execution_count": 30,
     "metadata": {
      "tags": []
     },
     "output_type": "execute_result"
    }
   ],
   "source": [
    "from sklearn.neighbors import KNeighborsClassifier\n",
    "neigh = KNeighborsClassifier(n_neighbors=5)\n",
    "neigh.fit(embs,targets)"
   ]
  },
  {
   "cell_type": "code",
   "execution_count": 32,
   "metadata": {
    "colab": {
     "base_uri": "https://localhost:8080/",
     "height": 0
    },
    "id": "DUTPbFtOm43X",
    "outputId": "08477e75-8f96-440c-8927-902858d2d13d"
   },
   "outputs": [
    {
     "name": "stdout",
     "output_type": "stream",
     "text": [
      "test classification accuracy= 0.988\n"
     ]
    }
   ],
   "source": [
    " test_imgs,test_labels =next(iter(test_loader))\n",
    " test_embs=model(test_imgs)\n",
    " correct=0 \n",
    " for idx in range(len(test_labels)):\n",
    "    nn_class=neigh.predict([test_embs[idx].detach().numpy()])\n",
    "    org_class=test_labels[idx].item()\n",
    "    # print(type(nn_class[0]))\n",
    "    # print(type(org_class))\n",
    "    if nn_class[0] == org_class:\n",
    "      correct=correct+1\n",
    "\n",
    "    # print(nn_class,test_labels[idx])\n",
    "print(\"test classification accuracy=\",correct/len(test_labels))"
   ]
  },
  {
   "cell_type": "code",
   "execution_count": 50,
   "metadata": {
    "colab": {
     "base_uri": "https://localhost:8080/",
     "height": 0
    },
    "id": "yifOdrG3WF1k",
    "outputId": "e2f2d976-2dcb-48c4-de4d-e0de3f2d99c2"
   },
   "outputs": [
    {
     "name": "stdout",
     "output_type": "stream",
     "text": [
      "test point= [ 1.1516725   1.0589375   0.24817315 -0.44755775]  label= 3 nearest train point= [ 1.1315659   1.0564456   0.23062131 -0.43402073]  label= tensor(3)  dist= 0.030030006542801857\n",
      "test point= [ 1.1516725   1.0589375   0.24817315 -0.44755775]  label= 3 nearest train point= [ 1.1368015   1.0564634   0.23337558 -0.45503718]  label= tensor(3)  dist= 0.022409332916140556\n",
      "test point= [ 1.1516725   1.0589375   0.24817315 -0.44755775]  label= 3 nearest train point= [ 1.134194    1.0798577   0.25700772 -0.46699774]  label= tensor(3)  dist= 0.034628208726644516\n",
      "test point= [ 1.1516725   1.0589375   0.24817315 -0.44755775]  label= 3 nearest train point= [ 1.1238494   1.0602124   0.23511738 -0.46315226]  label= tensor(3)  dist= 0.03448755666613579\n",
      "test point= [ 1.1516725   1.0589375   0.24817315 -0.44755775]  label= 3 nearest train point= [ 1.1334857   1.0476727   0.22428265 -0.4391755 ]  label= tensor(3)  dist= 0.033146247267723083\n",
      "test point= [ 1.1516725   1.0589375   0.24817315 -0.44755775]  label= 3 nearest train point= [ 1.1465766   1.0736427   0.24992588 -0.47012144]  label= tensor(3)  dist= 0.027466386556625366\n",
      "test point= [ 1.1516725   1.0589375   0.24817315 -0.44755775]  label= 3 nearest train point= [ 1.1476508   1.0710776   0.25660524 -0.44151852]  label= tensor(3)  dist= 0.016465920954942703\n",
      "test point= [ 1.1516725   1.0589375   0.24817315 -0.44755775]  label= 3 nearest train point= [ 1.1443288   1.0514135   0.22496894 -0.43810537]  label= tensor(3)  dist= 0.027172092348337173\n",
      "test point= [ 1.1516725   1.0589375   0.24817315 -0.44755775]  label= 3 nearest train point= [ 1.1553451   1.0855343   0.25285625 -0.46801072]  label= tensor(3)  dist= 0.03407539799809456\n",
      "test point= [ 1.1516725   1.0589375   0.24817315 -0.44755775]  label= 3 nearest train point= [ 1.1544564   1.0752157   0.2393105  -0.45126918]  label= tensor(3)  dist= 0.019106265157461166\n",
      "test point= [ 1.1516725   1.0589375   0.24817315 -0.44755775]  label= 3 nearest train point= [ 1.147923    1.086365    0.23438361 -0.44538394]  label= tensor(3)  dist= 0.03100321814417839\n",
      "test point= [ 1.1516725   1.0589375   0.24817315 -0.44755775]  label= 3 nearest train point= [ 1.1716173   1.06264     0.24362132 -0.46604943]  label= tensor(3)  dist= 0.02782380022108555\n",
      "test point= [ 1.1516725   1.0589375   0.24817315 -0.44755775]  label= 3 nearest train point= [ 1.1430147   1.0521002   0.25046077 -0.47549698]  label= tensor(3)  dist= 0.03012542426586151\n",
      "test point= [ 1.1516725   1.0589375   0.24817315 -0.44755775]  label= 3 nearest train point= [ 1.154985    1.0753038   0.22904468 -0.4361196 ]  label= tensor(3)  dist= 0.02784881182014942\n",
      "\n",
      "\n",
      "test point= [ 1.1300752   1.0006081   0.18781042 -0.5607433 ]  label= 3 nearest train point= [ 1.1382456   1.018239    0.18084818 -0.54018766]  label= tensor(3)  dist= 0.029130926355719566\n",
      "test point= [ 1.1300752   1.0006081   0.18781042 -0.5607433 ]  label= 3 nearest train point= [ 1.1425104   0.9898162   0.20619187 -0.5472096 ]  label= tensor(3)  dist= 0.028144920244812965\n",
      "test point= [ 1.1300752   1.0006081   0.18781042 -0.5607433 ]  label= 3 nearest train point= [ 1.1073247   0.99916637  0.18517703 -0.5377188 ]  label= tensor(3)  dist= 0.03250732272863388\n",
      "test point= [ 1.1300752   1.0006081   0.18781042 -0.5607433 ]  label= 3 nearest train point= [ 1.1055514   1.0194106   0.18908694 -0.56992733]  label= tensor(3)  dist= 0.032263461500406265\n",
      "test point= [ 1.1300752   1.0006081   0.18781042 -0.5607433 ]  label= 3 nearest train point= [ 1.1158121  1.0041096  0.1994327 -0.5642025]  label= tensor(3)  dist= 0.019045783206820488\n",
      "\n",
      "\n",
      "test point= [-0.4372781 -0.5563923 -0.5470664  0.6021988]  label= 4 nearest train point= [-0.426642   -0.5260905  -0.5422998   0.61258334]  label= tensor(4)  dist= 0.0340864397585392\n",
      "test point= [-0.4372781 -0.5563923 -0.5470664  0.6021988]  label= 4 nearest train point= [-0.44449705 -0.56821626 -0.5345587   0.60764295]  label= tensor(4)  dist= 0.019442226737737656\n",
      "test point= [-0.4372781 -0.5563923 -0.5470664  0.6021988]  label= 4 nearest train point= [-0.42015815 -0.53995407 -0.5339299   0.61120486]  label= tensor(4)  dist= 0.028582962229847908\n",
      "test point= [-0.4372781 -0.5563923 -0.5470664  0.6021988]  label= 4 nearest train point= [-0.45207036 -0.5702605  -0.57084125  0.61595714]  label= tensor(4)  dist= 0.03414198383688927\n",
      "test point= [-0.4372781 -0.5563923 -0.5470664  0.6021988]  label= 4 nearest train point= [-0.44104648 -0.5578974  -0.54031986  0.6176654 ]  label= tensor(4)  dist= 0.017355065792798996\n",
      "test point= [-0.4372781 -0.5563923 -0.5470664  0.6021988]  label= 4 nearest train point= [-0.45812088 -0.5692823  -0.5570332   0.600352  ]  label= tensor(4)  dist= 0.026520201936364174\n",
      "test point= [-0.4372781 -0.5563923 -0.5470664  0.6021988]  label= 4 nearest train point= [-0.4125176  -0.56297743 -0.5461674   0.59872174]  label= tensor(4)  dist= 0.025871671736240387\n",
      "test point= [-0.4372781 -0.5563923 -0.5470664  0.6021988]  label= 4 nearest train point= [-0.44954473 -0.5681932  -0.5504158   0.59254813]  label= tensor(4)  dist= 0.019851570948958397\n",
      "test point= [-0.4372781 -0.5563923 -0.5470664  0.6021988]  label= 4 nearest train point= [-0.44657677 -0.5501481  -0.5294229   0.6025038 ]  label= tensor(4)  dist= 0.02090076170861721\n",
      "test point= [-0.4372781 -0.5563923 -0.5470664  0.6021988]  label= 4 nearest train point= [-0.45588136 -0.58138126 -0.54639     0.60655576]  label= tensor(4)  dist= 0.03146378695964813\n",
      "test point= [-0.4372781 -0.5563923 -0.5470664  0.6021988]  label= 4 nearest train point= [-0.4297594  -0.5415361  -0.54515177  0.5866125 ]  label= tensor(4)  dist= 0.022887440398335457\n",
      "test point= [-0.4372781 -0.5563923 -0.5470664  0.6021988]  label= 4 nearest train point= [-0.4204169  -0.5519217  -0.56786096  0.58848655]  label= tensor(4)  dist= 0.030409300699830055\n",
      "test point= [-0.4372781 -0.5563923 -0.5470664  0.6021988]  label= 4 nearest train point= [-0.45140624 -0.5724522  -0.55783576  0.61658394]  label= tensor(4)  dist= 0.027936290949583054\n",
      "test point= [-0.4372781 -0.5563923 -0.5470664  0.6021988]  label= 4 nearest train point= [-0.42537457 -0.5561033  -0.51930714  0.59356886]  label= tensor(4)  dist= 0.031413834542036057\n",
      "\n",
      "\n"
     ]
    }
   ],
   "source": [
    "from scipy.spatial import distance\n",
    "import numpy as np\n",
    "for idx in np.random.randint(500, size=3):\n",
    "  p1=test_embs[idx].detach().numpy()\n",
    "  for idx2 in range(len(embs)):\n",
    "    dis=distance.euclidean(p1,embs[idx2])\n",
    "    if dis<0.035:\n",
    "        print(\"test point=\",p1,\" label=\",test_labels[idx].item(),\n",
    "        \"nearest train point=\",embs[idx2],\" label=\",targets[idx2],\" dist=\",dis)\n",
    "  print(\"\\n\")\n",
    "\n"
   ]
  },
  {
   "cell_type": "code",
   "execution_count": null,
   "metadata": {
    "id": "sNUSut_er4Ag"
   },
   "outputs": [],
   "source": []
  }
 ],
 "metadata": {
  "accelerator": "GPU",
  "colab": {
   "collapsed_sections": [],
   "name": "Lab10_ex_hsh_Answer.ipynb",
   "provenance": []
  },
  "kernelspec": {
   "display_name": "Python 3",
   "language": "python",
   "name": "python3"
  },
  "language_info": {
   "codemirror_mode": {
    "name": "ipython",
    "version": 3
   },
   "file_extension": ".py",
   "mimetype": "text/x-python",
   "name": "python",
   "nbconvert_exporter": "python",
   "pygments_lexer": "ipython3",
   "version": "3.9.2"
  },
  "widgets": {
   "application/vnd.jupyter.widget-state+json": {
    "00b6830223314fc2a6be1a47ae00a3a7": {
     "model_module": "@jupyter-widgets/controls",
     "model_name": "DescriptionStyleModel",
     "state": {
      "_model_module": "@jupyter-widgets/controls",
      "_model_module_version": "1.5.0",
      "_model_name": "DescriptionStyleModel",
      "_view_count": null,
      "_view_module": "@jupyter-widgets/base",
      "_view_module_version": "1.2.0",
      "_view_name": "StyleView",
      "description_width": ""
     }
    },
    "064aedd643e84126970387a150861429": {
     "model_module": "@jupyter-widgets/controls",
     "model_name": "HTMLModel",
     "state": {
      "_dom_classes": [],
      "_model_module": "@jupyter-widgets/controls",
      "_model_module_version": "1.5.0",
      "_model_name": "HTMLModel",
      "_view_count": null,
      "_view_module": "@jupyter-widgets/controls",
      "_view_module_version": "1.5.0",
      "_view_name": "HTMLView",
      "description": "",
      "description_tooltip": null,
      "layout": "IPY_MODEL_d86a15c0da594d43889f79d2861970c9",
      "placeholder": "​",
      "style": "IPY_MODEL_5999ece7ed9b42cc89735983e1fdfd9f",
      "value": " 1649664/? [01:29&lt;00:00, 18380.28it/s]"
     }
    },
    "132098f9c990471f8e94d931ed8e0485": {
     "model_module": "@jupyter-widgets/controls",
     "model_name": "HTMLModel",
     "state": {
      "_dom_classes": [],
      "_model_module": "@jupyter-widgets/controls",
      "_model_module_version": "1.5.0",
      "_model_name": "HTMLModel",
      "_view_count": null,
      "_view_module": "@jupyter-widgets/controls",
      "_view_module_version": "1.5.0",
      "_view_name": "HTMLView",
      "description": "",
      "description_tooltip": null,
      "layout": "IPY_MODEL_a570560c422643f1a2c8f6af8b94f1dc",
      "placeholder": "​",
      "style": "IPY_MODEL_b0d39d518a4b4d4d909a0024b27d9f7c",
      "value": " 29696/? [00:26&lt;00:00, 1104.01it/s]"
     }
    },
    "1d6afb895ffb4b8e9e11cfda22e067f1": {
     "model_module": "@jupyter-widgets/controls",
     "model_name": "HBoxModel",
     "state": {
      "_dom_classes": [],
      "_model_module": "@jupyter-widgets/controls",
      "_model_module_version": "1.5.0",
      "_model_name": "HBoxModel",
      "_view_count": null,
      "_view_module": "@jupyter-widgets/controls",
      "_view_module_version": "1.5.0",
      "_view_name": "HBoxView",
      "box_style": "",
      "children": [
       "IPY_MODEL_59148ea477184d23b4018626ef6dcf80",
       "IPY_MODEL_064aedd643e84126970387a150861429"
      ],
      "layout": "IPY_MODEL_bcfce50d4bc340daada4e386ce826e85"
     }
    },
    "1eba0277b6554e26beeea538210af02e": {
     "model_module": "@jupyter-widgets/base",
     "model_name": "LayoutModel",
     "state": {
      "_model_module": "@jupyter-widgets/base",
      "_model_module_version": "1.2.0",
      "_model_name": "LayoutModel",
      "_view_count": null,
      "_view_module": "@jupyter-widgets/base",
      "_view_module_version": "1.2.0",
      "_view_name": "LayoutView",
      "align_content": null,
      "align_items": null,
      "align_self": null,
      "border": null,
      "bottom": null,
      "display": null,
      "flex": null,
      "flex_flow": null,
      "grid_area": null,
      "grid_auto_columns": null,
      "grid_auto_flow": null,
      "grid_auto_rows": null,
      "grid_column": null,
      "grid_gap": null,
      "grid_row": null,
      "grid_template_areas": null,
      "grid_template_columns": null,
      "grid_template_rows": null,
      "height": null,
      "justify_content": null,
      "justify_items": null,
      "left": null,
      "margin": null,
      "max_height": null,
      "max_width": null,
      "min_height": null,
      "min_width": null,
      "object_fit": null,
      "object_position": null,
      "order": null,
      "overflow": null,
      "overflow_x": null,
      "overflow_y": null,
      "padding": null,
      "right": null,
      "top": null,
      "visibility": null,
      "width": null
     }
    },
    "20fb154ffadd4586bacd0d9336ad2a6f": {
     "model_module": "@jupyter-widgets/controls",
     "model_name": "ProgressStyleModel",
     "state": {
      "_model_module": "@jupyter-widgets/controls",
      "_model_module_version": "1.5.0",
      "_model_name": "ProgressStyleModel",
      "_view_count": null,
      "_view_module": "@jupyter-widgets/base",
      "_view_module_version": "1.2.0",
      "_view_name": "StyleView",
      "bar_color": null,
      "description_width": "initial"
     }
    },
    "2d01024941a846a790742681228072f6": {
     "model_module": "@jupyter-widgets/base",
     "model_name": "LayoutModel",
     "state": {
      "_model_module": "@jupyter-widgets/base",
      "_model_module_version": "1.2.0",
      "_model_name": "LayoutModel",
      "_view_count": null,
      "_view_module": "@jupyter-widgets/base",
      "_view_module_version": "1.2.0",
      "_view_name": "LayoutView",
      "align_content": null,
      "align_items": null,
      "align_self": null,
      "border": null,
      "bottom": null,
      "display": null,
      "flex": null,
      "flex_flow": null,
      "grid_area": null,
      "grid_auto_columns": null,
      "grid_auto_flow": null,
      "grid_auto_rows": null,
      "grid_column": null,
      "grid_gap": null,
      "grid_row": null,
      "grid_template_areas": null,
      "grid_template_columns": null,
      "grid_template_rows": null,
      "height": null,
      "justify_content": null,
      "justify_items": null,
      "left": null,
      "margin": null,
      "max_height": null,
      "max_width": null,
      "min_height": null,
      "min_width": null,
      "object_fit": null,
      "object_position": null,
      "order": null,
      "overflow": null,
      "overflow_x": null,
      "overflow_y": null,
      "padding": null,
      "right": null,
      "top": null,
      "visibility": null,
      "width": null
     }
    },
    "33c06bd8fedd4ccbbf9e837e975bd2fa": {
     "model_module": "@jupyter-widgets/base",
     "model_name": "LayoutModel",
     "state": {
      "_model_module": "@jupyter-widgets/base",
      "_model_module_version": "1.2.0",
      "_model_name": "LayoutModel",
      "_view_count": null,
      "_view_module": "@jupyter-widgets/base",
      "_view_module_version": "1.2.0",
      "_view_name": "LayoutView",
      "align_content": null,
      "align_items": null,
      "align_self": null,
      "border": null,
      "bottom": null,
      "display": null,
      "flex": null,
      "flex_flow": null,
      "grid_area": null,
      "grid_auto_columns": null,
      "grid_auto_flow": null,
      "grid_auto_rows": null,
      "grid_column": null,
      "grid_gap": null,
      "grid_row": null,
      "grid_template_areas": null,
      "grid_template_columns": null,
      "grid_template_rows": null,
      "height": null,
      "justify_content": null,
      "justify_items": null,
      "left": null,
      "margin": null,
      "max_height": null,
      "max_width": null,
      "min_height": null,
      "min_width": null,
      "object_fit": null,
      "object_position": null,
      "order": null,
      "overflow": null,
      "overflow_x": null,
      "overflow_y": null,
      "padding": null,
      "right": null,
      "top": null,
      "visibility": null,
      "width": null
     }
    },
    "3f1d77ec73594304b1e1ac463382dae0": {
     "model_module": "@jupyter-widgets/base",
     "model_name": "LayoutModel",
     "state": {
      "_model_module": "@jupyter-widgets/base",
      "_model_module_version": "1.2.0",
      "_model_name": "LayoutModel",
      "_view_count": null,
      "_view_module": "@jupyter-widgets/base",
      "_view_module_version": "1.2.0",
      "_view_name": "LayoutView",
      "align_content": null,
      "align_items": null,
      "align_self": null,
      "border": null,
      "bottom": null,
      "display": null,
      "flex": null,
      "flex_flow": null,
      "grid_area": null,
      "grid_auto_columns": null,
      "grid_auto_flow": null,
      "grid_auto_rows": null,
      "grid_column": null,
      "grid_gap": null,
      "grid_row": null,
      "grid_template_areas": null,
      "grid_template_columns": null,
      "grid_template_rows": null,
      "height": null,
      "justify_content": null,
      "justify_items": null,
      "left": null,
      "margin": null,
      "max_height": null,
      "max_width": null,
      "min_height": null,
      "min_width": null,
      "object_fit": null,
      "object_position": null,
      "order": null,
      "overflow": null,
      "overflow_x": null,
      "overflow_y": null,
      "padding": null,
      "right": null,
      "top": null,
      "visibility": null,
      "width": null
     }
    },
    "43509c6fba2943a2a1fa203fa6800e37": {
     "model_module": "@jupyter-widgets/controls",
     "model_name": "HTMLModel",
     "state": {
      "_dom_classes": [],
      "_model_module": "@jupyter-widgets/controls",
      "_model_module_version": "1.5.0",
      "_model_name": "HTMLModel",
      "_view_count": null,
      "_view_module": "@jupyter-widgets/controls",
      "_view_module_version": "1.5.0",
      "_view_name": "HTMLView",
      "description": "",
      "description_tooltip": null,
      "layout": "IPY_MODEL_2d01024941a846a790742681228072f6",
      "placeholder": "​",
      "style": "IPY_MODEL_ed757c6a2e6f47e9949c1332a1135d8a",
      "value": " 9913344/? [05:45&lt;00:00, 28725.02it/s]"
     }
    },
    "494b12d1eeb04d3b975d1eb6a9eed595": {
     "model_module": "@jupyter-widgets/controls",
     "model_name": "HTMLModel",
     "state": {
      "_dom_classes": [],
      "_model_module": "@jupyter-widgets/controls",
      "_model_module_version": "1.5.0",
      "_model_name": "HTMLModel",
      "_view_count": null,
      "_view_module": "@jupyter-widgets/controls",
      "_view_module_version": "1.5.0",
      "_view_name": "HTMLView",
      "description": "",
      "description_tooltip": null,
      "layout": "IPY_MODEL_cda982ea0fae41e2bd64948df0090e20",
      "placeholder": "​",
      "style": "IPY_MODEL_00b6830223314fc2a6be1a47ae00a3a7",
      "value": " 5120/? [00:01&lt;00:00, 3079.73it/s]"
     }
    },
    "55ee53b99f684b79b62fe39005bf4797": {
     "model_module": "@jupyter-widgets/controls",
     "model_name": "FloatProgressModel",
     "state": {
      "_dom_classes": [],
      "_model_module": "@jupyter-widgets/controls",
      "_model_module_version": "1.5.0",
      "_model_name": "FloatProgressModel",
      "_view_count": null,
      "_view_module": "@jupyter-widgets/controls",
      "_view_module_version": "1.5.0",
      "_view_name": "ProgressView",
      "bar_style": "success",
      "description": "",
      "description_tooltip": null,
      "layout": "IPY_MODEL_b27f57a27f8a419895e8d558aa981c2d",
      "max": 4542,
      "min": 0,
      "orientation": "horizontal",
      "style": "IPY_MODEL_ecc8d721516e4c6886b9b564957b10a3",
      "value": 4542
     }
    },
    "5866557ed2234d13bce6b7f4250bf7f8": {
     "model_module": "@jupyter-widgets/controls",
     "model_name": "ProgressStyleModel",
     "state": {
      "_model_module": "@jupyter-widgets/controls",
      "_model_module_version": "1.5.0",
      "_model_name": "ProgressStyleModel",
      "_view_count": null,
      "_view_module": "@jupyter-widgets/base",
      "_view_module_version": "1.2.0",
      "_view_name": "StyleView",
      "bar_color": null,
      "description_width": "initial"
     }
    },
    "59148ea477184d23b4018626ef6dcf80": {
     "model_module": "@jupyter-widgets/controls",
     "model_name": "FloatProgressModel",
     "state": {
      "_dom_classes": [],
      "_model_module": "@jupyter-widgets/controls",
      "_model_module_version": "1.5.0",
      "_model_name": "FloatProgressModel",
      "_view_count": null,
      "_view_module": "@jupyter-widgets/controls",
      "_view_module_version": "1.5.0",
      "_view_name": "ProgressView",
      "bar_style": "success",
      "description": "",
      "description_tooltip": null,
      "layout": "IPY_MODEL_1eba0277b6554e26beeea538210af02e",
      "max": 1648877,
      "min": 0,
      "orientation": "horizontal",
      "style": "IPY_MODEL_c51fea5fe53046528400422194e1d1d3",
      "value": 1648877
     }
    },
    "5999ece7ed9b42cc89735983e1fdfd9f": {
     "model_module": "@jupyter-widgets/controls",
     "model_name": "DescriptionStyleModel",
     "state": {
      "_model_module": "@jupyter-widgets/controls",
      "_model_module_version": "1.5.0",
      "_model_name": "DescriptionStyleModel",
      "_view_count": null,
      "_view_module": "@jupyter-widgets/base",
      "_view_module_version": "1.2.0",
      "_view_name": "StyleView",
      "description_width": ""
     }
    },
    "65cd12c80f824d0aa751cc9e9f202379": {
     "model_module": "@jupyter-widgets/controls",
     "model_name": "HBoxModel",
     "state": {
      "_dom_classes": [],
      "_model_module": "@jupyter-widgets/controls",
      "_model_module_version": "1.5.0",
      "_model_name": "HBoxModel",
      "_view_count": null,
      "_view_module": "@jupyter-widgets/controls",
      "_view_module_version": "1.5.0",
      "_view_name": "HBoxView",
      "box_style": "",
      "children": [
       "IPY_MODEL_55ee53b99f684b79b62fe39005bf4797",
       "IPY_MODEL_494b12d1eeb04d3b975d1eb6a9eed595"
      ],
      "layout": "IPY_MODEL_8fee000c022d4883bb01bdc115bb1fa7"
     }
    },
    "7c432a9cdd73475ea8a81c62cd73230a": {
     "model_module": "@jupyter-widgets/controls",
     "model_name": "FloatProgressModel",
     "state": {
      "_dom_classes": [],
      "_model_module": "@jupyter-widgets/controls",
      "_model_module_version": "1.5.0",
      "_model_name": "FloatProgressModel",
      "_view_count": null,
      "_view_module": "@jupyter-widgets/controls",
      "_view_module_version": "1.5.0",
      "_view_name": "ProgressView",
      "bar_style": "success",
      "description": "",
      "description_tooltip": null,
      "layout": "IPY_MODEL_f319f5f8d91f4611a6ef9c717889974d",
      "max": 28881,
      "min": 0,
      "orientation": "horizontal",
      "style": "IPY_MODEL_20fb154ffadd4586bacd0d9336ad2a6f",
      "value": 28881
     }
    },
    "8fee000c022d4883bb01bdc115bb1fa7": {
     "model_module": "@jupyter-widgets/base",
     "model_name": "LayoutModel",
     "state": {
      "_model_module": "@jupyter-widgets/base",
      "_model_module_version": "1.2.0",
      "_model_name": "LayoutModel",
      "_view_count": null,
      "_view_module": "@jupyter-widgets/base",
      "_view_module_version": "1.2.0",
      "_view_name": "LayoutView",
      "align_content": null,
      "align_items": null,
      "align_self": null,
      "border": null,
      "bottom": null,
      "display": null,
      "flex": null,
      "flex_flow": null,
      "grid_area": null,
      "grid_auto_columns": null,
      "grid_auto_flow": null,
      "grid_auto_rows": null,
      "grid_column": null,
      "grid_gap": null,
      "grid_row": null,
      "grid_template_areas": null,
      "grid_template_columns": null,
      "grid_template_rows": null,
      "height": null,
      "justify_content": null,
      "justify_items": null,
      "left": null,
      "margin": null,
      "max_height": null,
      "max_width": null,
      "min_height": null,
      "min_width": null,
      "object_fit": null,
      "object_position": null,
      "order": null,
      "overflow": null,
      "overflow_x": null,
      "overflow_y": null,
      "padding": null,
      "right": null,
      "top": null,
      "visibility": null,
      "width": null
     }
    },
    "91cdd32a33a04f31bec3273e2e9ffb71": {
     "model_module": "@jupyter-widgets/controls",
     "model_name": "HBoxModel",
     "state": {
      "_dom_classes": [],
      "_model_module": "@jupyter-widgets/controls",
      "_model_module_version": "1.5.0",
      "_model_name": "HBoxModel",
      "_view_count": null,
      "_view_module": "@jupyter-widgets/controls",
      "_view_module_version": "1.5.0",
      "_view_name": "HBoxView",
      "box_style": "",
      "children": [
       "IPY_MODEL_fc2a5a5af51f49aea365810f6ff0334f",
       "IPY_MODEL_43509c6fba2943a2a1fa203fa6800e37"
      ],
      "layout": "IPY_MODEL_3f1d77ec73594304b1e1ac463382dae0"
     }
    },
    "a570560c422643f1a2c8f6af8b94f1dc": {
     "model_module": "@jupyter-widgets/base",
     "model_name": "LayoutModel",
     "state": {
      "_model_module": "@jupyter-widgets/base",
      "_model_module_version": "1.2.0",
      "_model_name": "LayoutModel",
      "_view_count": null,
      "_view_module": "@jupyter-widgets/base",
      "_view_module_version": "1.2.0",
      "_view_name": "LayoutView",
      "align_content": null,
      "align_items": null,
      "align_self": null,
      "border": null,
      "bottom": null,
      "display": null,
      "flex": null,
      "flex_flow": null,
      "grid_area": null,
      "grid_auto_columns": null,
      "grid_auto_flow": null,
      "grid_auto_rows": null,
      "grid_column": null,
      "grid_gap": null,
      "grid_row": null,
      "grid_template_areas": null,
      "grid_template_columns": null,
      "grid_template_rows": null,
      "height": null,
      "justify_content": null,
      "justify_items": null,
      "left": null,
      "margin": null,
      "max_height": null,
      "max_width": null,
      "min_height": null,
      "min_width": null,
      "object_fit": null,
      "object_position": null,
      "order": null,
      "overflow": null,
      "overflow_x": null,
      "overflow_y": null,
      "padding": null,
      "right": null,
      "top": null,
      "visibility": null,
      "width": null
     }
    },
    "b0d39d518a4b4d4d909a0024b27d9f7c": {
     "model_module": "@jupyter-widgets/controls",
     "model_name": "DescriptionStyleModel",
     "state": {
      "_model_module": "@jupyter-widgets/controls",
      "_model_module_version": "1.5.0",
      "_model_name": "DescriptionStyleModel",
      "_view_count": null,
      "_view_module": "@jupyter-widgets/base",
      "_view_module_version": "1.2.0",
      "_view_name": "StyleView",
      "description_width": ""
     }
    },
    "b27f57a27f8a419895e8d558aa981c2d": {
     "model_module": "@jupyter-widgets/base",
     "model_name": "LayoutModel",
     "state": {
      "_model_module": "@jupyter-widgets/base",
      "_model_module_version": "1.2.0",
      "_model_name": "LayoutModel",
      "_view_count": null,
      "_view_module": "@jupyter-widgets/base",
      "_view_module_version": "1.2.0",
      "_view_name": "LayoutView",
      "align_content": null,
      "align_items": null,
      "align_self": null,
      "border": null,
      "bottom": null,
      "display": null,
      "flex": null,
      "flex_flow": null,
      "grid_area": null,
      "grid_auto_columns": null,
      "grid_auto_flow": null,
      "grid_auto_rows": null,
      "grid_column": null,
      "grid_gap": null,
      "grid_row": null,
      "grid_template_areas": null,
      "grid_template_columns": null,
      "grid_template_rows": null,
      "height": null,
      "justify_content": null,
      "justify_items": null,
      "left": null,
      "margin": null,
      "max_height": null,
      "max_width": null,
      "min_height": null,
      "min_width": null,
      "object_fit": null,
      "object_position": null,
      "order": null,
      "overflow": null,
      "overflow_x": null,
      "overflow_y": null,
      "padding": null,
      "right": null,
      "top": null,
      "visibility": null,
      "width": null
     }
    },
    "bcfce50d4bc340daada4e386ce826e85": {
     "model_module": "@jupyter-widgets/base",
     "model_name": "LayoutModel",
     "state": {
      "_model_module": "@jupyter-widgets/base",
      "_model_module_version": "1.2.0",
      "_model_name": "LayoutModel",
      "_view_count": null,
      "_view_module": "@jupyter-widgets/base",
      "_view_module_version": "1.2.0",
      "_view_name": "LayoutView",
      "align_content": null,
      "align_items": null,
      "align_self": null,
      "border": null,
      "bottom": null,
      "display": null,
      "flex": null,
      "flex_flow": null,
      "grid_area": null,
      "grid_auto_columns": null,
      "grid_auto_flow": null,
      "grid_auto_rows": null,
      "grid_column": null,
      "grid_gap": null,
      "grid_row": null,
      "grid_template_areas": null,
      "grid_template_columns": null,
      "grid_template_rows": null,
      "height": null,
      "justify_content": null,
      "justify_items": null,
      "left": null,
      "margin": null,
      "max_height": null,
      "max_width": null,
      "min_height": null,
      "min_width": null,
      "object_fit": null,
      "object_position": null,
      "order": null,
      "overflow": null,
      "overflow_x": null,
      "overflow_y": null,
      "padding": null,
      "right": null,
      "top": null,
      "visibility": null,
      "width": null
     }
    },
    "c51fea5fe53046528400422194e1d1d3": {
     "model_module": "@jupyter-widgets/controls",
     "model_name": "ProgressStyleModel",
     "state": {
      "_model_module": "@jupyter-widgets/controls",
      "_model_module_version": "1.5.0",
      "_model_name": "ProgressStyleModel",
      "_view_count": null,
      "_view_module": "@jupyter-widgets/base",
      "_view_module_version": "1.2.0",
      "_view_name": "StyleView",
      "bar_color": null,
      "description_width": "initial"
     }
    },
    "cda982ea0fae41e2bd64948df0090e20": {
     "model_module": "@jupyter-widgets/base",
     "model_name": "LayoutModel",
     "state": {
      "_model_module": "@jupyter-widgets/base",
      "_model_module_version": "1.2.0",
      "_model_name": "LayoutModel",
      "_view_count": null,
      "_view_module": "@jupyter-widgets/base",
      "_view_module_version": "1.2.0",
      "_view_name": "LayoutView",
      "align_content": null,
      "align_items": null,
      "align_self": null,
      "border": null,
      "bottom": null,
      "display": null,
      "flex": null,
      "flex_flow": null,
      "grid_area": null,
      "grid_auto_columns": null,
      "grid_auto_flow": null,
      "grid_auto_rows": null,
      "grid_column": null,
      "grid_gap": null,
      "grid_row": null,
      "grid_template_areas": null,
      "grid_template_columns": null,
      "grid_template_rows": null,
      "height": null,
      "justify_content": null,
      "justify_items": null,
      "left": null,
      "margin": null,
      "max_height": null,
      "max_width": null,
      "min_height": null,
      "min_width": null,
      "object_fit": null,
      "object_position": null,
      "order": null,
      "overflow": null,
      "overflow_x": null,
      "overflow_y": null,
      "padding": null,
      "right": null,
      "top": null,
      "visibility": null,
      "width": null
     }
    },
    "d86a15c0da594d43889f79d2861970c9": {
     "model_module": "@jupyter-widgets/base",
     "model_name": "LayoutModel",
     "state": {
      "_model_module": "@jupyter-widgets/base",
      "_model_module_version": "1.2.0",
      "_model_name": "LayoutModel",
      "_view_count": null,
      "_view_module": "@jupyter-widgets/base",
      "_view_module_version": "1.2.0",
      "_view_name": "LayoutView",
      "align_content": null,
      "align_items": null,
      "align_self": null,
      "border": null,
      "bottom": null,
      "display": null,
      "flex": null,
      "flex_flow": null,
      "grid_area": null,
      "grid_auto_columns": null,
      "grid_auto_flow": null,
      "grid_auto_rows": null,
      "grid_column": null,
      "grid_gap": null,
      "grid_row": null,
      "grid_template_areas": null,
      "grid_template_columns": null,
      "grid_template_rows": null,
      "height": null,
      "justify_content": null,
      "justify_items": null,
      "left": null,
      "margin": null,
      "max_height": null,
      "max_width": null,
      "min_height": null,
      "min_width": null,
      "object_fit": null,
      "object_position": null,
      "order": null,
      "overflow": null,
      "overflow_x": null,
      "overflow_y": null,
      "padding": null,
      "right": null,
      "top": null,
      "visibility": null,
      "width": null
     }
    },
    "e2018a4caaa44b468df7571e6ab6203b": {
     "model_module": "@jupyter-widgets/controls",
     "model_name": "HBoxModel",
     "state": {
      "_dom_classes": [],
      "_model_module": "@jupyter-widgets/controls",
      "_model_module_version": "1.5.0",
      "_model_name": "HBoxModel",
      "_view_count": null,
      "_view_module": "@jupyter-widgets/controls",
      "_view_module_version": "1.5.0",
      "_view_name": "HBoxView",
      "box_style": "",
      "children": [
       "IPY_MODEL_7c432a9cdd73475ea8a81c62cd73230a",
       "IPY_MODEL_132098f9c990471f8e94d931ed8e0485"
      ],
      "layout": "IPY_MODEL_eb4dc0b8784b47e697e60dc442c542fb"
     }
    },
    "eb4dc0b8784b47e697e60dc442c542fb": {
     "model_module": "@jupyter-widgets/base",
     "model_name": "LayoutModel",
     "state": {
      "_model_module": "@jupyter-widgets/base",
      "_model_module_version": "1.2.0",
      "_model_name": "LayoutModel",
      "_view_count": null,
      "_view_module": "@jupyter-widgets/base",
      "_view_module_version": "1.2.0",
      "_view_name": "LayoutView",
      "align_content": null,
      "align_items": null,
      "align_self": null,
      "border": null,
      "bottom": null,
      "display": null,
      "flex": null,
      "flex_flow": null,
      "grid_area": null,
      "grid_auto_columns": null,
      "grid_auto_flow": null,
      "grid_auto_rows": null,
      "grid_column": null,
      "grid_gap": null,
      "grid_row": null,
      "grid_template_areas": null,
      "grid_template_columns": null,
      "grid_template_rows": null,
      "height": null,
      "justify_content": null,
      "justify_items": null,
      "left": null,
      "margin": null,
      "max_height": null,
      "max_width": null,
      "min_height": null,
      "min_width": null,
      "object_fit": null,
      "object_position": null,
      "order": null,
      "overflow": null,
      "overflow_x": null,
      "overflow_y": null,
      "padding": null,
      "right": null,
      "top": null,
      "visibility": null,
      "width": null
     }
    },
    "ecc8d721516e4c6886b9b564957b10a3": {
     "model_module": "@jupyter-widgets/controls",
     "model_name": "ProgressStyleModel",
     "state": {
      "_model_module": "@jupyter-widgets/controls",
      "_model_module_version": "1.5.0",
      "_model_name": "ProgressStyleModel",
      "_view_count": null,
      "_view_module": "@jupyter-widgets/base",
      "_view_module_version": "1.2.0",
      "_view_name": "StyleView",
      "bar_color": null,
      "description_width": "initial"
     }
    },
    "ed757c6a2e6f47e9949c1332a1135d8a": {
     "model_module": "@jupyter-widgets/controls",
     "model_name": "DescriptionStyleModel",
     "state": {
      "_model_module": "@jupyter-widgets/controls",
      "_model_module_version": "1.5.0",
      "_model_name": "DescriptionStyleModel",
      "_view_count": null,
      "_view_module": "@jupyter-widgets/base",
      "_view_module_version": "1.2.0",
      "_view_name": "StyleView",
      "description_width": ""
     }
    },
    "f319f5f8d91f4611a6ef9c717889974d": {
     "model_module": "@jupyter-widgets/base",
     "model_name": "LayoutModel",
     "state": {
      "_model_module": "@jupyter-widgets/base",
      "_model_module_version": "1.2.0",
      "_model_name": "LayoutModel",
      "_view_count": null,
      "_view_module": "@jupyter-widgets/base",
      "_view_module_version": "1.2.0",
      "_view_name": "LayoutView",
      "align_content": null,
      "align_items": null,
      "align_self": null,
      "border": null,
      "bottom": null,
      "display": null,
      "flex": null,
      "flex_flow": null,
      "grid_area": null,
      "grid_auto_columns": null,
      "grid_auto_flow": null,
      "grid_auto_rows": null,
      "grid_column": null,
      "grid_gap": null,
      "grid_row": null,
      "grid_template_areas": null,
      "grid_template_columns": null,
      "grid_template_rows": null,
      "height": null,
      "justify_content": null,
      "justify_items": null,
      "left": null,
      "margin": null,
      "max_height": null,
      "max_width": null,
      "min_height": null,
      "min_width": null,
      "object_fit": null,
      "object_position": null,
      "order": null,
      "overflow": null,
      "overflow_x": null,
      "overflow_y": null,
      "padding": null,
      "right": null,
      "top": null,
      "visibility": null,
      "width": null
     }
    },
    "fc2a5a5af51f49aea365810f6ff0334f": {
     "model_module": "@jupyter-widgets/controls",
     "model_name": "FloatProgressModel",
     "state": {
      "_dom_classes": [],
      "_model_module": "@jupyter-widgets/controls",
      "_model_module_version": "1.5.0",
      "_model_name": "FloatProgressModel",
      "_view_count": null,
      "_view_module": "@jupyter-widgets/controls",
      "_view_module_version": "1.5.0",
      "_view_name": "ProgressView",
      "bar_style": "success",
      "description": "",
      "description_tooltip": null,
      "layout": "IPY_MODEL_33c06bd8fedd4ccbbf9e837e975bd2fa",
      "max": 9912422,
      "min": 0,
      "orientation": "horizontal",
      "style": "IPY_MODEL_5866557ed2234d13bce6b7f4250bf7f8",
      "value": 9912422
     }
    }
   }
  }
 },
 "nbformat": 4,
 "nbformat_minor": 1
}
