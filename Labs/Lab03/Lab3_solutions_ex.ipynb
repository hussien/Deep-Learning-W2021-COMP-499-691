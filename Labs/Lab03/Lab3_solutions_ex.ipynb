{
  "nbformat": 4,
  "nbformat_minor": 0,
  "metadata": {
    "colab": {
      "name": "Lab3_solutions_ex.ipynb",
      "provenance": [],
      "collapsed_sections": []
    },
    "kernelspec": {
      "name": "python3",
      "display_name": "Python 3"
    },
    "accelerator": "GPU"
  },
  "cells": [
    {
      "cell_type": "markdown",
      "metadata": {
        "id": "72veG8oHuZP1"
      },
      "source": [
        "# Lab 3 - Batch Normalization\n",
        "\n",
        "This lab has the following goals:\n",
        "a) Implement functional and module based batch normalization layer b) Understand the subtleties regarding batchnorm usage, particularly avoiding statistic computation in the test set c) Introduce the use of `register_buffer` in `torch.nn.Module` d) Understand the `.eval()` and `.train()` methods of `torch.nn.Module` and what these do. It is recommended to run the lab mini-experiments on GPU.\n"
      ]
    },
    {
      "cell_type": "markdown",
      "metadata": {
        "id": "f4bggO7azKQo"
      },
      "source": [
        "## 0 Initialization"
      ]
    },
    {
      "cell_type": "markdown",
      "metadata": {
        "id": "CIDPxv5l2qpI"
      },
      "source": [
        "Run the code cells below to initialize the train and test loaders of the MNIST dataset and visualize one of the MNIST samples."
      ]
    },
    {
      "cell_type": "code",
      "metadata": {
        "id": "4ZJYEyoxVPsX"
      },
      "source": [
        "import matplotlib.pyplot as plt\n",
        "import numpy as np\n",
        "import torch\n",
        "from torchvision import datasets,transforms\n",
        "\n",
        "\n",
        "# Initialize train and test datasets\n",
        "train_set = datasets.MNIST('../data',\n",
        "                           train=True,\n",
        "                           download=True,\n",
        "                           transform=transforms.ToTensor())\n",
        "test_set = datasets.MNIST('../data',\n",
        "                          train=False,\n",
        "                          download=True,\n",
        "                          transform=transforms.ToTensor())\n",
        "\n",
        "# Initialize train and test data loaders\n",
        "train_loader = torch.utils.data.DataLoader(train_set,\n",
        "                                           batch_size=256,\n",
        "                                           shuffle=True,\n",
        "                                           drop_last=True)\n",
        "test_loader = torch.utils.data.DataLoader(test_set,\n",
        "                                          batch_size=256,\n",
        "                                          shuffle=True,\n",
        "                                          drop_last=True)"
      ],
      "execution_count": null,
      "outputs": []
    },
    {
      "cell_type": "code",
      "metadata": {
        "id": "TPtGQ5qC1ihG",
        "colab": {
          "base_uri": "https://localhost:8080/",
          "height": 281
        },
        "outputId": "066686a1-80e2-4ba5-80f9-23812999928a"
      },
      "source": [
        "# Visualize a sample from MNIST\n",
        "X_train_samples, y_train_samples = next(iter(train_loader))\n",
        "plt.title(f'Label: {y_train_samples[0]}')\n",
        "plt.imshow((X_train_samples[0].squeeze(0)).numpy(), cmap='gray');"
      ],
      "execution_count": null,
      "outputs": [
        {
          "output_type": "display_data",
          "data": {
            "image/png": "[encoded data removed]",
            "text/plain": [
              "<Figure size 432x288 with 1 Axes>"
            ]
          },
          "metadata": {
            "tags": [],
            "needs_background": "light"
          }
        }
      ]
    },
    {
      "cell_type": "markdown",
      "metadata": {
        "id": "W37VSATWz5RW"
      },
      "source": [
        "## 1 Functional Batch Normalization"
      ]
    },
    {
      "cell_type": "markdown",
      "metadata": {
        "id": "0jCibZUmN7-q"
      },
      "source": [
        "### 1.1 Batch Normalization Function\n",
        "Implement a function that performs batch normalization on a given `inputs` tensor of shape `(N, F)`, where `N` is the minibatch size and `F` is the number of features. Note that batch normalization performs differently at train and inference time:\n",
        "* `train`: During training, batch normalization standardizes the given inputs along the minibatch dimension (mean and standard deviation would be of shape `(F,)`). The running average of the minibatch means and variances are updated during training. Learnable parameters $\\beta$ and $\\gamma$ shift and scale the distribution after standardization.\n",
        "* `eval`: During evaluation (inference), batch normalization uses the running average of the means and standard deviations which were computed during training for normalization.\n",
        "\n",
        "Implement a functional batch normalization layer with the differentiable affine parameters $\\gamma$ and $\\beta$. The batch normalization layer has the following formulation:\n",
        "\n",
        "$$y = \\frac{x - \\mathrm{E}[x]}{\\sqrt{\\mathrm{Var}[x] + \\epsilon}} * \\gamma + \\beta$$\n",
        "\n",
        "\n",
        "You will need to create an additional set of variables to track and update the statistics (`toy_stats_dict`). Note that the statistics are updated outside of backpropagation. For the momentum rate of batchnorm statistics use `0.1`.\n",
        "\n",
        "Your function is then checked in train mode with 100 sample random values $\\sim \\mathcal{N}(50,10)$ (so shape would be `(100, 1)`. The correct printed output should be (very close to):\n",
        "\n",
        "    Training Samples\n",
        "    Before BN: mean tensor([54.8908]), var tensor([8.1866])\n",
        "    After BN: mean tensor([-1.3208e-06], grad_fn=<MeanBackward1>), var tensor([0.9999], grad_fn=<VarBackward1>)\n",
        "\n",
        "**Note:** To get these exact same values, your device would need to be set to cpu.\n"
      ]
    },
    {
      "cell_type": "code",
      "metadata": {
        "id": "K8wWItx6B_lY",
        "colab": {
          "base_uri": "https://localhost:8080/"
        },
        "outputId": "6907305e-2034-4fce-d6d8-10bf4b20b808"
      },
      "source": [
        "# Set seed\n",
        "torch.manual_seed(691)\n",
        "\n",
        "# Number of features\n",
        "train_size = 500\n",
        "test_size = 1\n",
        "num_features = 1\n",
        "\n",
        "# Generates toy train features for evaluating your function down below\n",
        "toy_train_features = (torch.rand(train_size, num_features) * 10) + 50\n",
        "\n",
        "### TODO: Initialize the `running_mean` and `running_var` variables\n",
        "### with 0 and 1 values respectively.\n",
        "toy_stats_dict = {\n",
        "    \"running_mean\": torch.zeros(num_features),\n",
        "    \"running_var\": torch.ones(num_features),\n",
        "}\n",
        "\n",
        "### TODO: Initialize the learnable parameters `beta` and `gamma` \n",
        "### with 0 and 1 values respectively.\n",
        "beta = torch.zeros(num_features, requires_grad=True, dtype=torch.float32)\n",
        "gamma = torch.ones(num_features, requires_grad=True, dtype=torch.float32)\n",
        "\n",
        "def batchnorm(inputs, beta, gamma, stats_dict, train=True, eps=0.001, momentum=0.1):\n",
        "    r\"\"\"Performs batch normalization for a single layer of inputs. If in train\n",
        "    mode, will update the stats_dict dictionary with running mean and variance\n",
        "    values.\n",
        "\n",
        "    Args:\n",
        "        inputs (torch.tensor): Batch of inputs of shape (N, F), where N is \n",
        "            the minibatch size, and F is the number of features.\n",
        "        beta (torch.tensor): Batch normalization beta variable of shape (F,).\n",
        "        gamma (torch.tensor): Batch normalization gamma variable of shape (F,).\n",
        "        stats_dict (dict of torch.tensor): Dictionary containing the running\n",
        "            mean and variance. Expects dictionary to contain keys 'running_mean'\n",
        "            and 'running_var', with values being `torch.tensor`s of shape (F,).\n",
        "        train (bool): Determines whether batch norm is in train mode or not.\n",
        "            Default: True\n",
        "        eps (float): Constant for numeric stability.\n",
        "        momentum (float): The momentum value for updating the running mean and\n",
        "            variance during training.\n",
        "\n",
        "    Returns:\n",
        "        torch.tensor: Batch normalized inputs, of shape (N, F)\n",
        "    \"\"\"\n",
        "    ### TODO: Fill out this function\n",
        "    pop_mean = stats_dict[\"running_mean\"]\n",
        "    pop_var = stats_dict[\"running_var\"]\n",
        "\n",
        "    if train:\n",
        "        # compute batch statistics\n",
        "        batch_mean = inputs.mean(0)\n",
        "        batch_var = inputs.var(0)\n",
        "\n",
        "        # update population statistics\n",
        "        pop_mean = (pop_mean * (1 - momentum)) + (batch_mean * momentum)\n",
        "        pop_var = (pop_var * (1 - momentum)) + (batch_var * momentum)\n",
        "        stats_dict[\"running_mean\"] = pop_mean\n",
        "        stats_dict[\"running_var\"] = pop_var\n",
        "\n",
        "        # standardize inputs\n",
        "        return gamma * (inputs - batch_mean) / ((batch_var + eps) ** 0.5) + beta\n",
        "    else:\n",
        "        # inference mode: standardize with train statistics\n",
        "        return gamma * (inputs - pop_mean) / ((pop_var + eps) ** 0.5) + beta\n",
        "\n",
        "# run batchnorm on toy train features\n",
        "bn_out_train = batchnorm(toy_train_features, beta, gamma, toy_stats_dict)\n",
        "\n",
        "# print results\n",
        "print(\"Training Samples\")\n",
        "print(f\"Before BN: mean {toy_train_features.mean(0)}, var {toy_train_features.var(0)}\")\n",
        "print(f\"After BN: mean {bn_out_train.mean(0)}, var {bn_out_train.var(0)}\\n\")"
      ],
      "execution_count": null,
      "outputs": [
        {
          "output_type": "stream",
          "text": [
            "Training Samples\n",
            "Before BN: mean tensor([54.8908]), var tensor([8.1866])\n",
            "After BN: mean tensor([-1.3208e-06], grad_fn=<MeanBackward1>), var tensor([0.9999], grad_fn=<VarBackward1>)\n",
            "\n"
          ],
          "name": "stdout"
        }
      ]
    },
    {
      "cell_type": "markdown",
      "metadata": {
        "id": "14MBuiusdZmA"
      },
      "source": [
        "### 1.2 Setting up the Model Arhitecture\n",
        "For the model architecture, we use the 2 layer model from previous labs (the one that doesnt use `nn.Module`) and use the batchnorm function defined in part (1.1) (without the batchnorm parameters) at the 2 hidden layers."
      ]
    },
    {
      "cell_type": "code",
      "metadata": {
        "id": "bhZ0I_q7dnb9"
      },
      "source": [
        "# Initialize model hiden layer sizes\n",
        "h1_size = 50\n",
        "h2_size = 50\n",
        "\n",
        "### TODO: Initialize the beta and gamma parameters\n",
        "device = \"cuda\" if torch.cuda.is_available() else \"cpu\"\n",
        "beta0 = torch.zeros(h1_size, dtype=torch.float32)\n",
        "gamma0 = torch.ones(h1_size, dtype=torch.float32)\n",
        "beta1 = torch.zeros(h2_size, dtype=torch.float32)\n",
        "gamma1 = torch.ones(h2_size, dtype=torch.float32)\n",
        "\n",
        "# Intentional naive initialization (do not modify)\n",
        "param_dict = {\n",
        "    \"W0\": torch.rand(784, h1_size)*2-1,\n",
        "    \"b0\": torch.rand(h1_size)*2-1,\n",
        "    \"beta0\": beta0,\n",
        "    \"gamma0\": gamma0,\n",
        "    \"W1\": torch.rand(h1_size, h2_size)*2-1,\n",
        "    \"b1\": torch.rand(h2_size)*2-1,\n",
        "    \"beta1\": beta1,\n",
        "    \"gamma1\": gamma1,\n",
        "    \"W2\": torch.rand(h2_size,10)*2-1,\n",
        "    \"b2\": torch.rand(10)*2-1,\n",
        "}\n",
        "\n",
        "for name, param in param_dict.items():\n",
        "    param_dict[name] = param.to(device)\n",
        "    param_dict[name].requires_grad = True\n",
        "\n",
        "### TODO: Initialize the `running_mean` and `running_var` variables\n",
        "### with 0s and 1s respectively.\n",
        "l1_stats_dict = {\n",
        "    \"running_mean\": torch.zeros(h1_size),\n",
        "    \"running_var\": torch.ones(h1_size),\n",
        "}\n",
        "l2_stats_dict = {\n",
        "    \"running_mean\": torch.zeros(h2_size),\n",
        "    \"running_var\": torch.ones(h2_size),\n",
        "}\n",
        "layers_stats_list = [l1_stats_dict, l2_stats_dict]\n",
        "\n",
        "def my_nn(input, param_dict, layers_stats_list, train=True):\n",
        "    r\"\"\"Performs a single forward pass of a 2 layer MLP with batch \n",
        "    normalization using the given parameters in param_dict and the\n",
        "    batch norm statistics in layers_stats_list.\n",
        "\n",
        "    Args:\n",
        "        input (torch.tensor): Batch of images of shape (N, H, W), where N is \n",
        "            the number of input samples, and H and W are the image height and \n",
        "            width respectively.\n",
        "        param_dict (dict of torch.tensor): Dictionary containing the parameters\n",
        "            of the neural network. Expects dictionary keys to be of format \n",
        "            \"W#\", \"b#\", \"beta#\" and \"gamma#\" where # is the layer number.\n",
        "        layers_stats_list (list of dict of torch.tensor): List of dictionaries\n",
        "            containing running means and variances for each layer. List size \n",
        "            is equal to the number of hidden layers.\n",
        "        train (bool): Determines whether batch norm is in train mode or not.\n",
        "            Default: True\n",
        "\n",
        "    Returns:\n",
        "        torch.tensor: Neural network output of shape (N, 10)\n",
        "    \"\"\"\n",
        "    x = input.view(-1, 28*28) \n",
        "\n",
        "    # layer 1\n",
        "    x = x @ param_dict['W0']  # don't need `+ param_dict['b0']` due to batchnorm\n",
        "\n",
        "    ### TODO: use your complete batchnorm function\n",
        "    x = batchnorm(x, param_dict['beta0'], param_dict['gamma0'], layers_stats_list[0])\n",
        "    x = torch.relu(x)\n",
        "\n",
        "    # layer 2\n",
        "    x = x @ param_dict['W1']  # don't need `+ param_dict['b1']` due to batchnorm\n",
        "\n",
        "    ### TODO: use your complete batchnorm function\n",
        "    x = batchnorm(x, param_dict['beta0'], param_dict['gamma0'], layers_stats_list[1])\n",
        "    x = torch.relu(x)\n",
        "\n",
        "    # output \n",
        "    x = x @ param_dict['W2'] + param_dict['b2']\n",
        "    return x\n",
        "\n",
        "def my_zero_grad(param_dict):\n",
        "    r\"\"\"Zeros the gradients of the parameters in `param_dict`.\n",
        "\n",
        "    Args:\n",
        "        param_dict (dict of torch.tensor): Dictionary containing the parameters\n",
        "            of the neural network. Expects dictionary keys to be of format \n",
        "            \"W#\", \"b#\", \"beta#\" and \"gamma#\" where # is the layer number.\n",
        "        layers_stats_list (list of dict of torch.tensor): List of dictionaries\n",
        "            containing running means and variances for each layer. List size \n",
        "            is equal to the number of hidden layers.\n",
        "\n",
        "    Returns:\n",
        "        None\n",
        "    \"\"\"\n",
        "    for _, param in param_dict.items():\n",
        "        if param.grad is not None: \n",
        "            param.grad.detach_()\n",
        "            param.grad.zero_()\n",
        "\n",
        "def initialize_nn(param_dict, layers_stats_list):\n",
        "    r\"\"\"Initializes the parameters in `param_dict` and resets the statistics\n",
        "    in `layers_stats_list`.\n",
        "\n",
        "    Args:\n",
        "        param_dict (dict of torch.tensor): Dictionary containing the parameters\n",
        "            of the neural network. Expects dictionary keys to be of format \n",
        "            \"W#\", \"b#\", \"beta#\" and \"gamma#\" where # is the layer number.\n",
        "        layers_stats_list (list of dict of torch.tensor): List of dictionaries\n",
        "            containing running means and variances for each layer. List size \n",
        "            is equal to the number of hidden layers.\n",
        "\n",
        "    Returns:\n",
        "        None\n",
        "    \"\"\"\n",
        "    # re-initialize parameters in param_dict\n",
        "    for name, param in param_dict.items():\n",
        "        if \"beta\" in name:\n",
        "            param_dict[name] = torch.zeros_like(param)\n",
        "        elif \"gamma\" in name:\n",
        "            param_dict[name] = torch.ones_like(param)\n",
        "        else:\n",
        "            param_dict[name] = torch.rand_like(param)*2-1\n",
        "\n",
        "    # turn on parameter gradients for parameters, and move them to device\n",
        "    for name, param in param_dict.items():\n",
        "        param_dict[name] = param.to(device)\n",
        "        param_dict[name].requires_grad = True\n",
        "\n",
        "    # re-initialize the `running_mean` and `running_var` variables\n",
        "    for layer_stats_dict in layers_stats_list:\n",
        "        layer_stats_dict[\"running_mean\"] = torch.zeros_like(layer_stats_dict[\"running_mean\"], device=device)\n",
        "        layer_stats_dict[\"running_var\"] = torch.ones_like(layer_stats_dict[\"running_var\"], device=device)\n"
      ],
      "execution_count": null,
      "outputs": []
    },
    {
      "cell_type": "markdown",
      "metadata": {
        "id": "rSb7w9p-vGlQ"
      },
      "source": [
        "### 1.3 Training the Model\n",
        "\n",
        "Train the model on the MNIST dataset with 20 epochs and `lr=0.01` with SGD and without momentum (as per lab 2). Plot the learning curves for training accuracy recorded every 50 iterations."
      ]
    },
    {
      "cell_type": "code",
      "metadata": {
        "id": "mDmMiqCAv36z",
        "colab": {
          "base_uri": "https://localhost:8080/"
        },
        "outputId": "c549a15e-54e5-4512-8ca6-374e669df84c"
      },
      "source": [
        "from torch.optim import SGD\n",
        "\n",
        "# training hyper_parameters\n",
        "lr = 0.01\n",
        "num_epochs = 20\n",
        "\n",
        "### TODO: Initialize optimizer. You can use the SGD class from pytorch.\n",
        "initialize_nn(param_dict, layers_stats_list)\n",
        "optimizer = SGD(param_dict.values(), lr)\n",
        "train_history = {\n",
        "    'train_loss_hist': [],\n",
        "    'train_acc_hist': [],\n",
        "}\n",
        "\n",
        "for epoch in range(num_epochs):\n",
        "    total_train_size = 0\n",
        "    total_train_loss = 0\n",
        "    total_train_correct = 0\n",
        "    for i, (data, label) in enumerate(train_loader):\n",
        "        ### TODO: Train the network\n",
        "        # move inputs to desired device and dtype\n",
        "        data = data.to(device, dtype=torch.float32)\n",
        "        label = label.to(device, dtype=torch.long)\n",
        "\n",
        "        # forward pass\n",
        "        scores = my_nn(data, param_dict, layers_stats_list, train=True)\n",
        "        loss = torch.nn.functional.cross_entropy(scores, label)  # can't do reduction=\"sum\" here as it'll change effective lr\n",
        "\n",
        "        # backward pass\n",
        "        optimizer.zero_grad() # Zero out the gradients\n",
        "        loss.backward() # Compute gradient of loss w.r.t. model parameters\n",
        "        optimizer.step() # Make a gradient update step\n",
        "\n",
        "        # Epoch loss and accuracy average\n",
        "        minibatch_size = len(data)\n",
        "        total_train_size += minibatch_size\n",
        "        total_train_loss += (minibatch_size * loss).item()\n",
        "        total_train_correct += (scores.max(dim=1)[1] == label).sum()\n",
        "\n",
        "        if i%50 == 0:\n",
        "          # update train_history\n",
        "          # compute train_loss_hist & train_acc_hist for each epoch\n",
        "          # computing metrics across entire epoch reduces noise/variance of the metrics\n",
        "          train_loss = total_train_loss / total_train_size\n",
        "          train_acc = 100 * (float(total_train_correct) / total_train_size)\n",
        "          train_history['train_loss_hist'].append(train_loss)\n",
        "          train_history['train_acc_hist'].append(train_acc)\n",
        "\n",
        "    # print training progress\n",
        "    print(f'Epoch {epoch+1:02d}: train loss {train_loss:.4f}, train acc {train_acc:.2f}%')"
      ],
      "execution_count": null,
      "outputs": [
        {
          "output_type": "stream",
          "text": [
            "Epoch 01: train loss 3.6941, train acc 13.99%\n",
            "Epoch 02: train loss 2.0806, train acc 34.11%\n",
            "Epoch 03: train loss 1.6285, train acc 46.20%\n",
            "Epoch 04: train loss 1.4032, train acc 53.59%\n",
            "Epoch 05: train loss 1.2609, train acc 58.32%\n",
            "Epoch 06: train loss 1.1579, train acc 61.76%\n",
            "Epoch 07: train loss 1.0809, train acc 64.53%\n",
            "Epoch 08: train loss 1.0143, train acc 66.83%\n",
            "Epoch 09: train loss 0.9650, train acc 68.59%\n",
            "Epoch 10: train loss 0.9168, train acc 70.25%\n",
            "Epoch 11: train loss 0.8749, train acc 71.45%\n",
            "Epoch 12: train loss 0.8428, train acc 72.74%\n",
            "Epoch 13: train loss 0.8156, train acc 73.67%\n",
            "Epoch 14: train loss 0.7868, train acc 74.56%\n",
            "Epoch 15: train loss 0.7572, train acc 75.68%\n",
            "Epoch 16: train loss 0.7369, train acc 76.27%\n",
            "Epoch 17: train loss 0.7193, train acc 76.91%\n",
            "Epoch 18: train loss 0.6973, train acc 77.75%\n",
            "Epoch 19: train loss 0.6804, train acc 78.37%\n",
            "Epoch 20: train loss 0.6653, train acc 78.79%\n"
          ],
          "name": "stdout"
        }
      ]
    },
    {
      "cell_type": "code",
      "metadata": {
        "colab": {
          "base_uri": "https://localhost:8080/",
          "height": 241
        },
        "id": "JY5QHGUF4jkK",
        "outputId": "87d8efaf-06b1-4c23-9191-06608db6b4b4"
      },
      "source": [
        "fig, axes = plt.subplots(1, 2, figsize=(10, 3))\n",
        "for ax, metric in zip(axes, ['loss', 'acc']):\n",
        "    loss_history = train_history[f'train_{metric}_hist']\n",
        "    ax.plot(np.arange(len(loss_history))+1, loss_history)\n",
        "    ax.set_xlabel('epoch #')\n",
        "    name = \"Loss\" if metric == \"loss\" else \"Accuracy\"\n",
        "    ax.set_ylabel(name)\n",
        "    ax.title.set_text(f'{name} convergence')\n",
        "plt.show()"
      ],
      "execution_count": null,
      "outputs": [
        {
          "output_type": "display_data",
          "data": {
            "image/png": "[encoded data removed]",
            "text/plain": [
              "<Figure size 720x216 with 2 Axes>"
            ]
          },
          "metadata": {
            "tags": [],
            "needs_background": "light"
          }
        }
      ]
    },
    {
      "cell_type": "markdown",
      "metadata": {
        "id": "38H0o2CzjBNa"
      },
      "source": [
        "### 1.4 Evaluating the Model\n",
        "\n",
        "Evaluate the model taking care that the statistics should not be used from the test set. Explain why the evaluation needs to be treated differently. Print the accuracy of both the train and test set in evaluation mode.\n",
        "\n"
      ]
    },
    {
      "cell_type": "code",
      "metadata": {
        "id": "ICebAfnmqyGS",
        "colab": {
          "base_uri": "https://localhost:8080/"
        },
        "outputId": "022e50d0-9662-400b-fcd8-ab59eb223a25"
      },
      "source": [
        "### TODO: Evaluate the network\n",
        "def evaluate(my_nn_func, param_dict, layers_stats_list, loader, device):\n",
        "    \"\"\"Returns the accuracy of the model in evaluation mode on loader data.\n",
        "    \n",
        "    Args:\n",
        "        my_nn_func (function): Function for performing the forward pass\n",
        "            of the neural network.\n",
        "        param_dict (dict of torch.tensor): Dictionary containing the parameters\n",
        "            of the neural network. Expects dictionary keys to be of format \n",
        "            \"W#\", \"b#\", \"beta#\" and \"gamma#\" where # is the layer number.\n",
        "        layers_stats_list (list of dict of torch.tensor): List of dictionaries\n",
        "            containing running means and variances for each layer. List size \n",
        "            is equal to the number of hidden layers.\n",
        "        loader (torch.utils.data.DataLoader): DataLoader object\n",
        "    \n",
        "    Returns:\n",
        "        (float): Accuracy percentage\n",
        "    \"\"\"\n",
        "    num_correct = 0\n",
        "    num_total = 0\n",
        "    with torch.no_grad():  # temporarily set all requires_grad flags to False\n",
        "        for i, (data, label) in enumerate(train_loader):\n",
        "            # move inputs to desired device and dtype\n",
        "            data = data.to(device, dtype=torch.float32)\n",
        "            label = label.to(device, dtype=torch.long)\n",
        "\n",
        "            # forward pass\n",
        "            scores = my_nn_func(data, param_dict, layers_stats_list, train=False)  # set train mode to False (makes sure batchnorm works correctly)\n",
        "\n",
        "            # Compute number of accurate predictions\n",
        "            preds = scores.max(dim=1)[1]\n",
        "            num_correct += (preds == label).sum()\n",
        "            num_total += len(preds)\n",
        "\n",
        "        # compute accuracy percentage\n",
        "        acc = 100 * (float(num_correct) / num_total)\n",
        "\n",
        "    return acc\n",
        "\n",
        "train_acc = evaluate(my_nn, param_dict, layers_stats_list, train_loader, device)\n",
        "test_acc = evaluate(my_nn, param_dict, layers_stats_list, test_loader, device)\n",
        "print(f'accuracy: train {train_acc:.2f}%, test {test_acc:.2f}%')"
      ],
      "execution_count": null,
      "outputs": [
        {
          "output_type": "stream",
          "text": [
            "accuracy: train 79.17%, test 79.24%\n"
          ],
          "name": "stdout"
        }
      ]
    },
    {
      "cell_type": "markdown",
      "metadata": {
        "id": "ndXpk3C5bwQ8"
      },
      "source": [
        "## 2 Modular Batch Normalization\n"
      ]
    },
    {
      "cell_type": "markdown",
      "metadata": {
        "id": "9OSCgA_l0kMf"
      },
      "source": [
        "### 2.1 Batch Normalization Module\n",
        "\n",
        "Implement a `torch.nn.Module` that performs the batch normalization operation. You will need to use the `register_buffer` in the `__init__` call of your custom `nn.Module` class to create variables that are not in the computation graph but tracked by `nn.Module`. Registering the buffer statistics for example allows the tensor to be moved onto the gpu when `model.cuda()` is called.\n",
        "\n",
        "**Hint:** You can use the `.training` attribute of `torch.nn.Module` to detect if the model is in `.train()` mode or `.eval()` mode ([example](https://github.com/pytorch/pytorch/blob/fcf8b712348f21634044a5d76a69a59727756357/torch/nn/modules/batchnorm.py#L123))."
      ]
    },
    {
      "cell_type": "code",
      "metadata": {
        "id": "Nbgzjuqtlhvx"
      },
      "source": [
        "import torch.nn as nn\n",
        "import torch.nn.functional as F\n",
        "\n",
        "class myBatchnorm(nn.Module):\n",
        "    def __init__(self, num_features, epsilon=1e-3, momentum=.1):\n",
        "        super(myBatchnorm,self).__init__()\n",
        "        self.epsilon = epsilon\n",
        "        self.m = momentum\n",
        "\n",
        "        ### TODO: Initialize the `running_mean` and `running_var`\n",
        "        ### register buffers with 0s and 1s respectively.\n",
        "        self.register_buffer(\"running_mean\", torch.zeros(num_features))\n",
        "        self.register_buffer(\"running_var\", torch.ones(num_features))\n",
        "\n",
        "        ### TODO: Initialize the gamma and beta parameters\n",
        "        self.gamma = nn.Parameter(torch.ones(num_features, requires_grad=True))\n",
        "        self.beta = nn.Parameter(torch.zeros(num_features, requires_grad=True))\n",
        "\n",
        "    def forward(self, x):\n",
        "        ### TODO: perform batch normalization\n",
        "        ### Hint: use nn.Module's .training attribute\n",
        "        pop_mean = self.running_mean\n",
        "        pop_var = self.running_var\n",
        "\n",
        "        if self.training:\n",
        "            # compute batch statistics\n",
        "            batch_mean = x.mean(0)\n",
        "            batch_var = x.var(0)\n",
        "\n",
        "            # update population statistics\n",
        "            pop_mean = (pop_mean * (1 - self.m)) + (batch_mean * self.m)\n",
        "            pop_var = (pop_var * (1 - self.m)) + (batch_var * self.m)\n",
        "            self.running_mean = pop_mean\n",
        "            self.running_var = pop_var\n",
        "\n",
        "            # standardize x\n",
        "            return self.gamma * (x - batch_mean) / ((batch_var + self.epsilon) ** 0.5) + self.beta\n",
        "        else:\n",
        "            # inference mode: standardize with train statistics\n",
        "            return self.gamma * (x - pop_mean) / ((pop_var + self.epsilon) ** 0.5) + self.beta\n",
        "\n",
        "# Modify this class with your custom batchnorm\n",
        "class Model(nn.Module):\n",
        "    def __init__(self, h1_size, h2_size):\n",
        "        super(Model, self).__init__()\n",
        "        self.linear1 = nn.Linear(28*28, h1_size)\n",
        "        self.linear2 = nn.Linear(h1_size, h2_size)\n",
        "        self.linear3 = nn.Linear(h2_size, 10)\n",
        "\n",
        "        ### TODO: initialize batch normalization layers\n",
        "        self.bn1 = myBatchnorm(h1_size)\n",
        "        self.bn2 = myBatchnorm(h2_size)\n",
        "\n",
        "        self.init_weights()\n",
        "\n",
        "    def init_weights(self):\n",
        "        self.linear1.weight.data.uniform_(-1, 1)\n",
        "        self.linear1.bias.data.uniform_(-1, 1)\n",
        "        self.linear2.weight.data.uniform_(-1, 1)\n",
        "        self.linear2.bias.data.uniform_(-1, 1)\n",
        "        self.linear3.weight.data.uniform_(-1,1)\n",
        "        self.linear3.bias.data.uniform_(-1,1)\n",
        "\n",
        "    def forward(self, x):\n",
        "        x = x.view(-1, 28*28)\n",
        "        x = self.linear1(x)\n",
        "\n",
        "        ### TODO: add batch normalization layer\n",
        "        x = self.bn1(x)\n",
        "\n",
        "        x = torch.relu(x)\n",
        "        x = self.linear2(x)\n",
        "\n",
        "        ### TODO: add batch normalization layer\n",
        "        x = self.bn2(x)\n",
        "\n",
        "        x = torch.relu(x)\n",
        "        return self.linear3(x)"
      ],
      "execution_count": null,
      "outputs": []
    },
    {
      "cell_type": "markdown",
      "metadata": {
        "id": "hGuxRfgl1Le5"
      },
      "source": [
        "### 2.2 Training the Model\n",
        "\n",
        "Repeat training and overlay the training curves to those from (1.5) and validate it achieves similar test acc. In order to achieve the same behavior as your `train=False`/`train=True`,  you will need to use `.eval()` and `.train()` methods on your model."
      ]
    },
    {
      "cell_type": "code",
      "metadata": {
        "id": "MZ2TjMHB67n6"
      },
      "source": [
        "def train(model, optimizer, train_loader, history_frequency=50):\r\n",
        "    r\"\"\"Iterates over train_loader and optimizes model using pre-initialized\r\n",
        "    optimizer.\r\n",
        "\r\n",
        "    Args:\r\n",
        "        model (torch.nn.Module): Model to be trained\r\n",
        "        optimizer (torch.optim.Optimizer): initialized optimizer with lr and\r\n",
        "            model parameters\r\n",
        "        train_loader (torch.utils.data.DataLoader): Training set data loader\r\n",
        "        history_frequency (int): Frequency for the minibatch metrics to be \r\n",
        "            stored in minibatch_losses and minibatch_accuracies\r\n",
        "\r\n",
        "    Returns:\r\n",
        "        minibatch_losses (list of float): Minibatch loss every over the \r\n",
        "            training progress\r\n",
        "        minibatch_accuracies (list of float): Minibatch accuracy over the \r\n",
        "            training progress\r\n",
        "    \"\"\"\r\n",
        "    minibatch_losses = []\r\n",
        "    minibatch_accuracies = []\r\n",
        "\r\n",
        "    ### TODO: Use `.train()` to put model in training state\r\n",
        "    model.train()\r\n",
        "\r\n",
        "    total_train_size = 0\r\n",
        "    total_train_loss = 0\r\n",
        "    total_train_correct = 0\r\n",
        "    for i, (data, label) in enumerate(train_loader):\r\n",
        "        ### TODO: Train the network\r\n",
        "        # move inputs to desired device and dtype\r\n",
        "        data = data.to(device, dtype=torch.float32)\r\n",
        "        label = label.to(device, dtype=torch.long)\r\n",
        "\r\n",
        "        # forward pass\r\n",
        "        scores = model(data)\r\n",
        "        loss = torch.nn.functional.cross_entropy(scores, label)\r\n",
        "\r\n",
        "        # backward pass\r\n",
        "        optimizer.zero_grad() # Zero out the gradients\r\n",
        "        loss.backward() # Compute gradient of loss w.r.t. model parameters\r\n",
        "        optimizer.step() # Make a gradient update step\r\n",
        "\r\n",
        "        # Epoch loss and accuracy average\r\n",
        "        minibatch_size = len(data)\r\n",
        "        total_train_size += minibatch_size\r\n",
        "        total_train_loss += (minibatch_size * loss).item()\r\n",
        "        total_train_correct += (scores.max(dim=1)[1] == label).sum()\r\n",
        "\r\n",
        "        # update metrics\r\n",
        "        if i % history_frequency == 0:\r\n",
        "            # compute accuracy and average of loss every history_frequency iterations\r\n",
        "            train_history_loss = total_train_loss / total_train_size\r\n",
        "            train_history_acc = 100 * (float(total_train_correct) / total_train_size)\r\n",
        "            minibatch_losses.append(train_history_loss)\r\n",
        "            minibatch_accuracies.append(train_history_acc)\r\n",
        "            total_train_size = 0\r\n",
        "            total_train_loss = 0\r\n",
        "            total_train_correct = 0\r\n",
        "\r\n",
        "    return minibatch_losses, minibatch_accuracies\r\n",
        "\r\n",
        "def test(model, test_loader):\r\n",
        "    r\"\"\"Iterate over test_loader to compute the accuracy of the trained model\r\n",
        "\r\n",
        "    Args:\r\n",
        "        model (torch.nn.Module): Model to be evaluated\r\n",
        "        test_loader (torch.utils.data.DataLoader): Testing set data loader\r\n",
        "\r\n",
        "    Returns:\r\n",
        "        accuracy (float): Model accuracy on test set\r\n",
        "        loss (float): Model loss on test set\r\n",
        "    \"\"\"\r\n",
        "    accuracy = 0\r\n",
        "    loss = 0\r\n",
        "\r\n",
        "    ### TODO: Use `.eval()` to put model in evaluation state\r\n",
        "    model.eval()\r\n",
        "    num_correct = 0\r\n",
        "    num_total = 0\r\n",
        "    with torch.no_grad():  # temporarily set all requires_grad flags to False\r\n",
        "        for i, (data, label) in enumerate(train_loader):\r\n",
        "            ### TODO: perform forward pass and compute the loss and accuracy\r\n",
        "\r\n",
        "            # move inputs to desired device and dtype\r\n",
        "            data = data.to(device, dtype=torch.float32)\r\n",
        "            label = label.to(device, dtype=torch.long)\r\n",
        "\r\n",
        "            # forward pass\r\n",
        "            scores = model(data)\r\n",
        "\r\n",
        "            # compute loss and number of accurate predictions\r\n",
        "            loss += torch.nn.functional.cross_entropy(scores, label, reduction='sum').item()\r\n",
        "            preds = scores.max(dim=1)[1]\r\n",
        "            num_correct += (preds == label).sum().item()\r\n",
        "            num_total += len(preds)\r\n",
        "\r\n",
        "        # compute accuracy percentage\r\n",
        "        accuracy = 100 * (float(num_correct) / num_total)\r\n",
        "        loss /= num_total\r\n",
        "\r\n",
        "    return (loss, accuracy)"
      ],
      "execution_count": null,
      "outputs": []
    },
    {
      "cell_type": "code",
      "metadata": {
        "id": "a07pnxWgyJyQ",
        "colab": {
          "base_uri": "https://localhost:8080/"
        },
        "outputId": "9bfdd4f4-29f7-4131-f77e-20458135a355"
      },
      "source": [
        "# training hyper_parameters\r\n",
        "lr = 0.01\r\n",
        "num_epochs = 20\r\n",
        "\r\n",
        "### TODO: initialize the model and the optimizer\r\n",
        "### Reminder: The running_mean and running_variance are not updated by gradient descent!\r\n",
        "model = Model(h1_size, h2_size).to(device)\r\n",
        "optimizer = torch.optim.SGD(model.parameters(),lr)\r\n",
        "\r\n",
        "train_losses = []\r\n",
        "train_accuracies = []\r\n",
        "\r\n",
        "test_losses = []\r\n",
        "test_accuracies = []\r\n",
        "\r\n",
        "for epoch in range(num_epochs):\r\n",
        "    train_loss, train_accuracy = train(model, optimizer, train_loader)\r\n",
        "    train_losses.extend(train_loss)\r\n",
        "    train_accuracies.extend(train_accuracy)\r\n",
        "    test_loss, test_accuracy = test(model, test_loader)\r\n",
        "    test_losses.append(test_loss)\r\n",
        "    test_accuracies.append(test_accuracy)\r\n",
        "\r\n",
        "    # print training progress\r\n",
        "    print(\r\n",
        "        f'Epoch {epoch+1:02d}: '\r\n",
        "        f'train loss {train_loss[-1]:.4f}, train acc {train_accuracy[-1]:.2f}%, '\r\n",
        "        f'test loss {test_loss:.4f}, test acc {test_accuracy:.2f}%'\r\n",
        "        )"
      ],
      "execution_count": null,
      "outputs": [
        {
          "output_type": "stream",
          "text": [
            "Epoch 01: train loss 2.4218, train acc 29.78%, test loss 2.1566, test acc 34.82%\n",
            "Epoch 02: train loss 1.7142, train acc 45.31%, test loss 1.5808, test acc 48.67%\n",
            "Epoch 03: train loss 1.3570, train acc 55.47%, test loss 1.3175, test acc 56.71%\n",
            "Epoch 04: train loss 1.1986, train acc 60.74%, test loss 1.1575, test acc 61.82%\n",
            "Epoch 05: train loss 1.0746, train acc 64.85%, test loss 1.0440, test acc 65.73%\n",
            "Epoch 06: train loss 0.9935, train acc 67.86%, test loss 0.9645, test acc 68.52%\n",
            "Epoch 07: train loss 0.9282, train acc 70.10%, test loss 0.9007, test acc 70.65%\n",
            "Epoch 08: train loss 0.8710, train acc 71.73%, test loss 0.8492, test acc 72.59%\n",
            "Epoch 09: train loss 0.8371, train acc 72.76%, test loss 0.8062, test acc 74.10%\n",
            "Epoch 10: train loss 0.7839, train acc 74.84%, test loss 0.7703, test acc 75.33%\n",
            "Epoch 11: train loss 0.7398, train acc 76.38%, test loss 0.7412, test acc 76.37%\n",
            "Epoch 12: train loss 0.7403, train acc 76.50%, test loss 0.7141, test acc 77.30%\n",
            "Epoch 13: train loss 0.7029, train acc 77.60%, test loss 0.6895, test acc 78.12%\n",
            "Epoch 14: train loss 0.6851, train acc 78.05%, test loss 0.6672, test acc 78.92%\n",
            "Epoch 15: train loss 0.6751, train acc 78.33%, test loss 0.6483, test acc 79.50%\n",
            "Epoch 16: train loss 0.6628, train acc 78.95%, test loss 0.6320, test acc 79.97%\n",
            "Epoch 17: train loss 0.6345, train acc 80.15%, test loss 0.6155, test acc 80.62%\n",
            "Epoch 18: train loss 0.6143, train acc 80.63%, test loss 0.6021, test acc 81.00%\n",
            "Epoch 19: train loss 0.6042, train acc 80.94%, test loss 0.5892, test acc 81.43%\n",
            "Epoch 20: train loss 0.5815, train acc 81.72%, test loss 0.5763, test acc 81.88%\n"
          ],
          "name": "stdout"
        }
      ]
    },
    {
      "cell_type": "code",
      "metadata": {
        "id": "jVrfTlXb5Ezy",
        "colab": {
          "base_uri": "https://localhost:8080/",
          "height": 465
        },
        "outputId": "26242321-575c-4ebc-b58e-7949b4d97192"
      },
      "source": [
        "### TODO: Visualize training curves\n",
        "fig, axes = plt.subplots(1, 2, figsize=(10, 3))\n",
        "\n",
        "for ax, (metric, train_metric, test_metric) in zip(axes, [(\"loss\", train_losses, test_losses), (\"accuracy\", train_accuracies, test_accuracies)]):\n",
        "    ax.plot(np.linspace(0, len(test_metric), len(train_metric)).astype(int), train_metric, label=\"train\")\n",
        "    ax.plot(np.arange(len(test_metric)), test_metric, label=\"test\")\n",
        "    ax.set_xlabel('epoch #')\n",
        "    ax.legend()\n",
        "    name = \"Loss\" if metric == \"loss\" else \"Accuracy\"\n",
        "    ax.set_ylabel(name)\n",
        "    ax.title.set_text(f'{name} convergence')\n",
        "\n",
        "fig, axes = plt.subplots(1, 1, figsize=(10, 3))\n",
        "loss_history = train_history[f'train_acc_hist']\n",
        "axes.plot(np.arange(len(loss_history))+1, loss_history, label='train_v1')\n",
        "axes.plot(np.arange(len(train_accuracies))+1, train_accuracies, label='train_v2')\n",
        "axes.set_xlabel('iterations')\n",
        "axes.set_ylabel(name)\n",
        "axes.title.set_text('Compare Implementations')\n",
        "plt.show()"
      ],
      "execution_count": null,
      "outputs": [
        {
          "output_type": "display_data",
          "data": {
            "image/png": "[encoded data removed]",
            "text/plain": [
              "<Figure size 720x216 with 2 Axes>"
            ]
          },
          "metadata": {
            "tags": [],
            "needs_background": "light"
          }
        },
        {
          "output_type": "display_data",
          "data": {
            "image/png": "[encoded data removed]",
            "text/plain": [
              "<Figure size 720x216 with 1 Axes>"
            ]
          },
          "metadata": {
            "tags": [],
            "needs_background": "light"
          }
        }
      ]
    },
    {
      "cell_type": "markdown",
      "metadata": {
        "id": "OkM2nBhBz3mm"
      },
      "source": [
        "### 2.3 PyTorch's nn.BatchNorm1d\n",
        "Finally repeat all these steps using PyTorch's [`nn.BatchNorm1d`](https://pytorch.org/docs/stable/generated/torch.nn.BatchNorm1d.html) module and validate that the training curves match those from (1.5) and (2.2)"
      ]
    },
    {
      "cell_type": "code",
      "metadata": {
        "id": "p5otQmi3wzx4"
      },
      "source": [
        "import torch.nn as nn\n",
        "import torch.nn.functional as F\n",
        "\n",
        "# Modify this class with your custom batchnorm\n",
        "class Model(nn.Module):\n",
        "    def __init__(self, h1_size, h2_size):\n",
        "        super(Model, self).__init__()\n",
        "        self.linear1 = nn.Linear(28*28, h1_size)\n",
        "        self.linear2 = nn.Linear(h1_size, h2_size)\n",
        "        self.linear3 = nn.Linear(h2_size, 10)\n",
        "\n",
        "        ### TODO: add batch normalization module\n",
        "        self.bn1 = nn.BatchNorm1d(h1_size)\n",
        "        self.bn2 = nn.BatchNorm1d(h2_size)\n",
        "\n",
        "        self.init_weights()\n",
        "\n",
        "    def init_weights(self):\n",
        "        self.linear1.weight.data.uniform_(-1,1)\n",
        "        self.linear1.bias.data.uniform_(-1,1)\n",
        "        self.linear2.weight.data.uniform_(-1,1)\n",
        "        self.linear2.bias.data.uniform_(-1,1)\n",
        "        self.linear3.weight.data.uniform_(-1,1)\n",
        "        self.linear3.bias.data.uniform_(-1,1)\n",
        "\n",
        "        self.bn1.weight.data.fill_(1)\n",
        "        self.bn2.weight.data.fill_(1)\n",
        "        self.bn1.bias.data.zero_()\n",
        "        self.bn2.bias.data.zero_()\n",
        "\n",
        "    def forward(self, x):\n",
        "        x = x.view(-1, 28*28)\n",
        "        x = x.view(-1, 28*28)\n",
        "        x = self.linear1(x)\n",
        "\n",
        "        ### TODO: add batch normalization layer\n",
        "        x = self.bn1(x)\n",
        "\n",
        "        x = torch.relu(x)\n",
        "        x = self.linear2(x)\n",
        "        ### TODO: add batch normalization layer\n",
        "        x = self.bn2(x)\n",
        "\n",
        "        torch.relu(x)\n",
        "        return self.linear3(x)"
      ],
      "execution_count": null,
      "outputs": []
    },
    {
      "cell_type": "code",
      "metadata": {
        "id": "t1NydTaw4-7N",
        "colab": {
          "base_uri": "https://localhost:8080/"
        },
        "outputId": "9955f6c7-c608-46da-e2ba-bc5e93a81e92"
      },
      "source": [
        "# training hyper_parameters\r\n",
        "lr = 0.01\r\n",
        "num_epochs = 20\r\n",
        "\r\n",
        "### TODO: initialize the model and the optimizer\r\n",
        "model = Model(h1_size, h2_size).to(device)\r\n",
        "optimizer = torch.optim.SGD(model.parameters(),lr)\r\n",
        "\r\n",
        "train_losses2 = []\r\n",
        "train_accuracies2 = []\r\n",
        "\r\n",
        "test_losses = []\r\n",
        "test_accuracies = []\r\n",
        "\r\n",
        "for epoch in range(num_epochs):\r\n",
        "    train_loss, train_accuracy = train(model, optimizer, train_loader)\r\n",
        "    train_losses2.extend(train_loss)\r\n",
        "    train_accuracies2.extend(train_accuracy)\r\n",
        "    test_loss, test_accuracy = test(model, test_loader)\r\n",
        "    test_losses.append(test_loss)\r\n",
        "    test_accuracies.append(test_accuracy)\r\n",
        "\r\n",
        "    # print training progress\r\n",
        "    print(\r\n",
        "        f'Epoch {epoch+1:02d}: '\r\n",
        "        f'train loss {train_loss[-1]:.4f}, train acc {train_accuracy[-1]:.2f}%, '\r\n",
        "        f'test loss {test_loss:.4f}, test acc {test_accuracy:.2f}%'\r\n",
        "        )"
      ],
      "execution_count": null,
      "outputs": [
        {
          "output_type": "stream",
          "text": [
            "Epoch 01: train loss 2.5007, train acc 33.97%, test loss 2.0761, test acc 40.20%\n",
            "Epoch 02: train loss 1.5065, train acc 53.15%, test loss 1.3945, test acc 55.55%\n",
            "Epoch 03: train loss 1.2031, train acc 60.82%, test loss 1.1418, test acc 63.15%\n",
            "Epoch 04: train loss 1.0511, train acc 65.80%, test loss 1.0095, test acc 67.26%\n",
            "Epoch 05: train loss 0.9394, train acc 69.75%, test loss 0.9221, test acc 70.21%\n",
            "Epoch 06: train loss 0.8954, train acc 71.35%, test loss 0.8598, test acc 72.31%\n",
            "Epoch 07: train loss 0.8327, train acc 72.80%, test loss 0.8135, test acc 73.88%\n",
            "Epoch 08: train loss 0.7981, train acc 74.16%, test loss 0.7766, test acc 75.12%\n",
            "Epoch 09: train loss 0.7597, train acc 75.78%, test loss 0.7444, test acc 76.33%\n",
            "Epoch 10: train loss 0.7409, train acc 77.02%, test loss 0.7176, test acc 77.21%\n",
            "Epoch 11: train loss 0.6967, train acc 77.75%, test loss 0.6948, test acc 78.00%\n",
            "Epoch 12: train loss 0.6681, train acc 78.79%, test loss 0.6738, test acc 78.70%\n",
            "Epoch 13: train loss 0.6724, train acc 78.68%, test loss 0.6557, test acc 79.35%\n",
            "Epoch 14: train loss 0.6504, train acc 79.45%, test loss 0.6392, test acc 79.84%\n",
            "Epoch 15: train loss 0.6455, train acc 79.54%, test loss 0.6245, test acc 80.32%\n",
            "Epoch 16: train loss 0.6196, train acc 80.28%, test loss 0.6100, test acc 80.81%\n",
            "Epoch 17: train loss 0.6113, train acc 80.73%, test loss 0.5980, test acc 81.21%\n",
            "Epoch 18: train loss 0.6083, train acc 81.21%, test loss 0.5869, test acc 81.65%\n",
            "Epoch 19: train loss 0.5956, train acc 81.59%, test loss 0.5754, test acc 82.02%\n",
            "Epoch 20: train loss 0.5862, train acc 81.69%, test loss 0.5657, test acc 82.33%\n"
          ],
          "name": "stdout"
        }
      ]
    },
    {
      "cell_type": "code",
      "metadata": {
        "id": "q4CQLCYm5g6_",
        "colab": {
          "base_uri": "https://localhost:8080/",
          "height": 465
        },
        "outputId": "b6374233-0823-4934-c968-fe3b2bc31c8f"
      },
      "source": [
        "### TODO: Visualize training curves\n",
        "fig, axes = plt.subplots(1, 2, figsize=(10, 3))\n",
        "\n",
        "for ax, (metric, train_metric, test_metric) in zip(axes, [(\"loss\", train_losses, test_losses), (\"accuracy\", train_accuracies, test_accuracies)]):\n",
        "    ax.plot(np.linspace(0, len(test_metric), len(train_metric)).astype(int), train_metric, label=\"train\")\n",
        "    ax.plot(np.arange(len(test_metric)), test_metric, label=\"test\")\n",
        "    ax.set_xlabel('epoch #')\n",
        "    ax.legend()\n",
        "    name = \"Loss\" if metric == \"loss\" else \"Accuracy\"\n",
        "    ax.set_ylabel(name)\n",
        "    ax.title.set_text(f'{name} convergence')\n",
        "\n",
        "# Compare \n",
        "fig, axes = plt.subplots(1, 1, figsize=(10, 3))\n",
        "loss_history = train_history[f'train_acc_hist']\n",
        "axes.plot(np.arange(len(loss_history))+1, loss_history, legend='train_v1')\n",
        "axes.plot(np.arange(len(train_accuracies))+1, train_accuracies, legend='train_v1')\n",
        "axes.plot(np.arange(len(train_accuracies2))+1, train_accuracies2, legend='train_v1')\n",
        "axes.set_xlabel('iterations')\n",
        "axes.set_ylabel(name)\n",
        "axes.title.set_text('Compare Implementations')\n",
        "plt.show()"
      ],
      "execution_count": null,
      "outputs": [
        {
          "output_type": "display_data",
          "data": {
            "image/png": "[encoded data removed]",
            "text/plain": [
              "<Figure size 720x216 with 2 Axes>"
            ]
          },
          "metadata": {
            "tags": [],
            "needs_background": "light"
          }
        },
        {
          "output_type": "display_data",
          "data": {
            "image/png": "[encoded data removed]",
            "text/plain": [
              "<Figure size 720x216 with 1 Axes>"
            ]
          },
          "metadata": {
            "tags": [],
            "needs_background": "light"
          }
        }
      ]
    }
  ]
}